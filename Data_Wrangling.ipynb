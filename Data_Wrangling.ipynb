{
  "nbformat": 4,
  "nbformat_minor": 0,
  "metadata": {
    "colab": {
      "name": "Data_Wrangling.ipynb",
      "provenance": [],
      "collapsed_sections": [],
      "authorship_tag": "ABX9TyPzc5ZcD42QhqUULin3URLp",
      "include_colab_link": true
    },
    "kernelspec": {
      "name": "python3",
      "display_name": "Python 3"
    }
  },
  "cells": [
    {
      "cell_type": "markdown",
      "metadata": {
        "id": "view-in-github",
        "colab_type": "text"
      },
      "source": [
        "<a href=\"https://colab.research.google.com/github/jeffleon/Python_Google_Colab/blob/master/Data_Wrangling.ipynb\" target=\"_parent\"><img src=\"https://colab.research.google.com/assets/colab-badge.svg\" alt=\"Open In Colab\"/></a>"
      ]
    },
    {
      "cell_type": "markdown",
      "metadata": {
        "id": "5m0tfnWKt6G-",
        "colab_type": "text"
      },
      "source": [
        "#**Learning Objectives**\n",
        "-  Identify and handle missing values\n",
        "-  Data Formatting\n",
        "-  Data Normalization (centering/scaling)\n",
        "-  Data Binning "
      ]
    },
    {
      "cell_type": "markdown",
      "metadata": {
        "id": "9omdnFwAt6VP",
        "colab_type": "text"
      },
      "source": [
        "##**Missing Values**"
      ]
    },
    {
      "cell_type": "code",
      "metadata": {
        "id": "VCsA68vIsYeQ",
        "colab_type": "code",
        "colab": {}
      },
      "source": [
        "import pandas as pd\n",
        "import numpy as np"
      ],
      "execution_count": 0,
      "outputs": []
    },
    {
      "cell_type": "code",
      "metadata": {
        "id": "diBgihhOujxy",
        "colab_type": "code",
        "outputId": "d32cbe28-9e1b-4867-e01f-c842ddff78ec",
        "colab": {
          "base_uri": "https://localhost:8080/",
          "height": 204
        }
      },
      "source": [
        "df = pd.DataFrame({\"number\":[2,34,5,67,np.nan],\"blank\":[np.nan,np.nan,np.nan,np.nan,np.nan]},index=[\"uno\",\"dos\",\"tres\",\"cuatro\",\"cinco\"])\n",
        "df"
      ],
      "execution_count": 0,
      "outputs": [
        {
          "output_type": "execute_result",
          "data": {
            "text/html": [
              "<div>\n",
              "<style scoped>\n",
              "    .dataframe tbody tr th:only-of-type {\n",
              "        vertical-align: middle;\n",
              "    }\n",
              "\n",
              "    .dataframe tbody tr th {\n",
              "        vertical-align: top;\n",
              "    }\n",
              "\n",
              "    .dataframe thead th {\n",
              "        text-align: right;\n",
              "    }\n",
              "</style>\n",
              "<table border=\"1\" class=\"dataframe\">\n",
              "  <thead>\n",
              "    <tr style=\"text-align: right;\">\n",
              "      <th></th>\n",
              "      <th>number</th>\n",
              "      <th>blank</th>\n",
              "    </tr>\n",
              "  </thead>\n",
              "  <tbody>\n",
              "    <tr>\n",
              "      <th>uno</th>\n",
              "      <td>2.0</td>\n",
              "      <td>NaN</td>\n",
              "    </tr>\n",
              "    <tr>\n",
              "      <th>dos</th>\n",
              "      <td>34.0</td>\n",
              "      <td>NaN</td>\n",
              "    </tr>\n",
              "    <tr>\n",
              "      <th>tres</th>\n",
              "      <td>5.0</td>\n",
              "      <td>NaN</td>\n",
              "    </tr>\n",
              "    <tr>\n",
              "      <th>cuatro</th>\n",
              "      <td>67.0</td>\n",
              "      <td>NaN</td>\n",
              "    </tr>\n",
              "    <tr>\n",
              "      <th>cinco</th>\n",
              "      <td>NaN</td>\n",
              "      <td>NaN</td>\n",
              "    </tr>\n",
              "  </tbody>\n",
              "</table>\n",
              "</div>"
            ],
            "text/plain": [
              "        number  blank\n",
              "uno        2.0    NaN\n",
              "dos       34.0    NaN\n",
              "tres       5.0    NaN\n",
              "cuatro    67.0    NaN\n",
              "cinco      NaN    NaN"
            ]
          },
          "metadata": {
            "tags": []
          },
          "execution_count": 16
        }
      ]
    },
    {
      "cell_type": "markdown",
      "metadata": {
        "id": "Zhuy-K0g2k9x",
        "colab_type": "text"
      },
      "source": [
        "***if you one to drop use the comand***\n",
        "\n",
        "\n",
        "```\n",
        "dataframe.dropna()\n",
        "```\n",
        "- ***axis = 0*** *for a entire row*\n",
        "- ***axis = 1*** *for a entire colum* \n",
        "\n",
        "***if you want change the dataframe use the comand***\n",
        "\n",
        "\n",
        "```\n",
        " inplace = True\n",
        "```\n",
        "\n",
        "\n"
      ]
    },
    {
      "cell_type": "code",
      "metadata": {
        "id": "EbGg8HoJ2gp-",
        "colab_type": "code",
        "outputId": "e2eb4dd1-5789-4f14-ed2f-b07f183f76e4",
        "colab": {
          "base_uri": "https://localhost:8080/",
          "height": 173
        }
      },
      "source": [
        "df.dropna(subset=[\"number\"], axis=0, inplace=True)\n",
        "df"
      ],
      "execution_count": 0,
      "outputs": [
        {
          "output_type": "execute_result",
          "data": {
            "text/html": [
              "<div>\n",
              "<style scoped>\n",
              "    .dataframe tbody tr th:only-of-type {\n",
              "        vertical-align: middle;\n",
              "    }\n",
              "\n",
              "    .dataframe tbody tr th {\n",
              "        vertical-align: top;\n",
              "    }\n",
              "\n",
              "    .dataframe thead th {\n",
              "        text-align: right;\n",
              "    }\n",
              "</style>\n",
              "<table border=\"1\" class=\"dataframe\">\n",
              "  <thead>\n",
              "    <tr style=\"text-align: right;\">\n",
              "      <th></th>\n",
              "      <th>number</th>\n",
              "      <th>blank</th>\n",
              "    </tr>\n",
              "  </thead>\n",
              "  <tbody>\n",
              "    <tr>\n",
              "      <th>uno</th>\n",
              "      <td>2.0</td>\n",
              "      <td>NaN</td>\n",
              "    </tr>\n",
              "    <tr>\n",
              "      <th>dos</th>\n",
              "      <td>34.0</td>\n",
              "      <td>NaN</td>\n",
              "    </tr>\n",
              "    <tr>\n",
              "      <th>tres</th>\n",
              "      <td>5.0</td>\n",
              "      <td>NaN</td>\n",
              "    </tr>\n",
              "    <tr>\n",
              "      <th>cuatro</th>\n",
              "      <td>67.0</td>\n",
              "      <td>NaN</td>\n",
              "    </tr>\n",
              "  </tbody>\n",
              "</table>\n",
              "</div>"
            ],
            "text/plain": [
              "        number  blank\n",
              "uno        2.0    NaN\n",
              "dos       34.0    NaN\n",
              "tres       5.0    NaN\n",
              "cuatro    67.0    NaN"
            ]
          },
          "metadata": {
            "tags": []
          },
          "execution_count": 20
        }
      ]
    },
    {
      "cell_type": "code",
      "metadata": {
        "id": "AmuA0Twd4bU_",
        "colab_type": "code",
        "outputId": "6887cc12-14b4-41c0-f483-043488648959",
        "colab": {
          "base_uri": "https://localhost:8080/",
          "height": 173
        }
      },
      "source": [
        "df.dropna(subset=[\"uno\"],axis = 1, inplace=True)\n",
        "df"
      ],
      "execution_count": 0,
      "outputs": [
        {
          "output_type": "execute_result",
          "data": {
            "text/html": [
              "<div>\n",
              "<style scoped>\n",
              "    .dataframe tbody tr th:only-of-type {\n",
              "        vertical-align: middle;\n",
              "    }\n",
              "\n",
              "    .dataframe tbody tr th {\n",
              "        vertical-align: top;\n",
              "    }\n",
              "\n",
              "    .dataframe thead th {\n",
              "        text-align: right;\n",
              "    }\n",
              "</style>\n",
              "<table border=\"1\" class=\"dataframe\">\n",
              "  <thead>\n",
              "    <tr style=\"text-align: right;\">\n",
              "      <th></th>\n",
              "      <th>number</th>\n",
              "    </tr>\n",
              "  </thead>\n",
              "  <tbody>\n",
              "    <tr>\n",
              "      <th>uno</th>\n",
              "      <td>2.0</td>\n",
              "    </tr>\n",
              "    <tr>\n",
              "      <th>dos</th>\n",
              "      <td>34.0</td>\n",
              "    </tr>\n",
              "    <tr>\n",
              "      <th>tres</th>\n",
              "      <td>5.0</td>\n",
              "    </tr>\n",
              "    <tr>\n",
              "      <th>cuatro</th>\n",
              "      <td>67.0</td>\n",
              "    </tr>\n",
              "  </tbody>\n",
              "</table>\n",
              "</div>"
            ],
            "text/plain": [
              "        number\n",
              "uno        2.0\n",
              "dos       34.0\n",
              "tres       5.0\n",
              "cuatro    67.0"
            ]
          },
          "metadata": {
            "tags": []
          },
          "execution_count": 23
        }
      ]
    },
    {
      "cell_type": "code",
      "metadata": {
        "id": "WrSA6Ez96CfM",
        "colab_type": "code",
        "outputId": "8e8f28ed-a773-4415-bc84-2882f1925679",
        "colab": {
          "base_uri": "https://localhost:8080/",
          "height": 204
        }
      },
      "source": [
        "df = pd.DataFrame({\"number\":[2,34,5,67,np.nan],\"blank\":[80,np.nan,70,90,np.nan]},index=[\"uno\",\"dos\",\"tres\",\"cuatro\",\"cinco\"])\n",
        "df"
      ],
      "execution_count": 0,
      "outputs": [
        {
          "output_type": "execute_result",
          "data": {
            "text/html": [
              "<div>\n",
              "<style scoped>\n",
              "    .dataframe tbody tr th:only-of-type {\n",
              "        vertical-align: middle;\n",
              "    }\n",
              "\n",
              "    .dataframe tbody tr th {\n",
              "        vertical-align: top;\n",
              "    }\n",
              "\n",
              "    .dataframe thead th {\n",
              "        text-align: right;\n",
              "    }\n",
              "</style>\n",
              "<table border=\"1\" class=\"dataframe\">\n",
              "  <thead>\n",
              "    <tr style=\"text-align: right;\">\n",
              "      <th></th>\n",
              "      <th>number</th>\n",
              "      <th>blank</th>\n",
              "    </tr>\n",
              "  </thead>\n",
              "  <tbody>\n",
              "    <tr>\n",
              "      <th>uno</th>\n",
              "      <td>2.0</td>\n",
              "      <td>80.0</td>\n",
              "    </tr>\n",
              "    <tr>\n",
              "      <th>dos</th>\n",
              "      <td>34.0</td>\n",
              "      <td>NaN</td>\n",
              "    </tr>\n",
              "    <tr>\n",
              "      <th>tres</th>\n",
              "      <td>5.0</td>\n",
              "      <td>70.0</td>\n",
              "    </tr>\n",
              "    <tr>\n",
              "      <th>cuatro</th>\n",
              "      <td>67.0</td>\n",
              "      <td>90.0</td>\n",
              "    </tr>\n",
              "    <tr>\n",
              "      <th>cinco</th>\n",
              "      <td>NaN</td>\n",
              "      <td>NaN</td>\n",
              "    </tr>\n",
              "  </tbody>\n",
              "</table>\n",
              "</div>"
            ],
            "text/plain": [
              "        number  blank\n",
              "uno        2.0   80.0\n",
              "dos       34.0    NaN\n",
              "tres       5.0   70.0\n",
              "cuatro    67.0   90.0\n",
              "cinco      NaN    NaN"
            ]
          },
          "metadata": {
            "tags": []
          },
          "execution_count": 34
        }
      ]
    },
    {
      "cell_type": "code",
      "metadata": {
        "id": "lUaoUPD26djS",
        "colab_type": "code",
        "outputId": "eb1fff4c-3df9-4345-c115-b945b25945ed",
        "colab": {
          "base_uri": "https://localhost:8080/",
          "height": 34
        }
      },
      "source": [
        "mean = df[\"number\"].mean()\n",
        "mean"
      ],
      "execution_count": 0,
      "outputs": [
        {
          "output_type": "execute_result",
          "data": {
            "text/plain": [
              "27.0"
            ]
          },
          "metadata": {
            "tags": []
          },
          "execution_count": 35
        }
      ]
    },
    {
      "cell_type": "code",
      "metadata": {
        "id": "JrWox8Kh6oAu",
        "colab_type": "code",
        "outputId": "84266810-06c5-4f31-adae-72422164f663",
        "colab": {
          "base_uri": "https://localhost:8080/",
          "height": 204
        }
      },
      "source": [
        "df[\"number\"].replace(np.nan,mean,inplace=True)\n",
        "df"
      ],
      "execution_count": 0,
      "outputs": [
        {
          "output_type": "execute_result",
          "data": {
            "text/html": [
              "<div>\n",
              "<style scoped>\n",
              "    .dataframe tbody tr th:only-of-type {\n",
              "        vertical-align: middle;\n",
              "    }\n",
              "\n",
              "    .dataframe tbody tr th {\n",
              "        vertical-align: top;\n",
              "    }\n",
              "\n",
              "    .dataframe thead th {\n",
              "        text-align: right;\n",
              "    }\n",
              "</style>\n",
              "<table border=\"1\" class=\"dataframe\">\n",
              "  <thead>\n",
              "    <tr style=\"text-align: right;\">\n",
              "      <th></th>\n",
              "      <th>number</th>\n",
              "      <th>blank</th>\n",
              "    </tr>\n",
              "  </thead>\n",
              "  <tbody>\n",
              "    <tr>\n",
              "      <th>uno</th>\n",
              "      <td>2.0</td>\n",
              "      <td>80.0</td>\n",
              "    </tr>\n",
              "    <tr>\n",
              "      <th>dos</th>\n",
              "      <td>34.0</td>\n",
              "      <td>NaN</td>\n",
              "    </tr>\n",
              "    <tr>\n",
              "      <th>tres</th>\n",
              "      <td>5.0</td>\n",
              "      <td>70.0</td>\n",
              "    </tr>\n",
              "    <tr>\n",
              "      <th>cuatro</th>\n",
              "      <td>67.0</td>\n",
              "      <td>90.0</td>\n",
              "    </tr>\n",
              "    <tr>\n",
              "      <th>cinco</th>\n",
              "      <td>27.0</td>\n",
              "      <td>NaN</td>\n",
              "    </tr>\n",
              "  </tbody>\n",
              "</table>\n",
              "</div>"
            ],
            "text/plain": [
              "        number  blank\n",
              "uno        2.0   80.0\n",
              "dos       34.0    NaN\n",
              "tres       5.0   70.0\n",
              "cuatro    67.0   90.0\n",
              "cinco     27.0    NaN"
            ]
          },
          "metadata": {
            "tags": []
          },
          "execution_count": 36
        }
      ]
    },
    {
      "cell_type": "code",
      "metadata": {
        "id": "uXbgxwGR7c6J",
        "colab_type": "code",
        "outputId": "ed0d685d-1439-41e4-c8e2-419adfebf3bf",
        "colab": {
          "base_uri": "https://localhost:8080/",
          "height": 34
        }
      },
      "source": [
        "mean1 = df[\"blank\"].mean()\n",
        "mean1"
      ],
      "execution_count": 0,
      "outputs": [
        {
          "output_type": "execute_result",
          "data": {
            "text/plain": [
              "80.0"
            ]
          },
          "metadata": {
            "tags": []
          },
          "execution_count": 38
        }
      ]
    },
    {
      "cell_type": "code",
      "metadata": {
        "id": "SflGngnD7kwA",
        "colab_type": "code",
        "outputId": "a1ba70f0-1e0a-4ba6-b443-de11ddbf06dc",
        "colab": {
          "base_uri": "https://localhost:8080/",
          "height": 204
        }
      },
      "source": [
        "df[\"blank\"].replace(np.nan,mean1, inplace=True)\n",
        "df"
      ],
      "execution_count": 0,
      "outputs": [
        {
          "output_type": "execute_result",
          "data": {
            "text/html": [
              "<div>\n",
              "<style scoped>\n",
              "    .dataframe tbody tr th:only-of-type {\n",
              "        vertical-align: middle;\n",
              "    }\n",
              "\n",
              "    .dataframe tbody tr th {\n",
              "        vertical-align: top;\n",
              "    }\n",
              "\n",
              "    .dataframe thead th {\n",
              "        text-align: right;\n",
              "    }\n",
              "</style>\n",
              "<table border=\"1\" class=\"dataframe\">\n",
              "  <thead>\n",
              "    <tr style=\"text-align: right;\">\n",
              "      <th></th>\n",
              "      <th>number</th>\n",
              "      <th>blank</th>\n",
              "    </tr>\n",
              "  </thead>\n",
              "  <tbody>\n",
              "    <tr>\n",
              "      <th>uno</th>\n",
              "      <td>2.0</td>\n",
              "      <td>80.0</td>\n",
              "    </tr>\n",
              "    <tr>\n",
              "      <th>dos</th>\n",
              "      <td>34.0</td>\n",
              "      <td>80.0</td>\n",
              "    </tr>\n",
              "    <tr>\n",
              "      <th>tres</th>\n",
              "      <td>5.0</td>\n",
              "      <td>70.0</td>\n",
              "    </tr>\n",
              "    <tr>\n",
              "      <th>cuatro</th>\n",
              "      <td>67.0</td>\n",
              "      <td>90.0</td>\n",
              "    </tr>\n",
              "    <tr>\n",
              "      <th>cinco</th>\n",
              "      <td>27.0</td>\n",
              "      <td>80.0</td>\n",
              "    </tr>\n",
              "  </tbody>\n",
              "</table>\n",
              "</div>"
            ],
            "text/plain": [
              "        number  blank\n",
              "uno        2.0   80.0\n",
              "dos       34.0   80.0\n",
              "tres       5.0   70.0\n",
              "cuatro    67.0   90.0\n",
              "cinco     27.0   80.0"
            ]
          },
          "metadata": {
            "tags": []
          },
          "execution_count": 39
        }
      ]
    },
    {
      "cell_type": "markdown",
      "metadata": {
        "id": "s8N7R3XJukUH",
        "colab_type": "text"
      },
      "source": [
        "##**Formatting**"
      ]
    },
    {
      "cell_type": "markdown",
      "metadata": {
        "id": "p8JLkeMY78Ja",
        "colab_type": "text"
      },
      "source": [
        "![image.png](data:image/png;base64,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)"
      ]
    },
    {
      "cell_type": "code",
      "metadata": {
        "id": "TKuh9dLUvDDF",
        "colab_type": "code",
        "outputId": "1f08fd43-6e9a-4320-eb09-637c285c902f",
        "colab": {
          "base_uri": "https://localhost:8080/",
          "height": 142
        }
      },
      "source": [
        "df = pd.DataFrame({\"city-mpg\":[21,21,19]})\n",
        "df"
      ],
      "execution_count": 0,
      "outputs": [
        {
          "output_type": "execute_result",
          "data": {
            "text/html": [
              "<div>\n",
              "<style scoped>\n",
              "    .dataframe tbody tr th:only-of-type {\n",
              "        vertical-align: middle;\n",
              "    }\n",
              "\n",
              "    .dataframe tbody tr th {\n",
              "        vertical-align: top;\n",
              "    }\n",
              "\n",
              "    .dataframe thead th {\n",
              "        text-align: right;\n",
              "    }\n",
              "</style>\n",
              "<table border=\"1\" class=\"dataframe\">\n",
              "  <thead>\n",
              "    <tr style=\"text-align: right;\">\n",
              "      <th></th>\n",
              "      <th>city-mpg</th>\n",
              "    </tr>\n",
              "  </thead>\n",
              "  <tbody>\n",
              "    <tr>\n",
              "      <th>0</th>\n",
              "      <td>21</td>\n",
              "    </tr>\n",
              "    <tr>\n",
              "      <th>1</th>\n",
              "      <td>21</td>\n",
              "    </tr>\n",
              "    <tr>\n",
              "      <th>2</th>\n",
              "      <td>19</td>\n",
              "    </tr>\n",
              "  </tbody>\n",
              "</table>\n",
              "</div>"
            ],
            "text/plain": [
              "   city-mpg\n",
              "0        21\n",
              "1        21\n",
              "2        19"
            ]
          },
          "metadata": {
            "tags": []
          },
          "execution_count": 82
        }
      ]
    },
    {
      "cell_type": "code",
      "metadata": {
        "id": "Kg4Fw2wQvDKa",
        "colab_type": "code",
        "colab": {}
      },
      "source": [
        "df[\"city-mpg\"] = 235/df[\"city-mpg\"]\n",
        "\n",
        "df.rename(columns={\"city-mpg\":\"city-L/100Km\"},inplace=True)"
      ],
      "execution_count": 0,
      "outputs": []
    },
    {
      "cell_type": "markdown",
      "metadata": {
        "id": "Q8iyZzFa-hvU",
        "colab_type": "text"
      },
      "source": [
        "![image.png](data:image/png;base64,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)"
      ]
    },
    {
      "cell_type": "code",
      "metadata": {
        "id": "24YDZHnu-X_T",
        "colab_type": "code",
        "outputId": "5a0702e7-3e14-4431-d78b-4ef6ec0676e8",
        "colab": {
          "base_uri": "https://localhost:8080/",
          "height": 51
        }
      },
      "source": [
        "df.dtypes"
      ],
      "execution_count": 0,
      "outputs": [
        {
          "output_type": "execute_result",
          "data": {
            "text/plain": [
              "city-mpg    float64\n",
              "dtype: object"
            ]
          },
          "metadata": {
            "tags": []
          },
          "execution_count": 63
        }
      ]
    },
    {
      "cell_type": "code",
      "metadata": {
        "id": "dmpYBAYr-ze1",
        "colab_type": "code",
        "outputId": "58562cc2-15e2-4fc0-f3df-277aaaa56a69",
        "colab": {
          "base_uri": "https://localhost:8080/",
          "height": 51
        }
      },
      "source": [
        "df[\"city-L/100Km\"] = df[\"city-L/100Km\"].astype(\"int\")\n",
        "df.dtypes"
      ],
      "execution_count": 0,
      "outputs": [
        {
          "output_type": "execute_result",
          "data": {
            "text/plain": [
              "city-L/100Km    int64\n",
              "dtype: object"
            ]
          },
          "metadata": {
            "tags": []
          },
          "execution_count": 86
        }
      ]
    },
    {
      "cell_type": "markdown",
      "metadata": {
        "id": "Y9sFJMJwux3o",
        "colab_type": "text"
      },
      "source": [
        "##**Normalization**\n"
      ]
    },
    {
      "cell_type": "markdown",
      "metadata": {
        "id": "y08Te-JaC6pK",
        "colab_type": "text"
      },
      "source": [
        "![image.png](data:image/png;base64,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)"
      ]
    },
    {
      "cell_type": "markdown",
      "metadata": {
        "id": "Abrh6KnSDXiR",
        "colab_type": "text"
      },
      "source": [
        "![image.png](data:image/png;base64,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)"
      ]
    },
    {
      "cell_type": "code",
      "metadata": {
        "id": "MGfi5CuUvEhL",
        "colab_type": "code",
        "outputId": "c3927c9a-780c-4dde-e7af-310d991fe423",
        "colab": {
          "base_uri": "https://localhost:8080/",
          "height": 142
        }
      },
      "source": [
        "df = pd.DataFrame({\"length\":[168.8,155,180.0],\"width\":[64.1,55,65.5],\"height\":[48.8,30,52.4]})\n",
        "df"
      ],
      "execution_count": 0,
      "outputs": [
        {
          "output_type": "execute_result",
          "data": {
            "text/html": [
              "<div>\n",
              "<style scoped>\n",
              "    .dataframe tbody tr th:only-of-type {\n",
              "        vertical-align: middle;\n",
              "    }\n",
              "\n",
              "    .dataframe tbody tr th {\n",
              "        vertical-align: top;\n",
              "    }\n",
              "\n",
              "    .dataframe thead th {\n",
              "        text-align: right;\n",
              "    }\n",
              "</style>\n",
              "<table border=\"1\" class=\"dataframe\">\n",
              "  <thead>\n",
              "    <tr style=\"text-align: right;\">\n",
              "      <th></th>\n",
              "      <th>length</th>\n",
              "      <th>width</th>\n",
              "      <th>height</th>\n",
              "    </tr>\n",
              "  </thead>\n",
              "  <tbody>\n",
              "    <tr>\n",
              "      <th>0</th>\n",
              "      <td>168.8</td>\n",
              "      <td>64.1</td>\n",
              "      <td>48.8</td>\n",
              "    </tr>\n",
              "    <tr>\n",
              "      <th>1</th>\n",
              "      <td>155.0</td>\n",
              "      <td>55.0</td>\n",
              "      <td>30.0</td>\n",
              "    </tr>\n",
              "    <tr>\n",
              "      <th>2</th>\n",
              "      <td>180.0</td>\n",
              "      <td>65.5</td>\n",
              "      <td>52.4</td>\n",
              "    </tr>\n",
              "  </tbody>\n",
              "</table>\n",
              "</div>"
            ],
            "text/plain": [
              "   length  width  height\n",
              "0   168.8   64.1    48.8\n",
              "1   155.0   55.0    30.0\n",
              "2   180.0   65.5    52.4"
            ]
          },
          "metadata": {
            "tags": []
          },
          "execution_count": 103
        }
      ]
    },
    {
      "cell_type": "code",
      "metadata": {
        "id": "Lk7eCHCXvElm",
        "colab_type": "code",
        "outputId": "2e30dd3a-a817-4b95-ceb1-0867c7096e5d",
        "colab": {
          "base_uri": "https://localhost:8080/",
          "height": 142
        }
      },
      "source": [
        "df[\"length\"] = df[\"length\"]/df[\"length\"].max()\n",
        "df"
      ],
      "execution_count": 0,
      "outputs": [
        {
          "output_type": "execute_result",
          "data": {
            "text/html": [
              "<div>\n",
              "<style scoped>\n",
              "    .dataframe tbody tr th:only-of-type {\n",
              "        vertical-align: middle;\n",
              "    }\n",
              "\n",
              "    .dataframe tbody tr th {\n",
              "        vertical-align: top;\n",
              "    }\n",
              "\n",
              "    .dataframe thead th {\n",
              "        text-align: right;\n",
              "    }\n",
              "</style>\n",
              "<table border=\"1\" class=\"dataframe\">\n",
              "  <thead>\n",
              "    <tr style=\"text-align: right;\">\n",
              "      <th></th>\n",
              "      <th>length</th>\n",
              "      <th>width</th>\n",
              "      <th>height</th>\n",
              "    </tr>\n",
              "  </thead>\n",
              "  <tbody>\n",
              "    <tr>\n",
              "      <th>0</th>\n",
              "      <td>0.937778</td>\n",
              "      <td>64.1</td>\n",
              "      <td>48.8</td>\n",
              "    </tr>\n",
              "    <tr>\n",
              "      <th>1</th>\n",
              "      <td>0.861111</td>\n",
              "      <td>55.0</td>\n",
              "      <td>30.0</td>\n",
              "    </tr>\n",
              "    <tr>\n",
              "      <th>2</th>\n",
              "      <td>1.000000</td>\n",
              "      <td>65.5</td>\n",
              "      <td>52.4</td>\n",
              "    </tr>\n",
              "  </tbody>\n",
              "</table>\n",
              "</div>"
            ],
            "text/plain": [
              "     length  width  height\n",
              "0  0.937778   64.1    48.8\n",
              "1  0.861111   55.0    30.0\n",
              "2  1.000000   65.5    52.4"
            ]
          },
          "metadata": {
            "tags": []
          },
          "execution_count": 104
        }
      ]
    },
    {
      "cell_type": "code",
      "metadata": {
        "id": "XSCgD7D3Fnte",
        "colab_type": "code",
        "outputId": "fc960a5a-ce91-4542-c97b-da21caed12a3",
        "colab": {
          "base_uri": "https://localhost:8080/",
          "height": 142
        }
      },
      "source": [
        "df[\"width\"] = (df[\"width\"]-df[\"width\"].min())/(df[\"width\"].max()-df[\"width\"].min())\n",
        "df"
      ],
      "execution_count": 0,
      "outputs": [
        {
          "output_type": "execute_result",
          "data": {
            "text/html": [
              "<div>\n",
              "<style scoped>\n",
              "    .dataframe tbody tr th:only-of-type {\n",
              "        vertical-align: middle;\n",
              "    }\n",
              "\n",
              "    .dataframe tbody tr th {\n",
              "        vertical-align: top;\n",
              "    }\n",
              "\n",
              "    .dataframe thead th {\n",
              "        text-align: right;\n",
              "    }\n",
              "</style>\n",
              "<table border=\"1\" class=\"dataframe\">\n",
              "  <thead>\n",
              "    <tr style=\"text-align: right;\">\n",
              "      <th></th>\n",
              "      <th>length</th>\n",
              "      <th>width</th>\n",
              "      <th>height</th>\n",
              "    </tr>\n",
              "  </thead>\n",
              "  <tbody>\n",
              "    <tr>\n",
              "      <th>0</th>\n",
              "      <td>0.937778</td>\n",
              "      <td>0.866667</td>\n",
              "      <td>48.8</td>\n",
              "    </tr>\n",
              "    <tr>\n",
              "      <th>1</th>\n",
              "      <td>0.861111</td>\n",
              "      <td>0.000000</td>\n",
              "      <td>30.0</td>\n",
              "    </tr>\n",
              "    <tr>\n",
              "      <th>2</th>\n",
              "      <td>1.000000</td>\n",
              "      <td>1.000000</td>\n",
              "      <td>52.4</td>\n",
              "    </tr>\n",
              "  </tbody>\n",
              "</table>\n",
              "</div>"
            ],
            "text/plain": [
              "     length     width  height\n",
              "0  0.937778  0.866667    48.8\n",
              "1  0.861111  0.000000    30.0\n",
              "2  1.000000  1.000000    52.4"
            ]
          },
          "metadata": {
            "tags": []
          },
          "execution_count": 105
        }
      ]
    },
    {
      "cell_type": "code",
      "metadata": {
        "id": "N2rM8x3xHO7s",
        "colab_type": "code",
        "outputId": "74cca02d-ce7a-4794-82e8-c1cd64feda4c",
        "colab": {
          "base_uri": "https://localhost:8080/",
          "height": 142
        }
      },
      "source": [
        "df[\"height\"] = (df[\"height\"]-df[\"height\"].mean())/df[\"height\"].std()\n",
        "df"
      ],
      "execution_count": 0,
      "outputs": [
        {
          "output_type": "execute_result",
          "data": {
            "text/html": [
              "<div>\n",
              "<style scoped>\n",
              "    .dataframe tbody tr th:only-of-type {\n",
              "        vertical-align: middle;\n",
              "    }\n",
              "\n",
              "    .dataframe tbody tr th {\n",
              "        vertical-align: top;\n",
              "    }\n",
              "\n",
              "    .dataframe thead th {\n",
              "        text-align: right;\n",
              "    }\n",
              "</style>\n",
              "<table border=\"1\" class=\"dataframe\">\n",
              "  <thead>\n",
              "    <tr style=\"text-align: right;\">\n",
              "      <th></th>\n",
              "      <th>length</th>\n",
              "      <th>width</th>\n",
              "      <th>height</th>\n",
              "    </tr>\n",
              "  </thead>\n",
              "  <tbody>\n",
              "    <tr>\n",
              "      <th>0</th>\n",
              "      <td>0.937778</td>\n",
              "      <td>0.866667</td>\n",
              "      <td>0.421209</td>\n",
              "    </tr>\n",
              "    <tr>\n",
              "      <th>1</th>\n",
              "      <td>0.861111</td>\n",
              "      <td>0.000000</td>\n",
              "      <td>-1.141699</td>\n",
              "    </tr>\n",
              "    <tr>\n",
              "      <th>2</th>\n",
              "      <td>1.000000</td>\n",
              "      <td>1.000000</td>\n",
              "      <td>0.720490</td>\n",
              "    </tr>\n",
              "  </tbody>\n",
              "</table>\n",
              "</div>"
            ],
            "text/plain": [
              "     length     width    height\n",
              "0  0.937778  0.866667  0.421209\n",
              "1  0.861111  0.000000 -1.141699\n",
              "2  1.000000  1.000000  0.720490"
            ]
          },
          "metadata": {
            "tags": []
          },
          "execution_count": 106
        }
      ]
    },
    {
      "cell_type": "markdown",
      "metadata": {
        "id": "lZe1twOQu7co",
        "colab_type": "text"
      },
      "source": [
        "##**Binning**"
      ]
    },
    {
      "cell_type": "code",
      "metadata": {
        "id": "OI6XmqVvvFY4",
        "colab_type": "code",
        "outputId": "5e3931ac-72c0-498c-81e5-3c807f7e55f6",
        "colab": {
          "base_uri": "https://localhost:8080/",
          "height": 235
        }
      },
      "source": [
        "df = pd.DataFrame({\"price\":[13495,16500,18920,41315,5151,6295]})\n",
        "df"
      ],
      "execution_count": 0,
      "outputs": [
        {
          "output_type": "execute_result",
          "data": {
            "text/html": [
              "<div>\n",
              "<style scoped>\n",
              "    .dataframe tbody tr th:only-of-type {\n",
              "        vertical-align: middle;\n",
              "    }\n",
              "\n",
              "    .dataframe tbody tr th {\n",
              "        vertical-align: top;\n",
              "    }\n",
              "\n",
              "    .dataframe thead th {\n",
              "        text-align: right;\n",
              "    }\n",
              "</style>\n",
              "<table border=\"1\" class=\"dataframe\">\n",
              "  <thead>\n",
              "    <tr style=\"text-align: right;\">\n",
              "      <th></th>\n",
              "      <th>price</th>\n",
              "    </tr>\n",
              "  </thead>\n",
              "  <tbody>\n",
              "    <tr>\n",
              "      <th>0</th>\n",
              "      <td>13495</td>\n",
              "    </tr>\n",
              "    <tr>\n",
              "      <th>1</th>\n",
              "      <td>16500</td>\n",
              "    </tr>\n",
              "    <tr>\n",
              "      <th>2</th>\n",
              "      <td>18920</td>\n",
              "    </tr>\n",
              "    <tr>\n",
              "      <th>3</th>\n",
              "      <td>41315</td>\n",
              "    </tr>\n",
              "    <tr>\n",
              "      <th>4</th>\n",
              "      <td>5151</td>\n",
              "    </tr>\n",
              "    <tr>\n",
              "      <th>5</th>\n",
              "      <td>6295</td>\n",
              "    </tr>\n",
              "  </tbody>\n",
              "</table>\n",
              "</div>"
            ],
            "text/plain": [
              "   price\n",
              "0  13495\n",
              "1  16500\n",
              "2  18920\n",
              "3  41315\n",
              "4   5151\n",
              "5   6295"
            ]
          },
          "metadata": {
            "tags": []
          },
          "execution_count": 108
        }
      ]
    },
    {
      "cell_type": "code",
      "metadata": {
        "id": "GeBInt6kvFcU",
        "colab_type": "code",
        "outputId": "32917c79-9530-44f2-e076-148cb354f9d1",
        "colab": {
          "base_uri": "https://localhost:8080/",
          "height": 34
        }
      },
      "source": [
        "bins = np.linspace(df[\"price\"].min(),df[\"price\"].max(),4)\n",
        "bins"
      ],
      "execution_count": 0,
      "outputs": [
        {
          "output_type": "execute_result",
          "data": {
            "text/plain": [
              "array([ 5151.        , 17205.66666667, 29260.33333333, 41315.        ])"
            ]
          },
          "metadata": {
            "tags": []
          },
          "execution_count": 114
        }
      ]
    },
    {
      "cell_type": "code",
      "metadata": {
        "id": "SX0f-DrvPKu7",
        "colab_type": "code",
        "colab": {}
      },
      "source": [
        "group_names = [\"Low\",\"Medium\",\"High\"]"
      ],
      "execution_count": 0,
      "outputs": []
    },
    {
      "cell_type": "code",
      "metadata": {
        "id": "bR3CHZb0PVXs",
        "colab_type": "code",
        "outputId": "4814b878-0b62-4986-d7c7-69dd2c6965ff",
        "colab": {
          "base_uri": "https://localhost:8080/",
          "height": 235
        }
      },
      "source": [
        "df[\"price_binned\"] = pd.cut(df[\"price\"],bins)\n",
        "df"
      ],
      "execution_count": 0,
      "outputs": [
        {
          "output_type": "execute_result",
          "data": {
            "text/html": [
              "<div>\n",
              "<style scoped>\n",
              "    .dataframe tbody tr th:only-of-type {\n",
              "        vertical-align: middle;\n",
              "    }\n",
              "\n",
              "    .dataframe tbody tr th {\n",
              "        vertical-align: top;\n",
              "    }\n",
              "\n",
              "    .dataframe thead th {\n",
              "        text-align: right;\n",
              "    }\n",
              "</style>\n",
              "<table border=\"1\" class=\"dataframe\">\n",
              "  <thead>\n",
              "    <tr style=\"text-align: right;\">\n",
              "      <th></th>\n",
              "      <th>price</th>\n",
              "      <th>price_binned</th>\n",
              "    </tr>\n",
              "  </thead>\n",
              "  <tbody>\n",
              "    <tr>\n",
              "      <th>0</th>\n",
              "      <td>13495</td>\n",
              "      <td>(5151.0, 17205.667]</td>\n",
              "    </tr>\n",
              "    <tr>\n",
              "      <th>1</th>\n",
              "      <td>16500</td>\n",
              "      <td>(5151.0, 17205.667]</td>\n",
              "    </tr>\n",
              "    <tr>\n",
              "      <th>2</th>\n",
              "      <td>18920</td>\n",
              "      <td>(17205.667, 29260.333]</td>\n",
              "    </tr>\n",
              "    <tr>\n",
              "      <th>3</th>\n",
              "      <td>41315</td>\n",
              "      <td>(29260.333, 41315.0]</td>\n",
              "    </tr>\n",
              "    <tr>\n",
              "      <th>4</th>\n",
              "      <td>5151</td>\n",
              "      <td>NaN</td>\n",
              "    </tr>\n",
              "    <tr>\n",
              "      <th>5</th>\n",
              "      <td>6295</td>\n",
              "      <td>(5151.0, 17205.667]</td>\n",
              "    </tr>\n",
              "  </tbody>\n",
              "</table>\n",
              "</div>"
            ],
            "text/plain": [
              "   price            price_binned\n",
              "0  13495     (5151.0, 17205.667]\n",
              "1  16500     (5151.0, 17205.667]\n",
              "2  18920  (17205.667, 29260.333]\n",
              "3  41315    (29260.333, 41315.0]\n",
              "4   5151                     NaN\n",
              "5   6295     (5151.0, 17205.667]"
            ]
          },
          "metadata": {
            "tags": []
          },
          "execution_count": 122
        }
      ]
    },
    {
      "cell_type": "code",
      "metadata": {
        "id": "k1rBHkmrQvdn",
        "colab_type": "code",
        "outputId": "11ca8698-b081-4ba7-e843-3fd0c7f62f01",
        "colab": {
          "base_uri": "https://localhost:8080/",
          "height": 235
        }
      },
      "source": [
        "df[\"price_binned\"] = pd.cut(df[\"price\"],bins,labels = group_names,include_lowest=True)\n",
        "df"
      ],
      "execution_count": 0,
      "outputs": [
        {
          "output_type": "execute_result",
          "data": {
            "text/html": [
              "<div>\n",
              "<style scoped>\n",
              "    .dataframe tbody tr th:only-of-type {\n",
              "        vertical-align: middle;\n",
              "    }\n",
              "\n",
              "    .dataframe tbody tr th {\n",
              "        vertical-align: top;\n",
              "    }\n",
              "\n",
              "    .dataframe thead th {\n",
              "        text-align: right;\n",
              "    }\n",
              "</style>\n",
              "<table border=\"1\" class=\"dataframe\">\n",
              "  <thead>\n",
              "    <tr style=\"text-align: right;\">\n",
              "      <th></th>\n",
              "      <th>price</th>\n",
              "      <th>price_binned</th>\n",
              "    </tr>\n",
              "  </thead>\n",
              "  <tbody>\n",
              "    <tr>\n",
              "      <th>0</th>\n",
              "      <td>13495</td>\n",
              "      <td>Low</td>\n",
              "    </tr>\n",
              "    <tr>\n",
              "      <th>1</th>\n",
              "      <td>16500</td>\n",
              "      <td>Low</td>\n",
              "    </tr>\n",
              "    <tr>\n",
              "      <th>2</th>\n",
              "      <td>18920</td>\n",
              "      <td>Medium</td>\n",
              "    </tr>\n",
              "    <tr>\n",
              "      <th>3</th>\n",
              "      <td>41315</td>\n",
              "      <td>High</td>\n",
              "    </tr>\n",
              "    <tr>\n",
              "      <th>4</th>\n",
              "      <td>5151</td>\n",
              "      <td>Low</td>\n",
              "    </tr>\n",
              "    <tr>\n",
              "      <th>5</th>\n",
              "      <td>6295</td>\n",
              "      <td>Low</td>\n",
              "    </tr>\n",
              "  </tbody>\n",
              "</table>\n",
              "</div>"
            ],
            "text/plain": [
              "   price price_binned\n",
              "0  13495          Low\n",
              "1  16500          Low\n",
              "2  18920       Medium\n",
              "3  41315         High\n",
              "4   5151          Low\n",
              "5   6295          Low"
            ]
          },
          "metadata": {
            "tags": []
          },
          "execution_count": 123
        }
      ]
    },
    {
      "cell_type": "code",
      "metadata": {
        "id": "j6JPM1JEQzq3",
        "colab_type": "code",
        "colab": {}
      },
      "source": [
        "import matplotlib.pyplot as plt"
      ],
      "execution_count": 0,
      "outputs": []
    },
    {
      "cell_type": "code",
      "metadata": {
        "id": "Pr7vwNP2Q78f",
        "colab_type": "code",
        "outputId": "99b9d7f5-7a45-4515-f3f5-e2600ee9da00",
        "colab": {
          "base_uri": "https://localhost:8080/",
          "height": 265
        }
      },
      "source": [
        "plt.hist(df[\"price\"],3)\n",
        "plt.show()"
      ],
      "execution_count": 0,
      "outputs": [
        {
          "output_type": "display_data",
          "data": {
            "image/png": "[encoded data removed]",
            "text/plain": [
              "<Figure size 432x288 with 1 Axes>"
            ]
          },
          "metadata": {
            "tags": [],
            "needs_background": "light"
          }
        }
      ]
    },
    {
      "cell_type": "markdown",
      "metadata": {
        "id": "ohHrl3-fSXM8",
        "colab_type": "text"
      },
      "source": [
        "#**Turning categorical Variables into quantitaive variables in Python**"
      ]
    },
    {
      "cell_type": "code",
      "metadata": {
        "id": "-wvRNSiJSpV9",
        "colab_type": "code",
        "outputId": "7c1369ee-0763-4d99-f332-82557a73076d",
        "colab": {
          "base_uri": "https://localhost:8080/",
          "height": 204
        }
      },
      "source": [
        "df = pd.DataFrame({\"Car\":[\"A\",\"B\",\"C\",\"D\"],\"Fuel\":[\"gas\",\"Fuel\",\"gas\",\"Fuel\"]})\n",
        "df.set_index(\"Car\")"
      ],
      "execution_count": 0,
      "outputs": [
        {
          "output_type": "execute_result",
          "data": {
            "text/html": [
              "<div>\n",
              "<style scoped>\n",
              "    .dataframe tbody tr th:only-of-type {\n",
              "        vertical-align: middle;\n",
              "    }\n",
              "\n",
              "    .dataframe tbody tr th {\n",
              "        vertical-align: top;\n",
              "    }\n",
              "\n",
              "    .dataframe thead th {\n",
              "        text-align: right;\n",
              "    }\n",
              "</style>\n",
              "<table border=\"1\" class=\"dataframe\">\n",
              "  <thead>\n",
              "    <tr style=\"text-align: right;\">\n",
              "      <th></th>\n",
              "      <th>Fuel</th>\n",
              "    </tr>\n",
              "    <tr>\n",
              "      <th>Car</th>\n",
              "      <th></th>\n",
              "    </tr>\n",
              "  </thead>\n",
              "  <tbody>\n",
              "    <tr>\n",
              "      <th>A</th>\n",
              "      <td>gas</td>\n",
              "    </tr>\n",
              "    <tr>\n",
              "      <th>B</th>\n",
              "      <td>Fuel</td>\n",
              "    </tr>\n",
              "    <tr>\n",
              "      <th>C</th>\n",
              "      <td>gas</td>\n",
              "    </tr>\n",
              "    <tr>\n",
              "      <th>D</th>\n",
              "      <td>Fuel</td>\n",
              "    </tr>\n",
              "  </tbody>\n",
              "</table>\n",
              "</div>"
            ],
            "text/plain": [
              "     Fuel\n",
              "Car      \n",
              "A     gas\n",
              "B    Fuel\n",
              "C     gas\n",
              "D    Fuel"
            ]
          },
          "metadata": {
            "tags": []
          },
          "execution_count": 137
        }
      ]
    },
    {
      "cell_type": "code",
      "metadata": {
        "id": "ZWUKV8MlTTlH",
        "colab_type": "code",
        "outputId": "946fa33e-c526-4332-d397-792ceab2f8cb",
        "colab": {
          "base_uri": "https://localhost:8080/",
          "height": 173
        }
      },
      "source": [
        "df = pd.get_dummies(df[\"Fuel\"])\n",
        "df"
      ],
      "execution_count": 0,
      "outputs": [
        {
          "output_type": "execute_result",
          "data": {
            "text/html": [
              "<div>\n",
              "<style scoped>\n",
              "    .dataframe tbody tr th:only-of-type {\n",
              "        vertical-align: middle;\n",
              "    }\n",
              "\n",
              "    .dataframe tbody tr th {\n",
              "        vertical-align: top;\n",
              "    }\n",
              "\n",
              "    .dataframe thead th {\n",
              "        text-align: right;\n",
              "    }\n",
              "</style>\n",
              "<table border=\"1\" class=\"dataframe\">\n",
              "  <thead>\n",
              "    <tr style=\"text-align: right;\">\n",
              "      <th></th>\n",
              "      <th>Fuel</th>\n",
              "      <th>gas</th>\n",
              "    </tr>\n",
              "  </thead>\n",
              "  <tbody>\n",
              "    <tr>\n",
              "      <th>0</th>\n",
              "      <td>0</td>\n",
              "      <td>1</td>\n",
              "    </tr>\n",
              "    <tr>\n",
              "      <th>1</th>\n",
              "      <td>1</td>\n",
              "      <td>0</td>\n",
              "    </tr>\n",
              "    <tr>\n",
              "      <th>2</th>\n",
              "      <td>0</td>\n",
              "      <td>1</td>\n",
              "    </tr>\n",
              "    <tr>\n",
              "      <th>3</th>\n",
              "      <td>1</td>\n",
              "      <td>0</td>\n",
              "    </tr>\n",
              "  </tbody>\n",
              "</table>\n",
              "</div>"
            ],
            "text/plain": [
              "   Fuel  gas\n",
              "0     0    1\n",
              "1     1    0\n",
              "2     0    1\n",
              "3     1    0"
            ]
          },
          "metadata": {
            "tags": []
          },
          "execution_count": 138
        }
      ]
    }
  ]
}