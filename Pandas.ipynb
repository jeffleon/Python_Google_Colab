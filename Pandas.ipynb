{
  "nbformat": 4,
  "nbformat_minor": 0,
  "metadata": {
    "colab": {
      "name": "Pandas.ipynb",
      "provenance": [],
      "collapsed_sections": [],
      "authorship_tag": "ABX9TyOyYwh2GpBvEbZKSVA7jmhx",
      "include_colab_link": true
    },
    "kernelspec": {
      "name": "python3",
      "display_name": "Python 3"
    }
  },
  "cells": [
    {
      "cell_type": "markdown",
      "metadata": {
        "id": "view-in-github",
        "colab_type": "text"
      },
      "source": [
        "<a href=\"https://colab.research.google.com/github/jeffleon/Python_Google_Colab/blob/master/Pandas.ipynb\" target=\"_parent\"><img src=\"https://colab.research.google.com/assets/colab-badge.svg\" alt=\"Open In Colab\"/></a>"
      ]
    },
    {
      "cell_type": "markdown",
      "metadata": {
        "id": "Af2f1fUfsffz",
        "colab_type": "text"
      },
      "source": [
        "# **Exercise 1 Pandas Introduction**\n",
        "- Series\n",
        "- Data Frames\n"
      ]
    },
    {
      "cell_type": "code",
      "metadata": {
        "id": "PsPezbjrrnRT",
        "colab_type": "code",
        "colab": {}
      },
      "source": [
        "import pandas as pd\n",
        "import numpy as np\n",
        "import random"
      ],
      "execution_count": 0,
      "outputs": []
    },
    {
      "cell_type": "markdown",
      "metadata": {
        "id": "Zl8z3yBy8hEL",
        "colab_type": "text"
      },
      "source": [
        "## **Series :**"
      ]
    },
    {
      "cell_type": "markdown",
      "metadata": {
        "id": "gBlUG_vaym1c",
        "colab_type": "text"
      },
      "source": [
        "**1. creacion de una serie**\n",
        "\n",
        "\n"
      ]
    },
    {
      "cell_type": "code",
      "metadata": {
        "id": "PTy-H-_urqqd",
        "colab_type": "code",
        "outputId": "7edbbc2f-68b0-4f14-c0c8-d41fdc730d83",
        "colab": {
          "base_uri": "https://localhost:8080/",
          "height": 136
        }
      },
      "source": [
        "serie_1 = pd.Series([3 , 4 , 5, 6, 7 , 8])\n",
        "serie_1"
      ],
      "execution_count": 0,
      "outputs": [
        {
          "output_type": "execute_result",
          "data": {
            "text/plain": [
              "0    3\n",
              "1    4\n",
              "2    5\n",
              "3    6\n",
              "4    7\n",
              "5    8\n",
              "dtype: int64"
            ]
          },
          "metadata": {
            "tags": []
          },
          "execution_count": 16
        }
      ]
    },
    {
      "cell_type": "markdown",
      "metadata": {
        "id": "sh0p3stG02qJ",
        "colab_type": "text"
      },
      "source": [
        "- *para colocar un indice a la serie es necesario hacerlo de dos maneras*\n",
        "  1. ```\n",
        "  serie = pd.Series([serie], index = [indices])\n",
        "```\n",
        "  2. ```\n",
        "  elementos = {'Archery': 'Bhutan',\n",
        "                'Golf': 'Scotland',\n",
        "                'Sumo': 'Japan',\n",
        "                'Taekwondo': 'South Korea'}\n",
        "  serie = pd.Series(elementos)\n",
        "```\n",
        "**el numero de indices debe coincidir con el numero de elementos de la lista*\n",
        "**en el segundo ejemplo la primera columna se convertirian en los indices*\n",
        "\n"
      ]
    },
    {
      "cell_type": "code",
      "metadata": {
        "id": "dDCaL4AqzD1g",
        "colab_type": "code",
        "outputId": "f8054b30-79f2-448b-cea8-0a2efab5d4e3",
        "colab": {
          "base_uri": "https://localhost:8080/",
          "height": 102
        }
      },
      "source": [
        "serie_2 = pd.Series(['Tigre', 'Perro' , 'Gato' , 'Leon'], index = ['#1' , '#2' , '#3' , '#4'])\n",
        "serie_2"
      ],
      "execution_count": 0,
      "outputs": [
        {
          "output_type": "execute_result",
          "data": {
            "text/plain": [
              "#1    Tigre\n",
              "#2    Perro\n",
              "#3     Gato\n",
              "#4     Leon\n",
              "dtype: object"
            ]
          },
          "metadata": {
            "tags": []
          },
          "execution_count": 14
        }
      ]
    },
    {
      "cell_type": "code",
      "metadata": {
        "id": "BNFKsqMd3rbI",
        "colab_type": "code",
        "outputId": "fc1fff27-0b37-46a4-e25a-408c2d642eac",
        "colab": {
          "base_uri": "https://localhost:8080/",
          "height": 102
        }
      },
      "source": [
        "elementos = {'Archery': 'Bhutan',\n",
        "           'Golf': 'Scotland',\n",
        "           'Sumo': 'Japan',\n",
        "           'Taekwondo': 'South Korea'}\n",
        "serie = pd.Series(elementos)\n",
        "serie"
      ],
      "execution_count": 0,
      "outputs": [
        {
          "output_type": "execute_result",
          "data": {
            "text/plain": [
              "Archery           Bhutan\n",
              "Golf            Scotland\n",
              "Sumo               Japan\n",
              "Taekwondo    South Korea\n",
              "dtype: object"
            ]
          },
          "metadata": {
            "tags": []
          },
          "execution_count": 20
        }
      ]
    },
    {
      "cell_type": "markdown",
      "metadata": {
        "id": "J5f0tEFA4pqR",
        "colab_type": "text"
      },
      "source": [
        "**2. Accediendo a elementos de la serie**\n",
        "\n",
        "*   **loc =>**  se accede por medio de los indices \n",
        "*   **iloc =>** se accede por la posicion del elemento\n",
        "\n"
      ]
    },
    {
      "cell_type": "code",
      "metadata": {
        "id": "7-B26Smc5txP",
        "colab_type": "code",
        "outputId": "b6fddc56-a411-4bd4-e415-6a8955c54208",
        "colab": {
          "base_uri": "https://localhost:8080/",
          "height": 34
        }
      },
      "source": [
        "serie.loc['Golf'] , serie.loc['Sumo']"
      ],
      "execution_count": 0,
      "outputs": [
        {
          "output_type": "execute_result",
          "data": {
            "text/plain": [
              "('Scotland', 'Japan')"
            ]
          },
          "metadata": {
            "tags": []
          },
          "execution_count": 24
        }
      ]
    },
    {
      "cell_type": "code",
      "metadata": {
        "id": "sd2vJkc-1MXM",
        "colab_type": "code",
        "outputId": "ace92a5b-ebda-462a-a2b5-fe48e976ba2a",
        "colab": {
          "base_uri": "https://localhost:8080/",
          "height": 34
        }
      },
      "source": [
        " serie.iloc[1] , serie.iloc[2]"
      ],
      "execution_count": 0,
      "outputs": [
        {
          "output_type": "execute_result",
          "data": {
            "text/plain": [
              "('Scotland', 'Japan')"
            ]
          },
          "metadata": {
            "tags": []
          },
          "execution_count": 25
        }
      ]
    },
    {
      "cell_type": "code",
      "metadata": {
        "id": "GzlPy9ii6DK9",
        "colab_type": "code",
        "colab": {}
      },
      "source": [
        "Sports = pd.Series({'Archery': 'Bhutan',\n",
        "           'Golf': 'Scotland',\n",
        "           'Sumo': 'Japan',\n",
        "           'Taekwondo': 'South Korea'})\n",
        "ContriesLoveCricket = pd.Series(['Australia',\n",
        "                                 'Barbados',\n",
        "                                 'Pakistan',\n",
        "                                 'England'], index = ['Cricket' , 'Cricket' , 'Cricket' , 'Cricket'])\n",
        "all_countries = Sports.append(ContriesLoveCricket)"
      ],
      "execution_count": 0,
      "outputs": []
    },
    {
      "cell_type": "code",
      "metadata": {
        "id": "io9XfLgs8J5x",
        "colab_type": "code",
        "outputId": "b8fca5c1-343f-4838-8f5a-3be2f674633f",
        "colab": {
          "base_uri": "https://localhost:8080/",
          "height": 102
        }
      },
      "source": [
        "Sports"
      ],
      "execution_count": 0,
      "outputs": [
        {
          "output_type": "execute_result",
          "data": {
            "text/plain": [
              "Archery           Bhutan\n",
              "Golf            Scotland\n",
              "Sumo               Japan\n",
              "Taekwondo    South Korea\n",
              "dtype: object"
            ]
          },
          "metadata": {
            "tags": []
          },
          "execution_count": 28
        }
      ]
    },
    {
      "cell_type": "code",
      "metadata": {
        "id": "h8fp9z-D8L4d",
        "colab_type": "code",
        "outputId": "f879ca66-1e9e-427a-800b-0d9780c919ea",
        "colab": {
          "base_uri": "https://localhost:8080/",
          "height": 102
        }
      },
      "source": [
        "ContriesLoveCricket"
      ],
      "execution_count": 0,
      "outputs": [
        {
          "output_type": "execute_result",
          "data": {
            "text/plain": [
              "Cricket    Australia\n",
              "Cricket     Barbados\n",
              "Cricket     Pakistan\n",
              "Cricket      England\n",
              "dtype: object"
            ]
          },
          "metadata": {
            "tags": []
          },
          "execution_count": 29
        }
      ]
    },
    {
      "cell_type": "code",
      "metadata": {
        "id": "3lm3RsNi8Qa-",
        "colab_type": "code",
        "outputId": "dd1edfa6-52f3-4068-a093-a5d71eb63c11",
        "colab": {
          "base_uri": "https://localhost:8080/",
          "height": 170
        }
      },
      "source": [
        "all_countries"
      ],
      "execution_count": 0,
      "outputs": [
        {
          "output_type": "execute_result",
          "data": {
            "text/plain": [
              "Archery           Bhutan\n",
              "Golf            Scotland\n",
              "Sumo               Japan\n",
              "Taekwondo    South Korea\n",
              "Cricket        Australia\n",
              "Cricket         Barbados\n",
              "Cricket         Pakistan\n",
              "Cricket          England\n",
              "dtype: object"
            ]
          },
          "metadata": {
            "tags": []
          },
          "execution_count": 33
        }
      ]
    },
    {
      "cell_type": "markdown",
      "metadata": {
        "id": "wDif5VTZ86Wp",
        "colab_type": "text"
      },
      "source": [
        "## **Data Frames :**"
      ]
    },
    {
      "cell_type": "markdown",
      "metadata": {
        "id": "wFFbmrx89LoG",
        "colab_type": "text"
      },
      "source": [
        "**1. Creacion de un Data Frame** un data frame es la union de varias series\n",
        "\n",
        "\n",
        "```\n",
        " df = pd.DataFrame([Serie_1 , Serie_2, Serie_3], index=[Indices])\n",
        "```\n",
        "\n"
      ]
    },
    {
      "cell_type": "code",
      "metadata": {
        "id": "_hrU_h2N9C_9",
        "colab_type": "code",
        "outputId": "2890423f-4bb7-4966-a467-9fdd11ce8c9c",
        "colab": {
          "base_uri": "https://localhost:8080/",
          "height": 142
        }
      },
      "source": [
        "purchase_1 = pd.Series({'Name': 'Chris ',\n",
        "                        'Item': 'Dog Food',\n",
        "                        'Cost': 22.50})\n",
        "purchase_2 = pd.Series({'Name': 'Kevyn',\n",
        "                        'Item': 'Kitty Litter',\n",
        "                        'Cost': 2.50})\n",
        "purchase_3 = pd.Series({'Name': 'Vinod',\n",
        "                        'Item': 'Bird Seed',\n",
        "                        'Cost': 5.00})\n",
        "df = pd.DataFrame([purchase_1, purchase_2, purchase_3] , index=['Store 1', 'Store 2', 'Store 3'])\n",
        "df"
      ],
      "execution_count": 0,
      "outputs": [
        {
          "output_type": "execute_result",
          "data": {
            "text/html": [
              "<div>\n",
              "<style scoped>\n",
              "    .dataframe tbody tr th:only-of-type {\n",
              "        vertical-align: middle;\n",
              "    }\n",
              "\n",
              "    .dataframe tbody tr th {\n",
              "        vertical-align: top;\n",
              "    }\n",
              "\n",
              "    .dataframe thead th {\n",
              "        text-align: right;\n",
              "    }\n",
              "</style>\n",
              "<table border=\"1\" class=\"dataframe\">\n",
              "  <thead>\n",
              "    <tr style=\"text-align: right;\">\n",
              "      <th></th>\n",
              "      <th>Name</th>\n",
              "      <th>Item</th>\n",
              "      <th>Cost</th>\n",
              "    </tr>\n",
              "  </thead>\n",
              "  <tbody>\n",
              "    <tr>\n",
              "      <th>Store 1</th>\n",
              "      <td>Chris</td>\n",
              "      <td>Dog Food</td>\n",
              "      <td>22.5</td>\n",
              "    </tr>\n",
              "    <tr>\n",
              "      <th>Store 2</th>\n",
              "      <td>Kevyn</td>\n",
              "      <td>Kitty Litter</td>\n",
              "      <td>2.5</td>\n",
              "    </tr>\n",
              "    <tr>\n",
              "      <th>Store 3</th>\n",
              "      <td>Vinod</td>\n",
              "      <td>Bird Seed</td>\n",
              "      <td>5.0</td>\n",
              "    </tr>\n",
              "  </tbody>\n",
              "</table>\n",
              "</div>"
            ],
            "text/plain": [
              "           Name          Item  Cost\n",
              "Store 1  Chris       Dog Food  22.5\n",
              "Store 2   Kevyn  Kitty Litter   2.5\n",
              "Store 3   Vinod     Bird Seed   5.0"
            ]
          },
          "metadata": {
            "tags": []
          },
          "execution_count": 85
        }
      ]
    },
    {
      "cell_type": "markdown",
      "metadata": {
        "id": "cjPyxbctFIDs",
        "colab_type": "text"
      },
      "source": [
        "**2. Accediendo a elementos de la serie**\n",
        "\n",
        "*   **loc =>**  se accede por medio de los indices \n",
        "*   **iloc =>** se accede por la posicion del elemento\n"
      ]
    },
    {
      "cell_type": "markdown",
      "metadata": {
        "id": "ASfQ9t1HFUhw",
        "colab_type": "text"
      },
      "source": [
        "The same"
      ]
    },
    {
      "cell_type": "code",
      "metadata": {
        "id": "CbZh8kCrEg2-",
        "colab_type": "code",
        "outputId": "0d452655-6101-4809-c124-875a5ce0e810",
        "colab": {
          "base_uri": "https://localhost:8080/",
          "height": 34
        }
      },
      "source": [
        "df.loc['Store 1', 'Cost']"
      ],
      "execution_count": 0,
      "outputs": [
        {
          "output_type": "execute_result",
          "data": {
            "text/plain": [
              "22.5"
            ]
          },
          "metadata": {
            "tags": []
          },
          "execution_count": 86
        }
      ]
    },
    {
      "cell_type": "code",
      "metadata": {
        "id": "xa4T-IHxE8il",
        "colab_type": "code",
        "outputId": "c1babcf0-9340-4a67-ef1f-d76b89fe5e9a",
        "colab": {
          "base_uri": "https://localhost:8080/",
          "height": 34
        }
      },
      "source": [
        "df.loc['Store 1']['Cost']"
      ],
      "execution_count": 0,
      "outputs": [
        {
          "output_type": "execute_result",
          "data": {
            "text/plain": [
              "22.5"
            ]
          },
          "metadata": {
            "tags": []
          },
          "execution_count": 87
        }
      ]
    },
    {
      "cell_type": "markdown",
      "metadata": {
        "id": "-u-6zBUVFe2g",
        "colab_type": "text"
      },
      "source": [
        ""
      ]
    },
    {
      "cell_type": "code",
      "metadata": {
        "id": "cIw7Mx54GFVV",
        "colab_type": "code",
        "outputId": "efba3044-0650-4d94-8d8a-f55db4f799e3",
        "colab": {
          "base_uri": "https://localhost:8080/",
          "height": 111
        }
      },
      "source": [
        "df.loc['Store 2':, ['Name','Cost']]"
      ],
      "execution_count": 0,
      "outputs": [
        {
          "output_type": "execute_result",
          "data": {
            "text/html": [
              "<div>\n",
              "<style scoped>\n",
              "    .dataframe tbody tr th:only-of-type {\n",
              "        vertical-align: middle;\n",
              "    }\n",
              "\n",
              "    .dataframe tbody tr th {\n",
              "        vertical-align: top;\n",
              "    }\n",
              "\n",
              "    .dataframe thead th {\n",
              "        text-align: right;\n",
              "    }\n",
              "</style>\n",
              "<table border=\"1\" class=\"dataframe\">\n",
              "  <thead>\n",
              "    <tr style=\"text-align: right;\">\n",
              "      <th></th>\n",
              "      <th>Name</th>\n",
              "      <th>Cost</th>\n",
              "    </tr>\n",
              "  </thead>\n",
              "  <tbody>\n",
              "    <tr>\n",
              "      <th>Store 2</th>\n",
              "      <td>Kevyn</td>\n",
              "      <td>2.5</td>\n",
              "    </tr>\n",
              "    <tr>\n",
              "      <th>Store 3</th>\n",
              "      <td>Vinod</td>\n",
              "      <td>5.0</td>\n",
              "    </tr>\n",
              "  </tbody>\n",
              "</table>\n",
              "</div>"
            ],
            "text/plain": [
              "          Name  Cost\n",
              "Store 2  Kevyn   2.5\n",
              "Store 3  Vinod   5.0"
            ]
          },
          "metadata": {
            "tags": []
          },
          "execution_count": 88
        }
      ]
    },
    {
      "cell_type": "code",
      "metadata": {
        "id": "TtKkci-BN4wm",
        "colab_type": "code",
        "outputId": "72e30548-2347-46a2-dde6-949336458bf6",
        "colab": {
          "base_uri": "https://localhost:8080/",
          "height": 204
        }
      },
      "source": [
        "purchase_1 = pd.Series({'Name': 'Chris ',\n",
        "                        'Item': 'Dog Food',\n",
        "                        'Cost': 22.50})\n",
        "purchase_2 = pd.Series({'Name': 'Kevyn',\n",
        "                        'Item': 'Kitty Litter',\n",
        "                        'Cost': 10.50})\n",
        "purchase_3 = pd.Series({'Name': 'Vinod',\n",
        "                        'Item': 'Bird Seed',\n",
        "                        'Cost': 15.00})\n",
        "purchase_4 = pd.Series({'Name': 'Heidis',\n",
        "                        'Item': 'Sea Food',\n",
        "                        'Cost': 50.00})\n",
        "purchase_5 = pd.Series({'Name': 'Vicnolo',\n",
        "                        'Item': 'Coco Food',\n",
        "                        'Cost': 30.00})\n",
        "df = pd.DataFrame([purchase_1, purchase_2, purchase_3, purchase_4, purchase_5] , \n",
        "                    index=['Store 1', 'Store 2', 'Store 3', 'Store 4', 'Store 5'])\n",
        "df"
      ],
      "execution_count": 0,
      "outputs": [
        {
          "output_type": "execute_result",
          "data": {
            "text/html": [
              "<div>\n",
              "<style scoped>\n",
              "    .dataframe tbody tr th:only-of-type {\n",
              "        vertical-align: middle;\n",
              "    }\n",
              "\n",
              "    .dataframe tbody tr th {\n",
              "        vertical-align: top;\n",
              "    }\n",
              "\n",
              "    .dataframe thead th {\n",
              "        text-align: right;\n",
              "    }\n",
              "</style>\n",
              "<table border=\"1\" class=\"dataframe\">\n",
              "  <thead>\n",
              "    <tr style=\"text-align: right;\">\n",
              "      <th></th>\n",
              "      <th>Name</th>\n",
              "      <th>Item</th>\n",
              "      <th>Cost</th>\n",
              "    </tr>\n",
              "  </thead>\n",
              "  <tbody>\n",
              "    <tr>\n",
              "      <th>Store 1</th>\n",
              "      <td>Chris</td>\n",
              "      <td>Dog Food</td>\n",
              "      <td>22.5</td>\n",
              "    </tr>\n",
              "    <tr>\n",
              "      <th>Store 2</th>\n",
              "      <td>Kevyn</td>\n",
              "      <td>Kitty Litter</td>\n",
              "      <td>10.5</td>\n",
              "    </tr>\n",
              "    <tr>\n",
              "      <th>Store 3</th>\n",
              "      <td>Vinod</td>\n",
              "      <td>Bird Seed</td>\n",
              "      <td>15.0</td>\n",
              "    </tr>\n",
              "    <tr>\n",
              "      <th>Store 4</th>\n",
              "      <td>Heidis</td>\n",
              "      <td>Sea Food</td>\n",
              "      <td>50.0</td>\n",
              "    </tr>\n",
              "    <tr>\n",
              "      <th>Store 5</th>\n",
              "      <td>Vicnolo</td>\n",
              "      <td>Coco Food</td>\n",
              "      <td>30.0</td>\n",
              "    </tr>\n",
              "  </tbody>\n",
              "</table>\n",
              "</div>"
            ],
            "text/plain": [
              "            Name          Item  Cost\n",
              "Store 1   Chris       Dog Food  22.5\n",
              "Store 2    Kevyn  Kitty Litter  10.5\n",
              "Store 3    Vinod     Bird Seed  15.0\n",
              "Store 4   Heidis      Sea Food  50.0\n",
              "Store 5  Vicnolo     Coco Food  30.0"
            ]
          },
          "metadata": {
            "tags": []
          },
          "execution_count": 115
        }
      ]
    },
    {
      "cell_type": "code",
      "metadata": {
        "id": "OLlDRGi7Ojxm",
        "colab_type": "code",
        "outputId": "c204a351-d74c-47ed-e8d3-1a23ed8a3616",
        "colab": {
          "base_uri": "https://localhost:8080/",
          "height": 80
        }
      },
      "source": [
        "df[df['Cost'] > 30]"
      ],
      "execution_count": 0,
      "outputs": [
        {
          "output_type": "execute_result",
          "data": {
            "text/html": [
              "<div>\n",
              "<style scoped>\n",
              "    .dataframe tbody tr th:only-of-type {\n",
              "        vertical-align: middle;\n",
              "    }\n",
              "\n",
              "    .dataframe tbody tr th {\n",
              "        vertical-align: top;\n",
              "    }\n",
              "\n",
              "    .dataframe thead th {\n",
              "        text-align: right;\n",
              "    }\n",
              "</style>\n",
              "<table border=\"1\" class=\"dataframe\">\n",
              "  <thead>\n",
              "    <tr style=\"text-align: right;\">\n",
              "      <th></th>\n",
              "      <th>Name</th>\n",
              "      <th>Item</th>\n",
              "      <th>Cost</th>\n",
              "    </tr>\n",
              "  </thead>\n",
              "  <tbody>\n",
              "    <tr>\n",
              "      <th>Store 4</th>\n",
              "      <td>Heidis</td>\n",
              "      <td>Sea Food</td>\n",
              "      <td>50.0</td>\n",
              "    </tr>\n",
              "  </tbody>\n",
              "</table>\n",
              "</div>"
            ],
            "text/plain": [
              "           Name      Item  Cost\n",
              "Store 4  Heidis  Sea Food  50.0"
            ]
          },
          "metadata": {
            "tags": []
          },
          "execution_count": 116
        }
      ]
    },
    {
      "cell_type": "code",
      "metadata": {
        "id": "creJ3aiEPHXT",
        "colab_type": "code",
        "outputId": "8a8e8601-cd4c-43db-9935-53dae3be63b5",
        "colab": {
          "base_uri": "https://localhost:8080/",
          "height": 34
        }
      },
      "source": [
        "df['Cost'].count()"
      ],
      "execution_count": 0,
      "outputs": [
        {
          "output_type": "execute_result",
          "data": {
            "text/plain": [
              "5"
            ]
          },
          "metadata": {
            "tags": []
          },
          "execution_count": 106
        }
      ]
    },
    {
      "cell_type": "code",
      "metadata": {
        "id": "k3bfVDVwS-NC",
        "colab_type": "code",
        "colab": {}
      },
      "source": [
        "df = df.set_index('Item')"
      ],
      "execution_count": 0,
      "outputs": []
    },
    {
      "cell_type": "code",
      "metadata": {
        "id": "mtSrGKQOTA6K",
        "colab_type": "code",
        "outputId": "5eb4c3c2-e2fc-4755-fe36-3f7fdc553e11",
        "colab": {
          "base_uri": "https://localhost:8080/",
          "height": 235
        }
      },
      "source": [
        "df"
      ],
      "execution_count": 0,
      "outputs": [
        {
          "output_type": "execute_result",
          "data": {
            "text/html": [
              "<div>\n",
              "<style scoped>\n",
              "    .dataframe tbody tr th:only-of-type {\n",
              "        vertical-align: middle;\n",
              "    }\n",
              "\n",
              "    .dataframe tbody tr th {\n",
              "        vertical-align: top;\n",
              "    }\n",
              "\n",
              "    .dataframe thead th {\n",
              "        text-align: right;\n",
              "    }\n",
              "</style>\n",
              "<table border=\"1\" class=\"dataframe\">\n",
              "  <thead>\n",
              "    <tr style=\"text-align: right;\">\n",
              "      <th></th>\n",
              "      <th>Name</th>\n",
              "      <th>Cost</th>\n",
              "    </tr>\n",
              "    <tr>\n",
              "      <th>Item</th>\n",
              "      <th></th>\n",
              "      <th></th>\n",
              "    </tr>\n",
              "  </thead>\n",
              "  <tbody>\n",
              "    <tr>\n",
              "      <th>Dog Food</th>\n",
              "      <td>Chris</td>\n",
              "      <td>22.5</td>\n",
              "    </tr>\n",
              "    <tr>\n",
              "      <th>Kitty Litter</th>\n",
              "      <td>Kevyn</td>\n",
              "      <td>10.5</td>\n",
              "    </tr>\n",
              "    <tr>\n",
              "      <th>Bird Seed</th>\n",
              "      <td>Vinod</td>\n",
              "      <td>15.0</td>\n",
              "    </tr>\n",
              "    <tr>\n",
              "      <th>Sea Food</th>\n",
              "      <td>Heidis</td>\n",
              "      <td>50.0</td>\n",
              "    </tr>\n",
              "    <tr>\n",
              "      <th>Coco Food</th>\n",
              "      <td>Vicnolo</td>\n",
              "      <td>30.0</td>\n",
              "    </tr>\n",
              "  </tbody>\n",
              "</table>\n",
              "</div>"
            ],
            "text/plain": [
              "                 Name  Cost\n",
              "Item                       \n",
              "Dog Food       Chris   22.5\n",
              "Kitty Litter    Kevyn  10.5\n",
              "Bird Seed       Vinod  15.0\n",
              "Sea Food       Heidis  50.0\n",
              "Coco Food     Vicnolo  30.0"
            ]
          },
          "metadata": {
            "tags": []
          },
          "execution_count": 118
        }
      ]
    },
    {
      "cell_type": "code",
      "metadata": {
        "id": "CdoOSkGkTyVv",
        "colab_type": "code",
        "colab": {}
      },
      "source": [
        "df = df.sort_index()"
      ],
      "execution_count": 0,
      "outputs": []
    },
    {
      "cell_type": "code",
      "metadata": {
        "id": "yvAFOVmET2iM",
        "colab_type": "code",
        "outputId": "6baa510a-8391-4e3f-ff51-f6cf86cc41bd",
        "colab": {
          "base_uri": "https://localhost:8080/",
          "height": 235
        }
      },
      "source": [
        "df"
      ],
      "execution_count": 0,
      "outputs": [
        {
          "output_type": "execute_result",
          "data": {
            "text/html": [
              "<div>\n",
              "<style scoped>\n",
              "    .dataframe tbody tr th:only-of-type {\n",
              "        vertical-align: middle;\n",
              "    }\n",
              "\n",
              "    .dataframe tbody tr th {\n",
              "        vertical-align: top;\n",
              "    }\n",
              "\n",
              "    .dataframe thead th {\n",
              "        text-align: right;\n",
              "    }\n",
              "</style>\n",
              "<table border=\"1\" class=\"dataframe\">\n",
              "  <thead>\n",
              "    <tr style=\"text-align: right;\">\n",
              "      <th></th>\n",
              "      <th>Name</th>\n",
              "      <th>Cost</th>\n",
              "    </tr>\n",
              "    <tr>\n",
              "      <th>Item</th>\n",
              "      <th></th>\n",
              "      <th></th>\n",
              "    </tr>\n",
              "  </thead>\n",
              "  <tbody>\n",
              "    <tr>\n",
              "      <th>Bird Seed</th>\n",
              "      <td>Vinod</td>\n",
              "      <td>15.0</td>\n",
              "    </tr>\n",
              "    <tr>\n",
              "      <th>Coco Food</th>\n",
              "      <td>Vicnolo</td>\n",
              "      <td>30.0</td>\n",
              "    </tr>\n",
              "    <tr>\n",
              "      <th>Dog Food</th>\n",
              "      <td>Chris</td>\n",
              "      <td>22.5</td>\n",
              "    </tr>\n",
              "    <tr>\n",
              "      <th>Kitty Litter</th>\n",
              "      <td>Kevyn</td>\n",
              "      <td>10.5</td>\n",
              "    </tr>\n",
              "    <tr>\n",
              "      <th>Sea Food</th>\n",
              "      <td>Heidis</td>\n",
              "      <td>50.0</td>\n",
              "    </tr>\n",
              "  </tbody>\n",
              "</table>\n",
              "</div>"
            ],
            "text/plain": [
              "                 Name  Cost\n",
              "Item                       \n",
              "Bird Seed       Vinod  15.0\n",
              "Coco Food     Vicnolo  30.0\n",
              "Dog Food       Chris   22.5\n",
              "Kitty Litter    Kevyn  10.5\n",
              "Sea Food       Heidis  50.0"
            ]
          },
          "metadata": {
            "tags": []
          },
          "execution_count": 120
        }
      ]
    },
    {
      "cell_type": "code",
      "metadata": {
        "id": "_VEtt4gcT8t0",
        "colab_type": "code",
        "outputId": "0f424b03-e3eb-40b8-919c-4a28b8002c7f",
        "colab": {
          "base_uri": "https://localhost:8080/",
          "height": 235
        }
      },
      "source": [
        "df.loc['Bird Seed' , ['Cost']] = 30\n",
        "df"
      ],
      "execution_count": 0,
      "outputs": [
        {
          "output_type": "execute_result",
          "data": {
            "text/html": [
              "<div>\n",
              "<style scoped>\n",
              "    .dataframe tbody tr th:only-of-type {\n",
              "        vertical-align: middle;\n",
              "    }\n",
              "\n",
              "    .dataframe tbody tr th {\n",
              "        vertical-align: top;\n",
              "    }\n",
              "\n",
              "    .dataframe thead th {\n",
              "        text-align: right;\n",
              "    }\n",
              "</style>\n",
              "<table border=\"1\" class=\"dataframe\">\n",
              "  <thead>\n",
              "    <tr style=\"text-align: right;\">\n",
              "      <th></th>\n",
              "      <th>Name</th>\n",
              "      <th>Cost</th>\n",
              "    </tr>\n",
              "    <tr>\n",
              "      <th>Item</th>\n",
              "      <th></th>\n",
              "      <th></th>\n",
              "    </tr>\n",
              "  </thead>\n",
              "  <tbody>\n",
              "    <tr>\n",
              "      <th>Bird Seed</th>\n",
              "      <td>Vinod</td>\n",
              "      <td>30.0</td>\n",
              "    </tr>\n",
              "    <tr>\n",
              "      <th>Coco Food</th>\n",
              "      <td>Vicnolo</td>\n",
              "      <td>30.0</td>\n",
              "    </tr>\n",
              "    <tr>\n",
              "      <th>Dog Food</th>\n",
              "      <td>Chris</td>\n",
              "      <td>22.5</td>\n",
              "    </tr>\n",
              "    <tr>\n",
              "      <th>Kitty Litter</th>\n",
              "      <td>Kevyn</td>\n",
              "      <td>10.5</td>\n",
              "    </tr>\n",
              "    <tr>\n",
              "      <th>Sea Food</th>\n",
              "      <td>Heidis</td>\n",
              "      <td>50.0</td>\n",
              "    </tr>\n",
              "  </tbody>\n",
              "</table>\n",
              "</div>"
            ],
            "text/plain": [
              "                 Name  Cost\n",
              "Item                       \n",
              "Bird Seed       Vinod  30.0\n",
              "Coco Food     Vicnolo  30.0\n",
              "Dog Food       Chris   22.5\n",
              "Kitty Litter    Kevyn  10.5\n",
              "Sea Food       Heidis  50.0"
            ]
          },
          "metadata": {
            "tags": []
          },
          "execution_count": 127
        }
      ]
    },
    {
      "cell_type": "code",
      "metadata": {
        "id": "qyLqaDdWUbLH",
        "colab_type": "code",
        "outputId": "4dc8c334-7bc8-4b80-b538-0cf0949d372c",
        "colab": {
          "base_uri": "https://localhost:8080/",
          "height": 34
        }
      },
      "source": [
        "df['Cost'].unique()"
      ],
      "execution_count": 0,
      "outputs": [
        {
          "output_type": "execute_result",
          "data": {
            "text/plain": [
              "array([30. , 22.5, 10.5, 50. ])"
            ]
          },
          "metadata": {
            "tags": []
          },
          "execution_count": 132
        }
      ]
    },
    {
      "cell_type": "code",
      "metadata": {
        "id": "ZtxwJG5IUiLv",
        "colab_type": "code",
        "outputId": "492be585-979e-4280-f839-cef7c1a63736",
        "colab": {
          "base_uri": "https://localhost:8080/",
          "height": 204
        }
      },
      "source": [
        "purchase_1 = pd.Series({'Name': 'Chris ',\n",
        "                        'Item': 'Dog Food',\n",
        "                        'Cost': 22.50})\n",
        "purchase_2 = pd.Series({'Name': 'Kevyn',\n",
        "                        'Item': 'Kitty Litter',\n",
        "                        'Cost': 10.50})\n",
        "purchase_3 = pd.Series({'Name': 'Vinod',\n",
        "                        'Item': 'Bird Seed',\n",
        "                        'Cost': 15.00})\n",
        "purchase_4 = pd.Series({'Name': 'Heidis',\n",
        "                        'Item': 'Sea Food',\n",
        "                        'Cost': 50.00})\n",
        "purchase_5 = pd.Series({'Name': 'Vicnolo',\n",
        "                        'Item': np.nan,\n",
        "                        'Cost': 30.00})\n",
        "df = pd.DataFrame([purchase_1, purchase_2, purchase_3, purchase_4, purchase_5] , \n",
        "                    index=['Store 1', 'Store 2', 'Store 3', 'Store 4', 'Store 5'])\n",
        "df"
      ],
      "execution_count": 0,
      "outputs": [
        {
          "output_type": "execute_result",
          "data": {
            "text/html": [
              "<div>\n",
              "<style scoped>\n",
              "    .dataframe tbody tr th:only-of-type {\n",
              "        vertical-align: middle;\n",
              "    }\n",
              "\n",
              "    .dataframe tbody tr th {\n",
              "        vertical-align: top;\n",
              "    }\n",
              "\n",
              "    .dataframe thead th {\n",
              "        text-align: right;\n",
              "    }\n",
              "</style>\n",
              "<table border=\"1\" class=\"dataframe\">\n",
              "  <thead>\n",
              "    <tr style=\"text-align: right;\">\n",
              "      <th></th>\n",
              "      <th>Name</th>\n",
              "      <th>Item</th>\n",
              "      <th>Cost</th>\n",
              "    </tr>\n",
              "  </thead>\n",
              "  <tbody>\n",
              "    <tr>\n",
              "      <th>Store 1</th>\n",
              "      <td>Chris</td>\n",
              "      <td>Dog Food</td>\n",
              "      <td>22.5</td>\n",
              "    </tr>\n",
              "    <tr>\n",
              "      <th>Store 2</th>\n",
              "      <td>Kevyn</td>\n",
              "      <td>Kitty Litter</td>\n",
              "      <td>10.5</td>\n",
              "    </tr>\n",
              "    <tr>\n",
              "      <th>Store 3</th>\n",
              "      <td>Vinod</td>\n",
              "      <td>Bird Seed</td>\n",
              "      <td>15.0</td>\n",
              "    </tr>\n",
              "    <tr>\n",
              "      <th>Store 4</th>\n",
              "      <td>Heidis</td>\n",
              "      <td>Sea Food</td>\n",
              "      <td>50.0</td>\n",
              "    </tr>\n",
              "    <tr>\n",
              "      <th>Store 5</th>\n",
              "      <td>Vicnolo</td>\n",
              "      <td>NaN</td>\n",
              "      <td>30.0</td>\n",
              "    </tr>\n",
              "  </tbody>\n",
              "</table>\n",
              "</div>"
            ],
            "text/plain": [
              "            Name          Item  Cost\n",
              "Store 1   Chris       Dog Food  22.5\n",
              "Store 2    Kevyn  Kitty Litter  10.5\n",
              "Store 3    Vinod     Bird Seed  15.0\n",
              "Store 4   Heidis      Sea Food  50.0\n",
              "Store 5  Vicnolo           NaN  30.0"
            ]
          },
          "metadata": {
            "tags": []
          },
          "execution_count": 141
        }
      ]
    },
    {
      "cell_type": "code",
      "metadata": {
        "id": "XegDnmfmV1eD",
        "colab_type": "code",
        "outputId": "48e1b352-b5d8-4fde-f6a8-de6cedc2e666",
        "colab": {
          "base_uri": "https://localhost:8080/",
          "height": 204
        }
      },
      "source": [
        "df = df.fillna(method='ffill')\n",
        "df"
      ],
      "execution_count": 0,
      "outputs": [
        {
          "output_type": "execute_result",
          "data": {
            "text/html": [
              "<div>\n",
              "<style scoped>\n",
              "    .dataframe tbody tr th:only-of-type {\n",
              "        vertical-align: middle;\n",
              "    }\n",
              "\n",
              "    .dataframe tbody tr th {\n",
              "        vertical-align: top;\n",
              "    }\n",
              "\n",
              "    .dataframe thead th {\n",
              "        text-align: right;\n",
              "    }\n",
              "</style>\n",
              "<table border=\"1\" class=\"dataframe\">\n",
              "  <thead>\n",
              "    <tr style=\"text-align: right;\">\n",
              "      <th></th>\n",
              "      <th>Name</th>\n",
              "      <th>Item</th>\n",
              "      <th>Cost</th>\n",
              "    </tr>\n",
              "  </thead>\n",
              "  <tbody>\n",
              "    <tr>\n",
              "      <th>Store 1</th>\n",
              "      <td>Chris</td>\n",
              "      <td>Dog Food</td>\n",
              "      <td>22.5</td>\n",
              "    </tr>\n",
              "    <tr>\n",
              "      <th>Store 2</th>\n",
              "      <td>Kevyn</td>\n",
              "      <td>Kitty Litter</td>\n",
              "      <td>10.5</td>\n",
              "    </tr>\n",
              "    <tr>\n",
              "      <th>Store 3</th>\n",
              "      <td>Vinod</td>\n",
              "      <td>Bird Seed</td>\n",
              "      <td>15.0</td>\n",
              "    </tr>\n",
              "    <tr>\n",
              "      <th>Store 4</th>\n",
              "      <td>Heidis</td>\n",
              "      <td>Sea Food</td>\n",
              "      <td>50.0</td>\n",
              "    </tr>\n",
              "    <tr>\n",
              "      <th>Store 5</th>\n",
              "      <td>Vicnolo</td>\n",
              "      <td>Sea Food</td>\n",
              "      <td>30.0</td>\n",
              "    </tr>\n",
              "  </tbody>\n",
              "</table>\n",
              "</div>"
            ],
            "text/plain": [
              "            Name          Item  Cost\n",
              "Store 1   Chris       Dog Food  22.5\n",
              "Store 2    Kevyn  Kitty Litter  10.5\n",
              "Store 3    Vinod     Bird Seed  15.0\n",
              "Store 4   Heidis      Sea Food  50.0\n",
              "Store 5  Vicnolo      Sea Food  30.0"
            ]
          },
          "metadata": {
            "tags": []
          },
          "execution_count": 143
        }
      ]
    }
  ]
}