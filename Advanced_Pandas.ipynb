{
  "nbformat": 4,
  "nbformat_minor": 0,
  "metadata": {
    "colab": {
      "name": "Advanced_Pandas.ipynb",
      "provenance": [],
      "collapsed_sections": [
        "zP-rqHpTAGpf",
        "TIPlsvKqCdo3",
        "NVZ03NTAMlLG"
      ],
      "authorship_tag": "ABX9TyOz/TF+rP9AjZ6Z21DAITWD",
      "include_colab_link": true
    },
    "kernelspec": {
      "name": "python3",
      "display_name": "Python 3"
    }
  },
  "cells": [
    {
      "cell_type": "markdown",
      "metadata": {
        "id": "view-in-github",
        "colab_type": "text"
      },
      "source": [
        "<a href=\"https://colab.research.google.com/github/jeffleon/Python_Google_Colab/blob/master/Advanced_Pandas.ipynb\" target=\"_parent\"><img src=\"https://colab.research.google.com/assets/colab-badge.svg\" alt=\"Open In Colab\"/></a>"
      ]
    },
    {
      "cell_type": "markdown",
      "metadata": {
        "id": "L76md9xvoFhM",
        "colab_type": "text"
      },
      "source": [
        "#**Advanced Pandas**\n",
        "\n",
        "\n",
        "1.   Merge Data Frames\n",
        "2.   Groupby\n",
        "3.   Table Pivot\n",
        "4.   AsType\n",
        "\n"
      ]
    },
    {
      "cell_type": "code",
      "metadata": {
        "id": "xmbo6BjjnmCK",
        "colab_type": "code",
        "colab": {}
      },
      "source": [
        "import pandas as pd"
      ],
      "execution_count": 0,
      "outputs": []
    },
    {
      "cell_type": "markdown",
      "metadata": {
        "id": "zP-rqHpTAGpf",
        "colab_type": "text"
      },
      "source": [
        "##**Merge Data Frame**"
      ]
    },
    {
      "cell_type": "code",
      "metadata": {
        "id": "ZSA2UAYuAHLk",
        "colab_type": "code",
        "outputId": "1906ea62-c123-4964-de77-35d80b48ba6d",
        "colab": {
          "base_uri": "https://localhost:8080/",
          "height": 173
        }
      },
      "source": [
        "df1 = pd.DataFrame({\n",
        "      \"City\": [\"New York\", \"Chicago\", \"Orlando\",\"Baltimore\"],\n",
        "      \"Temperature\" :[21,14,35,50]\n",
        "})\n",
        "df1"
      ],
      "execution_count": 0,
      "outputs": [
        {
          "output_type": "execute_result",
          "data": {
            "text/html": [
              "<div>\n",
              "<style scoped>\n",
              "    .dataframe tbody tr th:only-of-type {\n",
              "        vertical-align: middle;\n",
              "    }\n",
              "\n",
              "    .dataframe tbody tr th {\n",
              "        vertical-align: top;\n",
              "    }\n",
              "\n",
              "    .dataframe thead th {\n",
              "        text-align: right;\n",
              "    }\n",
              "</style>\n",
              "<table border=\"1\" class=\"dataframe\">\n",
              "  <thead>\n",
              "    <tr style=\"text-align: right;\">\n",
              "      <th></th>\n",
              "      <th>City</th>\n",
              "      <th>Temperature</th>\n",
              "    </tr>\n",
              "  </thead>\n",
              "  <tbody>\n",
              "    <tr>\n",
              "      <th>0</th>\n",
              "      <td>New York</td>\n",
              "      <td>21</td>\n",
              "    </tr>\n",
              "    <tr>\n",
              "      <th>1</th>\n",
              "      <td>Chicago</td>\n",
              "      <td>14</td>\n",
              "    </tr>\n",
              "    <tr>\n",
              "      <th>2</th>\n",
              "      <td>Orlando</td>\n",
              "      <td>35</td>\n",
              "    </tr>\n",
              "    <tr>\n",
              "      <th>3</th>\n",
              "      <td>Baltimore</td>\n",
              "      <td>50</td>\n",
              "    </tr>\n",
              "  </tbody>\n",
              "</table>\n",
              "</div>"
            ],
            "text/plain": [
              "        City  Temperature\n",
              "0   New York           21\n",
              "1    Chicago           14\n",
              "2    Orlando           35\n",
              "3  Baltimore           50"
            ]
          },
          "metadata": {
            "tags": []
          },
          "execution_count": 30
        }
      ]
    },
    {
      "cell_type": "code",
      "metadata": {
        "id": "BSQbP4oLAHqM",
        "colab_type": "code",
        "outputId": "716d2d71-ebd5-45c5-abd9-a29150d01b1f",
        "colab": {
          "base_uri": "https://localhost:8080/",
          "height": 142
        }
      },
      "source": [
        "df2 = pd.DataFrame({\n",
        "      \"City\": [\"Chicago\", \"New York\",\"San Francisco\"],\n",
        "      \"Humidity\" :[68,65,75]\n",
        "})\n",
        "df2"
      ],
      "execution_count": 0,
      "outputs": [
        {
          "output_type": "execute_result",
          "data": {
            "text/html": [
              "<div>\n",
              "<style scoped>\n",
              "    .dataframe tbody tr th:only-of-type {\n",
              "        vertical-align: middle;\n",
              "    }\n",
              "\n",
              "    .dataframe tbody tr th {\n",
              "        vertical-align: top;\n",
              "    }\n",
              "\n",
              "    .dataframe thead th {\n",
              "        text-align: right;\n",
              "    }\n",
              "</style>\n",
              "<table border=\"1\" class=\"dataframe\">\n",
              "  <thead>\n",
              "    <tr style=\"text-align: right;\">\n",
              "      <th></th>\n",
              "      <th>City</th>\n",
              "      <th>Humidity</th>\n",
              "    </tr>\n",
              "  </thead>\n",
              "  <tbody>\n",
              "    <tr>\n",
              "      <th>0</th>\n",
              "      <td>Chicago</td>\n",
              "      <td>68</td>\n",
              "    </tr>\n",
              "    <tr>\n",
              "      <th>1</th>\n",
              "      <td>New York</td>\n",
              "      <td>65</td>\n",
              "    </tr>\n",
              "    <tr>\n",
              "      <th>2</th>\n",
              "      <td>San Francisco</td>\n",
              "      <td>75</td>\n",
              "    </tr>\n",
              "  </tbody>\n",
              "</table>\n",
              "</div>"
            ],
            "text/plain": [
              "            City  Humidity\n",
              "0        Chicago        68\n",
              "1       New York        65\n",
              "2  San Francisco        75"
            ]
          },
          "metadata": {
            "tags": []
          },
          "execution_count": 35
        }
      ]
    },
    {
      "cell_type": "markdown",
      "metadata": {
        "id": "v2Hnuk0UEMU2",
        "colab_type": "text"
      },
      "source": [
        "*when i do the merge or how i do the merge its for \n",
        "default en inner merge thats mean the merge its whith \n",
        "the intersection of the two sets*\n",
        "\n",
        "\n",
        "![image.png](data:image/png;base64,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)"
      ]
    },
    {
      "cell_type": "code",
      "metadata": {
        "id": "6hlFA9eBAHpE",
        "colab_type": "code",
        "outputId": "2a0c575c-92c8-4370-e6af-4ad8f290bda4",
        "colab": {
          "base_uri": "https://localhost:8080/",
          "height": 111
        }
      },
      "source": [
        "df3 = pd.merge(df1,df2,on='City', how='inner')\n",
        "df3"
      ],
      "execution_count": 0,
      "outputs": [
        {
          "output_type": "execute_result",
          "data": {
            "text/html": [
              "<div>\n",
              "<style scoped>\n",
              "    .dataframe tbody tr th:only-of-type {\n",
              "        vertical-align: middle;\n",
              "    }\n",
              "\n",
              "    .dataframe tbody tr th {\n",
              "        vertical-align: top;\n",
              "    }\n",
              "\n",
              "    .dataframe thead th {\n",
              "        text-align: right;\n",
              "    }\n",
              "</style>\n",
              "<table border=\"1\" class=\"dataframe\">\n",
              "  <thead>\n",
              "    <tr style=\"text-align: right;\">\n",
              "      <th></th>\n",
              "      <th>City</th>\n",
              "      <th>Temperature</th>\n",
              "      <th>Humidity</th>\n",
              "    </tr>\n",
              "  </thead>\n",
              "  <tbody>\n",
              "    <tr>\n",
              "      <th>0</th>\n",
              "      <td>New York</td>\n",
              "      <td>21</td>\n",
              "      <td>65</td>\n",
              "    </tr>\n",
              "    <tr>\n",
              "      <th>1</th>\n",
              "      <td>Chicago</td>\n",
              "      <td>14</td>\n",
              "      <td>68</td>\n",
              "    </tr>\n",
              "  </tbody>\n",
              "</table>\n",
              "</div>"
            ],
            "text/plain": [
              "       City  Temperature  Humidity\n",
              "0  New York           21        65\n",
              "1   Chicago           14        68"
            ]
          },
          "metadata": {
            "tags": []
          },
          "execution_count": 39
        }
      ]
    },
    {
      "cell_type": "markdown",
      "metadata": {
        "id": "RmuRgpODHTLF",
        "colab_type": "text"
      },
      "source": [
        "*When i merge the outer*\n",
        "\n",
        "![image.png](data:image/png;base64,iVBORw0KGgoAAAANSUhEUgAAASYAAADvCAYAAABfVHkSAAAgAElEQVR4Aex9B5RVRba2b2bN/PPmzZt5M44zZgUBQYmKYcYAiCJKUFSUkSQggiQBkWhCBBSQoCSVoCTJoeONJ93QuWmaKCAZJUoOHb9/fXW7msOlw+3cTZ9eq7rOPaFOnV17f7X3rl1VN2RlZcFKFg0sHrB4oDLxwA2VqTJWXSzhsHjA4gHygAVMlsZoacwWD1Q6HrCAyWLKSseUltZkaU0WMFnAZAGTxQOVjgcsYLKYstIxpaUxWRqTBUwWMFnAZPFApeMBC5gspqx0TGlpTJbGZAHTdQ1MmcjKCk5XmD4zKxOBdOWcGRQys7IQnMzXrznOzER25pX3XSmf7wmUlftMJt+ZieysjJw65l2H3Puv63ayvj24nS1guq4ZniBBwZeJv68IQUZWJtKzM5AhzmUjK0umwD0EE16Tib/NzwcfIzMTSE9Hdka6eGdmFstmyhRl5D6fmYXszGwgMwPIvIzsLN5fcNnW9epFHwuYrmuBkMBEwQ+AhVnACRrp2WlCawoABcEiG9lCmwloOBKUmOcCSz40E8BEsEk7A1w6IvK0zHSkEwBNz/Nd2ZnIue8QcPlXZAkwuxo4zXW1ji1gsnqvfASv6gmHGZjScjSnKwyemZWG9OyLyMpKA7KygSwAGdlAOk2yogMTTTOBOD+nYtuX/YCDKbicmSVSelZ2jmYW0JYEMJ3fi5PLRmHzmllAxmWhQVU9Gl+hp1X30qOFpTFVaRAKAA9BhFpIVmYWMnLMI2ScBzIvAFkXkZ15AdlZl4BMpovCfKJ5B3HuHJB+Cjj7C8K+mYEj8T4gM034ipCZnvNMGpDB40xkCW0nE4FraTnX04XWFTANM4G9PiR90AZHPauQloUcQKLZJu/PFMoVzu/Gni/+A23WqJxrBKfLAZBKZ87705GdmZHjC7M0quoCfhYwVWlgSkd2FoWZ0h9QVtIIIJd/Bc7sBs4dAHAGSP8VwEXg4jHg8hEBRNlZF4ELvwKXTwMX9gC/GHBM6IuLyg/AmUOgfwjp54DLJ4ALJ4Fzp4GLl5F2KUsAFC6eBtLPAFmngMzzwpd0OTsTF5ANnP8JOBABnPsJ6WC90pF98VfgwjHg7GEBNhezAZw9AJz0AMe3Iu3yBWRfYl2OAhdPAOeOAxdPARkBIKXZSWd6dRHM6v6dFjBdB8DEkTDQZ0MguXQYWyIWIHL6CERPH4rtaycj63CyAKeUqCVwTn0POPEjkH0G6spvoc39DDgSi4QpXZAw+S0kThmMdVPH4NeTB4CLh/Dj2lmImDQMayYMxWZHBDLPpgG/HoA+azhOxa6GvmAi7CsXIC07GxeRidPUeA4nIHFiJ2CnCuAS0n7ZCWPZLKydMhwRkwcjybYWVIhwfj92zukL1zcfIyvrEo5t9UCbPQq/uJbBMfUjGN9OwelkVQBfwElvAVN1ASwLmKo0MAVMOZpQadlZwPkfcW5OTyR/ORAnU11AwnwcndACiXMGAjiNzcunY+v4N4HjG4HMw/B+Px6bvxwCnIkDUpfAmNgHh9Z+C+yNAzIOIOWHT/HjtDeBnSuBzQsRNnkYfk7aDBz148jYh7D903aIm9QX+rK5uJBNnSwTl3Ae2Kvg+AetgE1LgZNJMGYOh/fzAUDqGqStGYvIcQPxo64Dvybi4sQWiJ3RB9k4g+yUNdj7yfNInfoW0lNs8H3xLjZPHQqc2Y+Lwh9mAZMFTFVaYEvPCVcVGIGjXjSjcNSLC+83xbHlHwZMrDMK8F1r+D59EWmn92Pvyuk4+Ek34GgCkHkQCQs/xk9T3wZOxQK/euH+7B2c9joFaOFcMhzj/4M9E17B/tlvYPucbnBPHQb/irXAETcy378bp2e+BpxKBTJOC2C6lJ2BNJwGfrIhY9STQPIc4MA62MZ1A2LWAacTgWMuxE4ejIR5XwGnDOCTJtg8rRuy8SuQvAwXP3ka+HENkHkAJ9ZPx66xXYCfU3E5O0OM7lWF9rDqWHL5szSmqgzAwumdJZzemRxVO+rDuQ8ewP41n+EUR8gyEoE1HeD88HlkHN+Hgytn4tC4HsDPiQBOIuabT7Dni8HAqWTgFx2OL8bgsOEFMg4L0HCP64hDU9/A5dWf4MSKcdi28msc27IDOOLD5bEP4wQB8BL9QGnCyZ2WfTkXmNIEME0HdszBus/6IG3vTwGfV/pOJM5+H7vnjANO2IGxjbB1ajdkZ50Gktbg8MhWwAENSD+CYxGz8cu4/wBHNlvO76rMp8WouwVMxSBapekRc4BJjsrhuB/HP34Ie394nw4c4GIssORleCd3Bc4fw9HV03Ds4w7AT9HA5V1InDUSu78YApxOAY544Z7yHn51bgAuEEQS4J/QCVjyDnDcDVxIBs7sg0CgX2Jx4eMncHDF50jPZBgAR96AdAFMZ4E9dlwe/QSwcQaw73usHtcNpxI1IG0/cCYZrokDcOD7acDhCGBsY2yd2h3Z2aeBxLXYP6oNcNCHjKxTOBI+GyfGdgR+2STCF2R8VaWhf1XmnUpedwuYKnkDhSKEYhoIR+MubAR+6ILN49vg+A8fIH3FSGwf2Qy/hM8A0n4FXNNxaUxjYF5nHJ3XBxvHd8K26f2A88nCnPNN6IbDn3fHybCvgHN7kRb2KY4NbwTM7wysHIRNX3+Aozt/An6JRfqHT+DA0vG5oBQApgykZV8E9jhwafRjwKZvgMtx2L5gAHaPfxHpPwzGsa97Cn9T+haCoQqMfQA7Zr2JzOyTwNZwHB37InAkDsg6jWMbZuLY++2BQ0kWMF0HfBoKL8t7LGCqwg3OSOxANDYDIjOEFoRfo4CYWdgxtRd2fTUQiF8eMM3STwOXNgLLemLH2FaAfQIQ/z02zv8QOJkMZOwBUtfiyFd9sOX7icCZo8CvSYDzI/w0vh12T34Vh6LmARcuAcdTcX5WT/xiW4gMEThJrYkpXQRsEpgujHlcONRxcQfwqweZy9/BvumdsW9mT+BHPRDM+WsqsLgvNi/6AJk4gwspkdjzZX/gUAKQfQ5n/etwcNoA4OgOERJhaUwl991Iwa/suQVMVRyYAlNFAqNzyGDM0i9A2lEg7RiQdhxIOwGknUZ2xoVADBPNtIv7RCgALh0FLp8MaFN89hJjh44EYps4ns94qEuHgcs/B8rMOAukXQrENl3cK57NyMwUQZ2MMcrOvgTgHLA1DGdGNwdS1wvHuKjPpYPApUOB8tIYA0Ug/TVQl7TjyOCzDPQUcVa/IiPzPJB2Crh4HLh8zgKmKsynxQFBC5iqcINTWzIDE8Hh6rltAcDKzLyMrIxLyEi/hPSMy1dSehrS09NzU2ZGBrIyMpCZni5SRnoGMjKyRQrMNqFD/TKy0y8iO/08MtMvgc9kZnK6y2Ug6xwSY2zQv3wPuz55DTiYhIzMNPE+5ldSugCzjEzmOec5b4/3inQZ6VkXA9dy6sQgUktjsjQmK8K2CgCWNOUCEdGBJUzyAqbsrDQRIU6AygUCAQjpyMgg+ASSBCaCkwCoDI74ITcRGMRcEvqzMtLEKgI0IRkcmZVNreYULh/dhQOJTmBfstB45PuurHAgVzq4kjPKXKbAagTpyBCTi3lPAJAsYKo+oMQ2tzSmKgBAoarCUoOS4BQALAo3p65Qq5ErDEhQCApYvGqULxCGcGUplMCqA2L6iwCoAEhdDUxnA+bZ5dPIyryEABBSKwp+r3z/1fmVZVICy6UE6h+oh9CWclY9CJUe1n1VF8wsYLrOgOmKFkXHOIGnsBQ68wY0JgJSIF1ZFI4Awwm3TJeRnRFYySBTAFJh779ynfUNTha4hN4+1xOtLGC6joCpzBkzT42qegpOmdO6mvOlBUzVnAEsAbOAtTLygAVMFjBZAx0WD1Q6HrCAyWLKSseUlbEHt+pUvpqlBUwWMFnAZPFApeMBC5gspqx0TFmR2omM6arIOljvtuKYLKGsZsAsgSe/nJHw8poFEOVrvpnpbWlMZSyY2dlc3BpXASDP5ZeChYL38Zy50azjawUmLS0tF1BIL9Lt8uXLuXS7dInz+ID9+/eHlA4ePCjKEw/ltB/LJO1lG/GaPGe1ybVtUhKaWMAUIjCZwaEgZuR9Z8+evYphycC7du0SaefOnfjxxx/zTbt375aykGde0LtLwgiV9Vkz3fOqI+lx/vx5Md+Px5K2K1euRM2aNVGnTh2R7rnnHvH7hhtuQKipQYMGqFGjhkh33XUXHnnkEezZs0ekQ4cOWe0Touzk1W6FnbOAKUTiSgEh88skOfPixYtISEiAoihwu92oV68ebr/9dtxxxx248847cdttt4UsDBSam266CbfeeqtIN998M/75z38iOjoahmFA13UhiPLdrAv/WD9Zx8Iavapcl98kv49aEbUg/lGj8fl8iI2NRaNGjfCPf/wDv//973Pp/Mc//hFNmjTJTfXr18eiRYsQFRUVUnI6nWjWrBkaN24synjggQdw33335ZbPdmLb/uUvf8GCBQvgcDiQmMiVQa/8sW0kra+3tpHfVVa5BUxFACaaA0ePHsU333yD2bNno23btvj73/+OG2+8UTAsBYMC0b59e7zyyisivfzyy3jzzTeFMBBcmGw2W76JwPPhhx/ixRdfRIcOHcDnX331Vfz3f/83fvOb3+B3v/sd/vSnP4l3UvCmT5+OmTNnCi3t1KlTkCZNWTFMeZdL0KdQUyv69ttvMWbMGPz1r38VNCBN/t//+3+iHUivoUOHwm63IyIiQgAFQcvv94sUExMjOg6Cu9frLTQRmAg0fI4pLi5OgCDPM23YsAHPPvss2rVrJ8CJbc+2IVB17twZX3/9NX7++WewTcqbZtfD+yxgygOYpEbEBiZjkcF79eolmO5///d/8dvf/hZ/+MMf0KJFC4wePRofffSRYFbex148OElBCFUo5P155aqqYty4cQK8CFoUBCaC1p///Gd06dIFc+bMwZEjR4RAUMOQwh0Kw5q/PZT7S/MeAhD/WOa5c+ewefNmdOvWDY8++ij+67/+SwASTSoC94gRIwTIB9OINC4oEfiZCrqnuNfCw8MFP7C+//d//yc6K2pyAwcOBE1L2SaSZlIjtLSpa/1T1RaY8mMGCsaBAwfQunVrPPbYY7mqO02r8ePHC6Fft26d6HEJQOxNyeg046SQ5MfYpSEQ1LgIgExJSUnivezZ2UNPmzZNaHAET5oa//73v9GqVSvh2+J3mU0LKRzBeXkCk7kNqOnxb+/evULjrFWrlvgGmrHUHKmlapomvps0pyZE+kuayzw/2pfHefIA3yM7Jpp4EyZMEFo024MaVcuWLZGSkiK+ld8vRwGD26G6/66WwESGMAsFuYTOafqH2COTiaia09lJs4BaCkGADEfGI8BQSJibU2HMXxrAVNg7aHKwvjQXWX9pZtIfMmXKFEjnOhk/GKgkKJEewddKW1D4DrYB/06cOCE0Tmp+pD19cp06dRLfQJrTf0cwIviYv5+/g8HJfL2ijmU7y5z1CAsLEz4u6W8k4Pbr1y+305DAHExn2SYyD75+vf6utsDEnopmGp2W999/vxAImmf0GRCMKNhbtmwRPTMFvbSYXPbsZZVTk2JdKbDUpJjze+inom+Ggs+RJpoWp0+fFsAgmVsyP0+WBzCxI/jkk0+EmUZ/UZs2bUBziNoQv4O+HLNwVyVgYr3NdZe/2R7UrF544QXhPGcHSAc7+S0vmpvbpDzaRfJCRefVCpjYsGfOnMH27dtznahkjK5du2LevHlCIIKZn0JuZrDSAqjyLkcCIUGKjnkCAZ3ow4YNE6aFZEQKQmkKgDRXWCY7A/7RYU8TkyDJYXw6ramBmrWfUOmeV3uVN21L8j76KOk2oJkn3QUyFEFq9bJNSrNdZHtX1rzaABOdqQQYCgQ1Iw7Dv/vuu7k9dF6mQkkYrrI9K4GJwk/TiJoincgMayBA0JG/cOFCARylIQCy95c+FJZJc4ahEHwfR7QIUKQT60Rgqmw0K4/6UDsk761fv16YdhxlpOOcTn+OAnPwQmpNMq+sYFKa9bougYk9DW122dMw2pdxLBQIBt0tWbIkVyDKg/kq8zvok1qzZk1u8CF9H8nJybm0kwBTFKaTdJc+JGpldevWFfRn0CJjiSiQEixJH/NxZaZXadctWOOj24DOfo6wMj355JPCBye1zeK0R1HarrLce10CE4nLP/owpEbAfNWqVbnmgnRelzajVbXypAlFgFqxYkUugNBJy1gd2WMXlWEpSAQfDvOzQ2DMFd/F95hpJAWzugKTmRbyWPrYGBZCc5v0Iy9TgypqO1TV+68bYGJPIntqBkFyFIoNyiFzRvyysZloNkgGsPKApmKmA8GDfigGidKseOqpp8TIEbWfwkBK9urHjx8Xzl3Sn4MJDK+QAwgSiPhOCUbm3FyX6nhM+pu/m6PBMsCWI8YcHGBbMF3PQHXdABM1JArE4MGDRS9Dk2H+/PnCLKENz8a+HpzYZqYtq2PSiTSjENAnR8csh7YZycy/vMwJghKjs9966y2hJT344INCA+PomuwMzACU33FZfVNVKTcvHiWt2Fn07NlTdLacgkNzm+BUVTWiwupdpYGJAiLjP955553c6Oevvvoq16HKnlom9kZ5NXxVYdryrKcEEwrA6tWrxWABNSj6P+SfWYsikFFLZXAnQwAYCGqmdX5AFHy+PL+xKr6LUf0cvaM2yk5YdhIyL0zgq8r1KgtMbAj+cTKndGw3b95c+DEIQDJROIJTVWTIiqwzgZ2+oQEDBghtiDP2t27dKkw7dgzdu3cXgvLaa68JzTTYj8S6BwNQfr8r8jurwrtJN3YaHLAgOHF0mcHBVQVwQq1nlQMmaV/T30FnNhuHgiID8yQISe1I/mZeFRivMtbRTDsGBzZt2lTQ/YsvvhChFzT1qFWx7hJwKuN3XA91kvQlfzMAlfPyKAMMTqUpzb/rQXuqcsBEQOJcNsZ6cMSnd+/eogdhI8m5ShYYFTyRtSQCSsGgmWZeAoQARVOOwsKyLfqXHf1l28nOgs5xxuNx9I4mHsEpVK2kMt9XZYCJvQDNhhkzZogegs5tTquQoz1SKGTDBedSWILPW79DEyICP2lMzZQxSewUxo4dK3pq9ticYiFHPklTi96h0bW4/McOwvwsAzQpEwQo+qH4R+Cpqg7ySg1M0mwjgQlMDDajEEyaNEloR4xelgIgexBzY1nHpSsc7JlJf04OpmDQ18E5XlwniecZEEjNiSNxVnuULu0L42XSmx0DB364BA4XuavMGlFhdau0wERQ4hA0E2fEM+CPIz7UktgI1JTYgwcLAH+bU2ENal0vWICoKZFGH3zwgQAfTjil+cBzpD/bgcF/PKYjlnPwuIgerxO8gtvHonfB9C4OfSS/81kes60ITozh49xQrsdVGBBUtuuVDpioGUlQojrK6GNOk6CTb/ny5UIAJCCZGyS4QQu6Fnyv9Tt/YSEdqSFxcbyRI0fmakP05/GapB2PqUE988wzAsC4eB57cHndyvOncWnShu1CrZUredKs41Iyhw8ftoCppMgrbWPm0p/E6GP2ymR+gpJMZsEorHF5b1HuL6y86/06acWIbQbzkbk5AVcuqRL87dSMpM+DcU9cS4k9Nv1OnDBMrcqiffkAk7lt2CYMoeFyN4sXL84Fp6owalfpNCYCEv84JYJ+C474EIjI3DQrJMDI3NwQ1nHJmN8MMAQiggvnGBKg2BMHa0nB9JbPU1PiRGm2H0MLGHMTfK/1u2RtFSr92CaMwmdbcGoW/6g8VHaneKUEJvoxqIZyWVKqpQSh/HxKoTaQdV/BgsCgSAksNJ+pJTEkgLQnIEnzOVQ6UsOl6c12JLixfBlNHmoZ1n0Ft1lR6MNofIITtV6G3Ej/bUktnLJ6vsKBSfqUiOCM4qb6TwcqR9zIyBSM4phuRWm06nwv6cvvJ41J74kTJwoGZtBqampq7uhbUYCJZcpyWTYXg+PgBUMNqjOtK/LbqcW+/fbbom07duwoNCeCU1kBS0nLrRTARAJx9IC2MEFJMjCFwawpmZm9Ihv5eno3aUxNid9Es5m9Ks1oBlESqKSWEww2hdFA3s/nGWPDtccZIc6VQqkFF/a8db30tCUzLTkZmCY6A5OlWVdSECmL5yscmEgcrgrAzSEZuEf1nw5Ts8DI3toCptJnVgI/gYm7kBCUuNUQ6SzBikwtQaao9Jf3s7cmQHEfPi5lbPmcSr8dzeBT0DFNajrCZVuXBaiURpkVCkwCsgGxOD7VfY7oSKKahaO4giHLsvL8BYEAxM6AjNqjRw+hodKnVBrAlBfdGfZBzYk9tzlANq97rXP5t1tJacOtpdjm3DmnMo7SVRgwMeiLf/RlcAEsOuWkMDCXx2wAC5jKjkG5zC2nl3ANbu6qQlAizcuK/tSGObhBzamkwmU9X3y+YPtyjXeCE0dQS0PLKc0yyh2YCEZEaP4xMpVbbHMUyByMZwFT8RkuVGEljRkGwGh6bkQgI7wl7ZnLskq7Y6C2xC2zuDGBGQzl+6y8fNqf7cpNXAlO5IXK5AwvN2CS6iJzOrqfe+454eiWTlYyo1koylIwqjPjkxn5/TSjGBLA+YfUYsqb/tTMqCnTr0g/V3Vuk4r4dilrfDd3yyE4MVq8NLWekpRVrsDEkADGUHBfM44McN4bHdsV0TDV9Z0EJtKcmirjlMiMkknNnUFZ00c6xDndiOY83ydBs6zfbZV/RSOTbc+lkwlODBEhoFBWKzIIs1yBieYbN5fkvm5UHS1mvMIg5SEsZEKOjnHOGzsGvlOCkWTQ8qgH30FwpPnIRJDk4Ic0J8urDtZ7rvAfOwq5oxDXdpfAVFHgVG7ARBTmDqNEZc59k/ExFnNcYY6ypgXB57PPPhNtwFyCEt9b3sAk30k+GDVqVC5fcDibmpO5bmVNF6v8QPuzY6B80qLhX0WCU5kDk0RcbqnE6QktW7bMDbCzVPfyAyX2iJziQ8bjukrBgl8RwCQBgeDELYq42QFHihiAGVw/ea+Vlx3PUB45MEEe6dWrlwCnkviJSvJsmQMTV508ffq0iPzlhE4uLEams0Cp7BjMLLykNZ3Lcmh4+PDhVwm9BCSZm58tz2O+v0uXLiKMgHWVDnGeL896VPd3ke70/dLUHzp0aIXFOJU5MFFjql27NurVq5crEAQlC5jKHpgkjbmwG3eSoVYSDEDyt8wrSjA5SkfNiWY+AzC5uoGsf0XVqTq/V3Zk9DeVRPMp7rNlBkwMCyAoMfydS65ytjkbWoKSxXRlC0ySzgxcZcwQ24BqOoWf1yQQBecVKYysy+bNm/GPf/xDhDHQ/LT4pGz5JL/2ZltwLS6a17R4igswxX2u1IFJxiuxQitWrBD2KlczlH4DKTAWw5Utw0k6y6kHy5Yty9VYyYzBgCR/58eo5XWe9WBd6efo27evZcYZZcsn+bUr+YfBr/QLcxS3uABT3OfKBJgYq0TfEoeBqZqz12bvlx8RrPOlz3xkLOnIfPPNN4WmRKGv7LSWdRwyZIjwc/C3FetW+vwRCh9Qu+b67ewkuMlBcUGmOM+VOjCxEgSlhx9+WGwZbQ7gC4UY1j0lZ0IKM3s7zubntA92Cjwnhb4q0JhgxDl13D+QAlKV6l4V6BtqHck7tHi45jvlmvItwwiKAzihPlPqwMT5NvQnEWW5lKckgDQt5G8rLzkA5UVDCjA1VC64xzbg2lZSqGWe13OV6ZzkFeacNsOlWFh3/q5M9bze6yLbgeDEAFjOFCiv+KZSByYZRElVnAJibjyLscoGjMw0pnbBhdkISlzwzdwGVQWY+D38Dg5d04Tgt3A7eJ63eKjsecjMT6Q3gUkujcNcglOo2k9x7is1YKKaRxWP6jdD2y0GKl8GksxEIOJqAfTvSVCSgCRzeW9VyBlGwB1mqTlVhfpej3Uk39C05tK8XK7m3LlzZe5vKjVgIihxpQD2blzGxAKmigEmuTrh/PnzrxHkqgpM9FOSrxjwdz0KflX4JvIOp6wwlKNdu3ZlHnhZasBEdY299ODBg3N9GlWB4NdTHVNSUsTmoG3atBEdAzsHcwdRFYFJtg93+WDgJXtu8zfJ61Zeth0hTWvSmOvCc2FBLptDmadCUhxTrbBnbhAGYxH+MU7JnGTl6NfgomPs3SwmKVsmyY++HTp0EMJL8ycvEMrrXH5lVbbzjIPj+k1cG54+j8pWv+pSH67dJWdySHAxxy7KcyXNi6wxmUFJVogTdKlqc8Gp6tJAle07Ob/pj3/8I15++eXcSdKVrY4lrc/SpUsFnwUHi5a0XOv50DtSaqsciODSRXQbMGZRYkJJwcj8fLGAyaxgMTyAzlYu+GWp2aE3cGkKA5mFI3CMWaI5x3Ywl1+VNSX5HfxG9tb8Tvo5gr9R3mflZcuDDAXi0jTUztkRctCr0gETK8SRH2pLnHRpMUXZMkV+9JUR3tys8nr1v8jvIp+R3zhNgoArz+dHG+t86fMk6c6BLq5AwHCOsvAzlVhj4kQ/2pyMNLaYpPSZoDDBYu/FLZE4Ufd63khS8hY7Qq6UwIhwxjldD9pgYW1cWa/PmDFDDHidPXu21B3gxQYmaktkCvZeZBqLQcoXlEhvDt8yLIBtQB+THDmprIxcGvWiCcdlXDjrfcSIEbnTbSRwlcY7rDIK52XyHwch2EFMmjRJABMxwewnKslxiYCJ23kzpsFiisIbsiyYnQLKLbBq1KhRLUBJ0pDgNHr0aAHIFBACssWD5cuDbAPSnbFlDLo8f/58qYESAa3IwCQd39wkjzam5VsqX4agcFIImTg6Qm2Jo1RSaK/3XAIR42jofOUSsHQjXO/fXRm/j+BEZzgVlI8//lhAQ0m0JPOzRQYmqmsMD+A0AabKSLDqUCf6k6gt3XbbbQKkKLDV4bv5jfxWJk5U5qx3xm1ZGlP5d5BsC9KeAb3sJC5dulRqWlORgYkqGyvEnpqjQRZDlC9DkN5Uobl2OtugOsaOEdwzakEAACAASURBVJRIB25vThpw9YHqAsqV7Ts5ACFHhceOHSvimqg6mbWf4hwXGZj4Uq7fzSUQ5FY7FjiVLzgxnoc76LKXIkix16psDFuW9SEwyehv0oEO2LJ8n1V2wfxN7Z3twFjGixcvlso8upCBiYDEeIXdu3eLXmrmzJm5AZUWMBXccKXJ2KQ1E6dncLY3hbQ0y68qZfG7CcqcAkVzbvr06dWWFpWhzeREaw7IlKvGRFBi+DmdXLfeeqsAJTq/pKBUBuJUhzpQS50yZYoYLpffWx07BgITE3tr7lVYs2bN3GVeJF2svPw6TLYDfU0dO3Ysf2A6efKkMB8Y7SkBSeYWE5QPE9Bs43pXDKikYFZX+ktgYs4YLvqaOFJn8WH58GEwnWlaDxs2TLRDaQRchmzKcTSOkZ5c8oC7n0iBkHlwRa3fZcMgHJ5lcGF1X9HRDEwMNKW/7bHHHrOAqQJ2VZEYQHDiCiPUmorj8DY/EzIw8SHulMpdT+h8lZVhboFQ2YBQMF1Jay5ZzD3iaNLxujSng++93n+bgYnHnFRKwOaxxZPlw49mHpM079mzJ+rWrSvMuZKED4QMTIcPHxZORvMGA6yYrJC5ktZx2TAGhY6gxO2Y5LK51ZX+wcBEHwcXkqP/jdcsHiwbHiyMrjKMhWZ1SZzghQKTnP/CWIW//vWvVoNXgKpMZqAJt3r16txoe45I8Xx1BiazkBCoGcLCUJbqShMzPSrqmFH4HBzjlk9m06yox4UCE9db4Wgcl82lmlZRH1zd30v7nT4UbqPDIVmpFVRXIZTfT74gDQjUCxcuFDvHmq9Vd74p7++n5jphwgSxeUSZaUzUlpi2b98uvO2MtC3vD7XeF1DJORpHM46rONKvVN3pYgYfAhN/c40gbmnNlRWrO30q4vvZBkzcjITtsGvXrmJrTYVqTHRgvf7666hVq5Y1WbKCzDgy2YIFCwQwSVAyC2ZFMGFFv9P8/VJrZG/NpYXJq/JcRdezOr6ffiaumcUpKkU14eT9hQITAyvZ0JyTxWHZ6kjoiv5mCuGAAQPEgnw8toQuMJFXtgvpIWkiQ1okgMt7rLz8nOHsIDgrgRPMi2vO5QtMcrnMI0eOiNEOOl85Yc9q4PJrYNKaNKf/hA5F9kBSCM0aQ3VsE/P3S5ow52gQY+24FEx1m0NYWfiAbSMn9h47dgzcF0BqQqHmeQITQUkWNm/ePBHuT+GQvVJlIUB1qAcFjQGtjGzmnl7VNW4puK3zAyaep4bPeDv23MHPWb/Lp2NlnB0XMGTsY3G0pjyBiahGcOIf1bFHHnlENDAb3cwQViOXfSNzcuSaNWvEYlzUWosMTB4Dhkw5PjKPYUCm0mxDWaY5v6p8WQ+ZX1MfHV5DE3XTPR4Yhie3nrJMWZ6ZD80aE8GIixhy8TJrikrZ86dsj+CcwFSnTh2BHTLkKFRtifflC0wSnBi7RLs9+MXW7/JpdMaFMESgdevWwqSTQpg//RmJn5M8OnRTEgCVA0renDz/cvL4Po8B3ZRkebIMlukzJYKJ+f7A8ZU6GZ5APeVzfkNFSoIPkRFhcOsGnC4XeE0mliffVVDOUSFqmLNnzw7p/oLKsq6FRvO86CRXWJVuoVIBJhb2448/imhv+VLLlCt+I0kaFjXngAPXVObIqJyGkn8ZOgyPlm/yGLrQQPIS9LzalkCi5QCRBAUz0ATXw8N4It3ITcHARCDyGIH66R4NTKyv1wg8F6+7kepzoUmDelgfGQ3D68sFJdZZ1iH4vebf/A6C+Y033ogxY8ZYwBQimJtpWFrHbAt2EIzBKwooFagxUf168MEHxaQ8aavzRXkxcGl9iFXOtcAnQ/wZQ0ZHeMH0vxqYCAJ+jw6foSHO54VX0+DV+DughVDQpUnEcr1emk86NI3v0aB4dURpLnhivPAZNLMMKC43Yvx+eD1eGDnzJHP5gsCUozEJkPJ4rzLFWEa8xwOPrkA1FGiGIsDJ6wloWhtVB3ZrEXjg3ppYHRYJjy9GvNPn8Yo8VGCiuTtq1CjhG7V46lqeKmuaSB5lR8pF/Lj6Q6kBEyO+uU/8K6+8krtaYC4DViAKlzVRK1v5nTt3FqYctYDQRpmugFOCpiIhKhrbNQPb3Do2O1QkRtiw2RcDAke8ZiDZrSOF1xQDiZoBQ1GQpBtIjLbDpymweVwij9kQjmTDK55L8vrhj3YiVg/4gWI0BcmaC/FCI/MgRtWRpBrwqYFA0ETVwF5fArbYFexwaUjkipu6G/Gago0uF1IVDVs0H3arThxyb8AjtWtgbXgUEr2x2Kr5EOtSiwRM5FMOFHBnYikkla1dr/f6yMEyTk2hK6LUgInDfFTDaCfKxrWAqfx6H879oqbKLbE5AMFjOr9DYmhhIqnY4XbDO/UrjG7+PFb0H43Ot9XD2/c9hC3hNnh0DTs1L4xpX6PzPQ3R4W93YdgLryHZ8GPbBju6310f251uRLsj4V25Ch1vvxc77KrQuKK/+wEd6j6EbXosDMOLLYoD6z8djS6tW0LzeJHk0vCTTUXzJk0RZotGytoozGrTBV3+WRsd/34X5o/6AJo9Cntdboxv3Q7LB45Al1oPYPSzrXHUtR6P1bob4eFROOhLwphm7TCp/9CQgUnSh1HgdIBTywwN0MuvbWUdr+dcAhOnp3BL96KOzOXr/JbTUCQYmfPrmaCV5dtoYhGIuJQHgyvZ0IULWECDCfiZFOxxurBp0gy89JfbsKzvKJxZGY05rTtgyLNthHmXvHwdetxcB3tnLsblVQ5M7NAVvVq2w4kwN8bUeQDOadOguzfg+1Gj0OufNRE1eTriVAUzR3+MD17uic0qh+O92O6246cVC/GvO26FI9qJbVEKYifPxgsNmyLO48PQNq9gSZcBOLEiCifX2dC2Zl0s/3I2TtsVLHimHfrXboydyyJwJNqGE+4NeKbGXYjbYMO4zr0x8sm22OEqHmhwWgQ7VtJNdq6VpX2rQz1Ic4Yb/eEPf8CJEyeKpDXlCUyctMvITbmagGxUCU4VQVT5blmXktZBllfScsryeYITgwW5qgDfU3iAK4GJS37QnCMwOZHy+VR0bfQwdhgJOBRpw/HF36Fjo/qINXTMHzwCM1u8iItrHDi0dD22zVmC3nUeQVaYE0b/gejd+H7s36jjrYeaYH333hjzXGvsTfSiecNGWPXNEsTrMcLXlKooOOCwo9NjT2LpV9/ilDMG37ftAu/Er7BxVTieqnU/Nrt0bNc92OnzYv2Muej7ZDtkR3sw79Hm+L7/ECT54rDZEYWjagReuv0OLH1zKAY+0w6Jii60NKeuCUd8qPQmrZ544gnBw1u3bg1N07RcFKVOJ3autLy4+m1RzLlrgEnoXIBY84cqmBRgcx4qcwTfR+dlXkncx9gW01A2nai8l6NAsbqGFEMTeXCZ8hnpGOX98lxeo09yiJv3+3QfYrQ4+HQ/vPSfGB4wfiaQrpQjy87r3WV5Ts7S5jsKByXWVwITY5dU7HG6kTJpBl5p8ghiYhKwwxaFn5fOw8uN7odPVTF3wDD0++e9eLv+I+jYsCl6Nf433nu4FS6G2XByyXfoePs/sd8Whq6178GRRYvw5v33YV9kOB6vfS+8eiy8Hj88Xg8SNA3bFA1zR3yINx5+CqfDNAy85T6cWGlD6ver0eze+vD5ffB7NPg1ByLmLsCgx18EbH4seLQ5vh04BGpcHBLdNhx0rsfr99TCxKdewHvtOiJBCzjqnR4DqohtCrRLYXSnhvncc8+JTRuSk5NLXeAKe791PdBOdEm0aNFCrIxRFHMuT2Di3nFc5mT58uVXqcESnIpLdAq4BIsreSCWhfE27Ok5dOzXdcRpuvCDqIaGzZoLuzaswlMN7xdApeWMDsr60JHL0SbWi8PbzAlsfp2gFjgWdRZD31feM7DnIHw6ZBIS1GT49Rh4DL/wkWgeT6Acz5XRq+J+c3Gf4xCrtM/ZuKEDE8GJNNDxk1PDxkmz0OGBR2HExmOLIwr7ly3Ai40bIt4bi4UjP8H01q/hpC8Jm5OSsN0Xi51uAz857PjZFYFXbrsTMR9/gff+/SROum3oekdNxI/6DG882gIeXyx0rxca282jCdNw06oN6HVLXSRN+QZ9Gz+BQxtc2LEyHE/UqQfF7USCoSBVc2DuqA/x/gvdAbsP3/yrRQCYvH6kKA787IrEs3fdiR3hNrxQuz5WjvkUm5waFMMDrQgaDbVNGc8UHh5uAVMRaFdcns3rOfpG2UHQAV6UQMt8gYnDfHQgymhjvlQCQV4VCOVcMDBx+JhD2TIx6tfn0RGna0hWNcSqKjyqG7sUO/at+B4t7r0nF3gMVYNH1eDNSTF6QMNSCT46wc0Az3GEiLE1PBeI4wm8L87QMfSNdzB50BdIVlLgo1li+HNMoSsRxwTQitCYWN+2bdsKU4SNWxza/+gy4J8yF+0e/Be0mBhsckRj94pFaNekMfy6D/5la9Hub3dBnbcEPocbPrsTsz+fhI2qE1t0Gya83An9bq6PhX3fwXZXJKZ37ILBN92HH0aPFzFGgZgmmlgaVK+GQ3Y3xtZ5AH3vewjfffQ5dkSrOKD78cLD/8KYfv2hLlkM3/cL0Oqee6HMW46zNg3THm+BOYOGCLpvcjux3x6OR2+/GfqG9TC+WYjX/nkPHN8ugqaxDQ0RohBqe5B/aUYwej4U/rTuCU0bLSqduAAAl+wpETDRDqQgsEEZO1NWwEQtJzEmRphnm2L82OT1wONywu/3IlGnP8KLzYqKrYaBfS4b9qxajCfurQmXrsHv9cHvVrHJH4uNug/xqo4EPRDrovsDc/oITAQtDlnzfo1+F1UVoLfR40GqYWDY630wY+Bn2KgkQmfMjWYgweNDoscnypZgF6ogFLXBCrqfGhO11pEjRwrHN+8tKjilKgbCp8xEu8eawfB6keJyYNuaFXimYQNoLhc2ORSosxeg031N0alWY7Sp1wSLZszE1oRYxHqcSFjyA974Z224vpoDv2LD8o/Go9ct9yF1VSR8uicH/ANAT63pcLQNO8Z8iBdvuROOleuRqGiIVxUkrQvDwMdbotu996NX3bqInPYVEpw6dkfaMfG55zDnvRHwaR6kuF3YErEGD99zB3RHFA6oHkS8NxavPvQEDNWAh52P6GBCEyBOSWEHy5imgmhtXQuNnsWhE01quWPygQMHQvYzXaMxEdUY1EeEY+xMWQATQSPeMLDJ48Pn743Acw8+hOcffBBRy5cjxuvFVreGjzt2hjL/O7zW4imMeKk99q5Zgifr1BAaE5+fMHIM2j76GNo2eQjfTftSaEZxDgX9X3kdekQ0/vPKK2j96L/hWLAIm3QP4mJ8iHM6MXPMB2j/4EOY0L8/Pu09GNMHjMN2dzw2qgacqzeg9eMt0P7fT+KTvv2wUfhsyq7RCmpoCUzsbdi4bIeiAhP9M9tUHxJ1rzDJkzQFW+xR2B7jg1dXkeBWsNWl4ogWi2MRKvYpfsS7VPhUNzTDhS1OF07YNGx3M+BSwTbFwCklDtupieVopLFCOw2Y4D9H27Fp+Gh0rd8YMbpXdARer4atbhXHHDqO21w461awzeaATzWw2eXGQacd2zX6njxIVNzY6AjHRq8bPq+CrW4Fh6NV7NT88BCYtKIBE+l7880344UXXrCAqYJMOQa7SpO6RMDELX7DwsJET0OnIYdaWTgbuaiCESx4AVNOF87SFLeCvs+1R/8WzyPphzWImjUb9f52E8JXrMYRp4HP//U0Wt1yB1Z+twBbItbhwOolaFm7hvA/OddvwPDefbAlyg71yzl44PY7QT/Czgg3JvyrDZ6rUQ9zvvoSEVNmoOMf/47tq9Yh1mnH8omfo0vdhti0aCnmvTsUj91SE58P/Bg/O+Kx/dsf0OzW2lg8ayES14ah98MPYeCrHSuModk5/OY3vxHLR8jQAdI/mKYF/aYJK3xsNIGEz43msRt+XRVTQ2J0DfFawGxOVXQk6x5h/tLENnQF8ZqKFLcq7qHPKk43BIDH5TikRZR3jg/P5/HgYJQb0x55BnP7DYVXgEhgyolfdSNZUbFRcSOFviZNhd/jRSy1KcUp3uPTaHqriNHs8BkuGIYbDNxMUlTE0mzPASVGm4eqwZJu3IPvxRdfLBLdCqKpda3oHTWXguayPQMHDhTmXChz567RmGjKcSpKt27dcmNnShOYyFSbFBVxS5bi2bvrYJ/NwI/RLmyx2/B+rz54t0tvXHL6MPehFlj0zrvwGwpSwlbjwMrFaFnrLmgOO7YaHuxxGzgc7capCAf+83gzLFq8GIcjVMxt+jxcn30Fze3CBc2Pz2s2RvTID/GjoeGFevdBnzwD7Nn32iLxTrtXMXnQOJwM82HOE+3wZfdBSNKSRH1ORG3AEzXvFmBcEczIzoFxOLIzkBpTSevCqSYEGSZOWaFf70oKTDsRfjU9cN4jQCwABsGAwFFMb07itJHtUQomtXkdqWF26NylOWdqS+47WZauiAGOK+9QA9NdNL5bg05Q8ihiVJEji7quwtA1YcIRlIoKztzVR4a9lJR21vNFByXSTAIT4/FokRULmDikR3SjXU4mMAenSSEpfgN5oRs+/OhSsPWbb9C27n3Y4k+Az+WEoUZj9thPMbLDG8i0eTGj4aOwj/8MhuLElsj1Apia17pL9OQ/OhTMfPUNvH5zDfS8tSaevrMmFi9ciJ+jNExu3BLe2QsRHxeDsw4V0+9uAOew0dijuPHYHbdjY3g4tjqjsVWJwrCO3fFl/89waZ0PU2s3RczUeUjQU7DN5sIJZzj+XeOOClu1kxoggyslrUsLmGR5zDkYcAWUApNpr4yWckTSfP1aTSUATPTt0T/nEX6+jW5d+P8kiEieEYAiACYAMgFgCoy8Cr8RtUGdW84H5tBphgqmADBxSkrgurn+oRxzyRgCfCj3WvcUD3gKoxuBiZpr//79SweYqClxmFowVSmYcrrhhe7xC2BKmTUbz9epGwAmux0+ZyQmDx2Bj17rg7QIHTMaPoLoCZ9BU53YHLUBh1ctRYtad8Pn8+C70R9hYI2GSFsVifRV4ejc5CEsW/g9jth0TGrcAp45CxAT58c5u4KZd9WH+91RApgev/NO2OcvxE7VjR2qDe+90gMz+09G+oYYfN34cejjv8QmzybsinbhRPg6PHLbLcLfVhjhy+I6Jz7+9re/zXV8mzuI0nqfNK0DAHRFW7oWnHitYGAiODGOiuEaHGgwA5I8FmYYTbF8UgCYNGjGlSS0LaG9Xfv+UOhQmsBEehWWQqmTLIP3muPueJ7n5PW88lDKl/ewHWluMw8uV95jzkv6PnNZ5mMCE9dm4rzPYmlMVLG4ciUdhp9//nkuKJUuMPmwUdXwk8OBp++8B1FT5+IXlwcnVC/a398Ua2cvwrkoAtOjiP58Mhy6E6lRYTi6aiWevONO+HUvZg14D1NbtAdcXpxbuhytbr8Ly75fhGPRGqY1fBLx3y6CN9YngOnL2++F670x+NEwMKh1e8x6YwAueOLw09q1eKnev/BFv8+Q4dqIDa91x4AHHsN+fyp+dXgQM3osej7WLMT4odLraUhrxi0x7oORy/ST8FxZAVNezFjQOTPDUWMyJwKTFDTzffK4oHLlNXmvDITlb3mNee71EI9pElPzpM9OuiSKWoa8n++/GrSv/n1N/XKWjAmEVeQs2JfzPQIscpaV4bfyt3w+v/fI67I+heVikEkLDFTwXllufuXI6/Ibc+/L+Q5zmxT2bvN1Dt7QAc7tw4sNTJwjJyc/siElKPFFPDb/Nr88tGMPqDXRIbtJ07DuyzlodUcdvFynAVr9/TaM7z0AW/zJ2LM2GlOfaIVVEz6DQ3ch2RaFnct+QOv6DcWwctzytehRuwFev7smet53L7o1b4aVPyzH3ggXPnu4JTzffgdvjAdHHC6Mu+d+hH3wETb5PYhfuQ6d6zTFCzXq4ZX6DTG2xyBMfncK9kX5cHJ9JIa1bo9/31kbr93bGIPufwj+pSuLLAih0SF/ASN9uQW7BCa2gVlzLRn9839vSetdWZ+nUHAGw/jx40vclsGCKwVY5rmCnAOaEpBkThrJe2UAMENSCCAcqOA1lpHfe4LLL4zmEphEHF8O+MkQGLnOlrmM4PfK98n6MzffX5TjEgMT94KiCSF3RDGDkfm4KJWS9+b2rmLdHh1xqoZEt4oUlxvb3Qo2aYF4pB0uFduWr0aKwwVFVxHncomZ7kmKG7rmQoLbic02G5LtYYhzrIXXFQ1N1bBV8eJnu4GtKtcW0rDN7cKh8AhstEXArdmQ4vFgm92AJywShtsBj9uAX01AghqDTaoXm3UvEh1ubHIq2OZWKyRcIBiYaEpLcAruKCRdrTx/gWFMHp3f48aNK7ZQSfoGC64EGZlLQZb3mwWax7xOsJBAlKTo2KX5sUnzItHrR4wRiMWT5QXnweXL9+SXy/oShNzegFmX6osVAOjycorP1XST98v3yveZvyO/dxV0njxdasAkna1mMDIfF1SR/K7JD2ceQN+Ac5XDxBya5pw4n6YhUdNEcCWHsvlOv6YhgYGSmgLdcMOnuxCnu+H1OKD5udIhh7+9iNc82KQYYnjba7BMNzapLsQYTri8DjEilKAERpJcXh1umh5GDDSPH6rHL4awE8UQOyPSAz6X/L6lLM+bNSYLmK4WnqLSXQJTaWlM0mdDHjYn1sv8m8f0tan0t+UAAAWeoESthfFfSeF2DHv2ZTxZ637069kbCf7Awnj0wfFeWR6PzRoVTSqWKfx5Obn5PZJGnPPJ6VW8xnu/mvwFPh/+PuJ9fjh9ugAmvoP3szweixCQnPfJYFb5Lvkd8v5QTbsSAxNH5Hbu3CmivvPqnUsTmALE40gLh4M5jBwYeZGNx4YT8TQ5AMFIY14TQ906h5hVGB43NC+Hlzmi5BXRyGx0PsehcN5DMPPobugedyB2h6shejjHi/4QOmzpkA/8pkbHOXdskKLEy0hGKI2cpgeF6c477xSbN0pgKintS6NuVbEM+uv+8pe/CJ8p/XUFfkOQT4iCaE7kP7MpJMwh+gC9XiHkQoDVwKJ2vFfVNDFTgbkENJ5nB5ygKXAy6v7WBtinxsOrkfcMcKqVmffE+xnLlaNp8Xm+N8rNztaAnR2s3wuXJwA0vF8ChlvVxNrp5GcGNL/bow96tHoJW+OTofk0GF5DhHV4xJzHHGBidL2iwudW4cuRBQKs4jXg1tSAz9MEiub3FUhbwxBB26dPnxbR34WFDFwTx0QTjuunUEAoDOaXlVQ4iMgkrOwJOFxNUJHrPwcm8gb3kLIOgVGfK/WRzwb2upOrA1x1PSdeh+9gTEwgfofly1n4ORNeS+jcu/LO4LoX/Ted3HJPLuYWMBWdhrI9yK+kJ9dLZ3AfeVpeyysXIBAkdDzHgFKa+qlMXOlT0eFhyEtsAjarXiRrAb8p70v2BKLnuSroVk8MtnljkeKNyQlcDfA+rYNtHg2uKXPxfuPnsTfSC93mQrKbK40aYMgFo/VZLmckMHp/t+pHkuKBR/MhTvOIwFNq9xvjEoQZyPcSgAggBDHWa5PiwUZ3oO6JTgU/GYk4pG7CVrcXW2I82ObxYocamH7F7+SKplzJdLvixS7FhxTVgF/TRXni21QDO/0J2OTxi6lbBNtQgYntQF8fByPoAC9sCZRrgIl7cnGZAjkaZG7A0gImglMAoCS4SHCSIJQXMxJE5Mx503WxKgEbPDBCZK7v1cfmsmVZeZQX4mjP1WWb6lPC56mpEpC4DpNc51tqr8EdRVnV4Xoql2A0YsQIIRQ0kQv6NjMwicng7LA0DZ6lq/FGnQfx4m11MbV7P+yKVLA5yo3327yKXnc1Qse762P5uCnYblOFz2jI8y8jZf4KDGraAp1vrouvh32AlJi4XHBKURUs/nQcXrq5Dnr8Tz20+0c9RM5fijl9h2FFr3cxvOULaNegKfZFqljUfyR61HoAb9xRH+PeGARVicdulw/h747ChBc7YXLXvuhQoz4GPf4sEm1uOHwGfuQUngkz8fod96PTbXUxZ8Bw7FBjMGfop/igfV8cV+KxY/Uq9H/g3+h+633o+q8WAtS2RCs4skHBOw80R487G4gF/hIUHVscGjavisCgx55Fp9vqifc55yxEihIYECuIpvIaNVcCE31NoSx/kgtMEsWaNGly1TC1LJh56QMTBZrgFNjSR6qg5ndWt2PSmLPiLWAqHbA3AxPnfhbET8HARM0+OSYWHe9vil1TF+L4GhdWfzAJ29bbkbwhCurEr4A1Ko5/tx6v3VQLe9ZEY7dTR/eHmuH1ex/C3u/WYefUBXjyxtsRtnyFmM9JH9NGVRGxdJEfTsYH9VrheLgPOxUv5r05FD3+VBP2D7/Alggnjjo8CB/2Mc6vdgLrdHRt3BKffTgDx2x+eN4egtduvB0rP/gMF+x+jGr4BL4cPEI4ud3zl6LbP+pi7/zV+HWDG0Nav4RNLi8+f3MkhjzRFenKRkxs2QqR74zE5Q0aIqfPhTPahgMuHwbWaooVvYfhbLiOLwcMw5I5c3HMn4xXb62HdUPHIt2ViB1fL8erN9USEf4F0dN8rdjARNWKdl/9+vUFMMmtgsx2eWkA0xUzLqDW5lY+aIQg93wJNZCqVk4wMJm1JV6rat9T0fUtLjDRj0OTKEUz0K5GPazrOxz7wjVsUuMR79bhddmxx67gl2XhOPt9GD6p+TB+WrgSO9wKOjzWHNHL1mG3y4tjTg9a12+Mb6ZNF3P+YhinpiuIM9xYNX4qhtR/GifVeGxR3Jj51lCMbtoOx4wUbPTFYKdmYL/djl/C7Dj4/VpMe+NdDH5lENKdCYjvOxjvNntaTJY+5vbBN+QDDH/uBWyMi8OYrm9hZrfB2OPywW+zw8f9+VQVn7w1EgMe7YyMqER89XgrfNTyOWy3OZDKSe7+OBjfLkWPm+rgcLSOZG4aQd+YXlzaKgAAIABJREFU4sDaidPR47bGOBDhwVYlBkfWOLHgyZewcvSnIfNjqQGT7F1KE5gqmkmrwvuDgUl2BjKvCt9QmepYHGCSmhMHYJJdCvyLV6D7fQ+i5e118eXoicLPlKLa0bZJE7zW+BEMqPUARv1fbRz4fpUIUXn+ieZYuWIDUjQf9mkGWjZohG+mTUMMJy+LKHZuW+XCsolTMbDhUziqMVzFjul9h2L4wx1wyJsKMfdQ5yobL6Pt3ffgPw2aotWdjTHipXeQ7UhAUt9BGNjiadh8XhxWvYgbPAZjnm2HjYaB/u1fw4r3p2KT4oPLUODmdlm6Gx/2GYkBT/TARUcKLq6OQM+HHkaTGrdhUK+e0J0aHNO/xdBaD+Ogmwsmcu0rFbEeFWs/nYahtZ7AL9pGqKoHp5yxCHuuG2a90d8CpsrE7GVZFwuYSseEk21UEmDiPnwxbjeSVVWEr2xeHo5udzyAfYtX4/t+fTD4pRfFIodH7TpG3FIfu75bjq2KE88JYAoTwHTA8OLpRgFg8mscSdbg8SjweFxYPuELDG7QAkc1P5K0aAFMox/piJ+NTSKsQJ83H53/eTP2RUdjR0I8RnQbYAKmgRjYomUOMHkQN3g0xjzbFlt8XnzcawBmvj0GSdEqVMUFRXFC010Y03ckej7WHQe0FOxw2vGT4YR/9fdo/VBTfDt1DryzF2PA7Y1w2O0XI4Mi5kpREfX5bLxb4zEccMXDrho4qsRiXvMOWPvx5xYwSUa73nMLmCoOmGR8kNSYuMSzFhGJBZOnYKvLjW0/hKHrLfVxaMlarBo4CD2aNYNXccMxZRYG39YAOxavxGa3QwDTKqExeXHQ58fTjRpj3rTpIh6PI88EJq8RAKZBDZrjsOZFvB6NKW+/ixH/eg0H9U1iTfbEJUvR5W9/x851axG1ajmea9oMw14eiDRnPHz9BqHfUy1h93nFgnrG0DEY/lxbJBs6NsxagOfvbAzvsvXwREahe6dXoRlujHx7JHo+1Ru7tY2Y/dFo7FVs+CliDZ5r0BBfT/oKu9e70ef2BlgwaBTiIuwYP/J9zJnxFfZEGnj9L3UQNmEWfNEKPN8sRqcb78KOKNc1I/f5yadlylVxn5QFTBUITEG8k6DpSHUqGPJ0G7xVowE63H0fFo37AtsiXdjrUDDk2fZ48a56GPvUixj3UCtsX7YWm1xOdGz9PFxRLiSrHuz2+NCxeUssnDoDG/2xIlSGwb8CmKbMwJhnXsEut4YYw44vR4zF8Fa98JOeghhNw/boKCzq2wcv33MPOjZshBGdemHIfwbhlBIP/wcfoX+bNnB5Pdite6F/MgkjXnsdfq+BuPVRWPX+ZDxzex08W/s+TBgxAp4YA2NHjMebbQbgsCsJ3/boidfvvBuv33E3xvfsA59Tx16nD7u/W4PutR/Af+5ugCGvdkVEZBR2KjFImrUUves/jm73NEWPB56Afda3iLc7Qx4Qs4ApiLnyQ/DKet4CpsoDTPGajs2qjj3hdpzf4MKuSBe8Lq78qSPFqeHHcCeOR+o4Ge3FiSgD+xQvEt1uxDIg0vAhxqUiiSuCRtsR5+YuP3LSswqvx4VtHh92R2lIsjng1R3YHpOMn9StSHbHikBfLjW8T3Fij92O/Q4Xdri8SHInYJfTwBGbHaluN9yGjlTDi70OLsSnghoZY66OepOxNcyBzWHRSGUApY/+rXgkurZgjyMGx8IicNah4LRNxQ67AsOlItWpY59Nx951DhE2sNXJYE7GUnmxX4nBUZsPF2wx2Of0IpmBzKaVRwqTJwuYLGAK2e4vjJmuh+tF8TEFfy+Xeon16EjU6GPiip5cZM8jACZZIWh5scUV2GKdwZDxhgd+jwG/JzDtiat0xng84Oqe7HAYYc1J7AE/U2BLdWpVLNeju+D3+BDrSYRHjxHrljECnLMXYjlfVHEhTuX8Ui8YW5SsKEKrYlS21+MROwpx2RiaowyKTODULFVDnKLAq9MB7oImJgvHIUGsr+4WwLbFrSKJa+NzhVLNEFu7J6uBlUrjuc6W14tYw4sk1YONqgepCrfrCkxdYf2CaZbfbwuYqjgwsWHNcUxkaHPKr+GLcz44dMP8uzjlVcZnSgJMAZ8TY+wYAKyKrao4WsWIZ0Zmx+texHHirccL1ReYmsJNHyjMHM1mzt9iykrOdTENSsxEcItF+jgHLjAvk9qOB0rOvE3O31S8XjHthNHcXKOKQclymoiZJ3hdTE25Zh0szjXl2lYqVEMBt0Kj/0x8V86iffSjBd5vWu8qaCYE+ULO2BBtHHQ9lHYvFWBq3ry52IiAL7TCBUrXtAilEdevXy/mKzIC3MyAPA7l+VDvkQwnGD6H+a5iwOsA5EsETPx+OfdM7J8XNNlVaCCBeDzpMM+L9vIagUfMXhBlceI5QUEKPduWk8p9V5KYw3ll2odsL+bm97B8AqYAnaBr4j5xjYHMVz9nLo/HweXKd8hr+V2X9xWUs7PlOm/k6ZAivzMzMyETF4lr1KgRnnrqKbEmEAXBk6OG8pjBfsEBf8GCY/2+WsMpKj3YEURGRorwfa6RLGku86KWV9D9YrIoZ7Kz1+Sa2zkrS/J8Qc9VpWukp5ySEh8fX6rfJelXPHrlTNZlZ5NLb86uoNkn05XZFlWJ5nnVlQv1cQ4ul1XiLBOJOfnlNzDaW6a0tDShKf3xj3/M3R1FCgRzTiiVk0rN563jAGCXBh0oSAxuveuuu9CsWWAFTUn30qY954EZ9G9oORuHin3bAvPDSuNbKkMZ7MW56B5Bnp1sadYpsOECN10oXvtf+zw7/+BUvLJL8ztLWhb5dt26dWIlUWIM8UbmEnuC8xuoJcl0+fJl7NixA7/73e9y95MzV0oKiPmcdVy6jENBIjDVqFEDTz75ZG5nUNq0V7nwfw4wxStc/8pAjFPJPUew8ohlLzj6oiNG0eFVdXHdLFCyDN7P41D4QT4vQTHU50IpO/ge0pPLnkyaNEmYP8HXrd+htVlJ6ETeXbt2rdCYiDHEG5lL7AnOLWAKUZhK0jBFeVYCU82aNcsMmAhKiq4hAE4qtjlUzO76NqYNGy3Oc+v1WEUTYBRn+LB8znysn70QCW5DaFgEFHPijscxSkDzYpkaUwF0lWBW1OcKKrOga1wqWi4UV9B91rWC26249JHAxHaQgCTzYECSv2+gSiXTpUuXwDW/qTG5XAxlV67qsfk7+Jzsya08YOaWlA60z+kLoSlHjUnSXOYlKV/jMr2qGtCEGPOiKlA1N/ZEuTG/fTdM6/MOFC4GpqhiR95Yt4Z43Yfer3TBW207IVHxQuXws6Iixh24T2d5iiq2bPIpgWOeYznuHP7h1ux8hvfxmky8P55rGymB+/lMSb4vv2fpmiAwkbb53WOdLxvak67kXQ7oEJiIMcQbmUvsCc5vIHKZ09atW/H73/8e3Pedi8ZJgWDO5XaZzOes4wBYlxYd2CvRzzRnzhyxVrWkucxL8h5NUcQKiYyDSXVo8DmccLkcOOb244f2b2BGr4HwM05H1RHv0uBzKvA4VcSpfiRocdBdGlwMIHRxTXSPiKchULFcxelCkuFFslMTy3u4VAVOxQ2X4oZf0ZDkUESZXrcCw61AdXOnXUMAU0JMbODeMuAtjspxd46JEycKYCoJ/axni8frXKmEm+i2b99eYA13+zZjTl7HNxC5zInIxc3pPvzwQ9GQUiCYU4tiMp8rzrFCBsxJfF4eMy+oPHlf8D3yvPl5CkTwfVXpN21ybjskaS7zIn+DwvZip6Ih1qlgrycGSydPx/ONHkLLBx/G2h9+wFGbguVtOuGbPu9gYO8+eKxWPcx9dww2OVXEe30YMeBd9On0JlIVH+I2hGP59K/Qol5DNG/SFBtWroZmdyJ85So889C/0OL+Rmj/eHN4o5yIdypIUTR8M/4ztKrfBE/Vuh8vNHwYXZ9+FkmKC97IKIx6eyAevPc+PNq4CdYtXwHD5YYmO8Ag3jC3b6h0WL58ueipuYEoQZ89eKjPWveVjgwxhunPf/4zevXqJQDp/PnzV2GOGX/kcZ7AdNttt2HkyJHXNGKxhSMIcMhg7DElowX/zo8h5H28LoAnB3zkeVker8neOr+yKvv5FStWCIGi1spULNorLrgUJ1wKNR0ftoU5YYyegA6160NdtwHLZ81Fz7Yv4qzdibUdXsFLd9TElxO/gG/29+j995pQvpqLBL+Od7v1xpDnu+F4mArP8A/xzC13YvXixXCuWY+urdsh1aFgbO+3ETn/e8TZnBj1ak98+Hw3nIjywD1+Cjo1eADeZSuxbsQ49L+1EY6vj8Je+wa89cwz6NP+VcSvj4Tzu8Wof9PNWPvtQsS4NQEesl3JK2Z+KUrbccNLDlPTApDmWlGet+4tOTgRmLi7d48ePQQwXbhwoXBgolplTlSrWEhZABMZTTKb5rrCbPIc84IYgc8YDpdgUglM5jLl87zmyDEj5PWCyq2M17g28g033CAC0li/4gBTAJQccCoanG4/9qx3Y/itdRH5ySTEqCriHG4k2xQcWrUGK9q3xeROr8OwKzgWrmDRY+0ws3svxPoVjOjyJka16obL63V8VqsBVg4fjYgN62FERiM52o2NK8PwS6SKbWujELd6A/TpC/F27ea4vFbD4le7Yn6vt7E9PAoHFq1Hnz/dg8tro5AydxqevuN2xEW6EB8Wha0OJ0a/0QvDu/US5p1sNwlKxQWm1atXC83TAqaCZausZIB8y514b7rpJrz99tugtmTGm/yObyB6mRNVqbp166JPnz6ih5ECwTy49zZfC+XYTYe6ywXN6YLh5LZKHqhuRZzjeV4vqByPw4WYSLvwWTjdgXv5HJPTZhfPO1xO2F1OOEzXCyu3oHdW1DX27mzMd955J7cdzJpTKPVyup1wuh1wuFXY3V7sXO9E/7/dDXXG3EAbuBQYDgW/RNvwwwvtMatfP9jsDvwS4cKiJ9pgapeuiPG78F6XNzGy1Ru4FO7FqJvvgv7FDGgOJzx2F2JsbuwJcyN54mz0u+8RdL6nIV69tSH61G2JC2sUbB0/GQMaPojd68KxatjH6HX3g/h15QZsmToJHerXh6HoUOw2GG4bJowcgQGvvi58WLJdzXlx2nHZsmW5PlPpIwqFdtY9BctiqPRhxDe3u2cnu3//fpw7d04kM+bkdXwDEcycTp06JWIO/va3v8Hv9+eCEYWCvY50ikuQKkrucrqEk9SwOxFjc+Dltu3goqnicIhcHNNsyUnina4cU8bpRGK0A3PeGY7B3XsimsBDgLM7oTqcIoYmTjfgWL0Oruho2AhOrkBZzhywImAJ0Mq5xuvm+pvfaz5fEccUIglMPBa0yBmQCLk+4jsdsLvciHaq2B3mxOCb74UydQ489gCwGHY3fo60Y/mLL2Pm2/0QaY/G4QgHFj3ZBpM7d4HhswtgGt2qBy5GxGJsrQZwjJ8CX7QTMVFOJES7cWidEwP+cR+SPpqOkyujkPLlUvS4twXOrnbB2W8wPmneCq/eUxd9Hm6OLUvCcIwz3mdMxXO168DjUqFHRyPGEY2PhgzGkO494HO44HY6r0mSP0L+fqcTt9xyC1555ZVcTbwoz1r3Xi0fxaEH8UJOsTp48CDOnj0rkhlz8jq+Bpj4IO3yG2+8UfTU5sqUFJjcBCaHW4BSqtOJZg82xdp1a2En4JlAgkyp5PhWCCQEFp7bGWbD6m5v440Wz2C92wV7lA1hCxYLIaPwelevR/O/3oIfZs1BhOJAtDsATgSpSPeVxD25eE2CFMvnd5Lx+R4esz75JXl/Lm1y7r3mfE5ZufcV4TfjmRo3bozOnTuLwMBi017UzQ27S8X+MDcWNn8Jwx59GlucOnyrw/BBr344FeHC2hc7Y06f/rDbovBLuBOLm72Iz1/vCsVrx/DuffB+6964uM6P75/piHeaNscmm4rUcBem9x+On5dGYvCN9bBj0rf4ZXkY5nQeiO61m+HUCifmtnoBi7r1RuLsb+Gf+x3il6zFrrAIpC5dhBa334mln03DAYeBnSs2oGWtelj73SJ4nAFgkh2FOS8KLZOTk8XUnrZt24qRZJorRXneurfkwEQazpw5U2hMR44cEUoQMSYvMDKfu0GqVjLnhnQcveAuHWxIKRDM7Xa7SOZzRTl2OZxQ7C7E2mzYYrPhqSZNELZ6DfQomwAr3RbQyAybA/HRVxJ/8z1710XB8Z+30K/ZM4hikN+GaDzzz5rwrVgPJcqG7RFObJuzBFuiHbA5o+F22MBnvTYH/DaHOHbbHdDsgWPFTkB0we0InKMWlxzlEHXhPS6bXWhzPGYZnpwyZHlx0Q4kRgXO252BOhaFHvndSzpzbtHkyZPxpz/9SXx7yWjvhN3pwvZwB84si8KQZs/jXzXqoEXdBhj39iAcDLNjfseumPRmXziio7Ar0oHpz7yMjzt3g6LZMKJXf4x84S0ci4zBqVU29H3sGTxRpz7aNX4UE98ahGPRXqzpMwLtbrwLL9epj/c7dEPXB1vj+Fo3UsdORp/7m6BPi5bo37wVnr+1NpZ9Mh4p0eFYM+NLPFe3MdrWqo+X76mPsW/2E+ahStpTO8zR0POjU0HnST9eZ+wMp6MUdK91rfR4N5iWNPk495a7L9FkO3PmTK45JzEnr/wGqVrJnKbc8ePH8T//8z9YunTpVQ1aMuEgsznhpl8iOhqbbRF4rlFjaCvWYXq/dzGu/etwfv8DwiLCkRjpwI7l4Zjy8hv4ou3rmD3qI2yIjsLuNWFwvtYTQ55sBYfdhZFtXsXAG+vii5fewJQhI7EvXMX8roMRv3gFPNEb8NmQIUhdH41FQ9/H1PZdkfD1Uux2GGJt5fH/eRPaqvUiLofglWx3I+rzrzCzfXdM7PQm9BXr4I2wQXe4MH3k+4hduBxju/bGl8NGY+s6G/aGufDDO2Mwt+ObmDpgWECI7Par6BXcSEX5TR/Tp59+KqZTsKMoGe1phjvhjXYgJcKBuKgAMPO7dZsd8dE2JIdHwBsVBbstGj6bE9oPq+CLiIRmj4Qn2gFvhAu+CDtiIqLgibLBbbNBi7aJYwJ6TKQN/shoeKOi4YlywbXeif3hbgy4rQ588xbCaQ9H6oq1cPQfg04Nm8LjtsHncsAX7YAeybLs0B00y11g5yGBiYAvk6MI4E9gWrVqleipaUoUhfbWvaUHVOTdli1bgvtVUiOSICTxJr/8BiJYcKLK9fe//x3z5s3LFQjZi7PBpZAUNXfaHXDbnPBHRSI1agNaN2iEZxs0xaQe/bF62Md49Laa2LD6/7f33e91FWf+2s3u8+xudvNNIQmbBJaQhFASh9CLCZAAJiFPEkioYamGkJBCWVrABoMbxsY27kW2ZfV6e1PvlixZXbrS7b1K5k/4fJ/PXI18fKMrS6hYss8P7zPnnHvunJl33vnM+77zzowW3YZKvHzbvahatQmtq7fgl9/9ETasWY9AuQmVDz+NV+5YAaPehML/W4NX/t9lsLy5AUc3bIOvohYvXf4T1G/fh+5KIx665RY8eO3N2P/cSzj84PN4+OIf4Hc/uB65r67Gx488g3uvugbVtir0VTdi/ZN/xKOX/gg1b6zHoZUv4WdfvRiW/UeEmfj8il/hwW//CIdeew8V2/YipK/DW9ffg7W3/xpNqzbjrz+9D688vRINlpRGOVO+ZHqfvOaIX1hYKDSo2fCe36iy2VBNso6TeGZFtc2CKqsJlVaL+A7f5UjXUF2FFk6zW63iP5U2GyyVVphtFlhsfNci/sNrY6VFPOczi7USRks1unVW/P7iy7D6iadQUVaItrxi/OF/lmHvG2/DUmVEpc2COluVkCdjlQ0mszlVtvGy8nvWylNkq5w+f7lDA2OY6HTlAlLybrb8y9RO6vOp24WR9/39/QJnJBClY076/aTANDY2hhdeeAEXXXTRaSA028ZNAVMlWs1G9Jm1uHvZj7B/4zZ0mqvRZ63C7+/+JVa/+CZOGGvRq7diUG+F21SF7NfX4sV7HkOi2ArzI8/gLz+9B4YqG1rzyvD0Bd+HQ1ODKp0V7opavP7tW9C+MxtthnL8+ifLsWfjR+LUVLeuGrdffBn2rf0II7ZajJTrcONF30aVnvlo8JuvfAe9BRr0Wqrg11iQ/eBTeOe3j6KpqgrP3vsbvPe7Z3HCUIM6SxWqt+zHn7/+QyS1dejXWtBfosN93/wuOvSW0/g1G4ElrznS05Tbv3//nHQsdnSSBCimp+6t4lqWmb4Bgli9zYYaAtn4uxarFaQJWeC9jWCVSlPPbbBQ6zJb0aIz4Jm778WvL1+GX1z1Y+Rv+UREnFtsJqGd8aBFmzX1f/63cpxk2WR5Zpqy/CtWrBAyzKUoE+Udd0fMND/1/anBJxN/6K/m4DowMCC0pWkDE31K6URgeuqpp8SsEKf7ZKPyWnkvn083pdBVW6xoMenRa9Lgp8uWwVCoQa3ehFqjDutffwevPPYievW1aDqUi4duWo7lPLL8W1fir7c+jE+LqqB/5Fn88ad3o6LajMa8Ujz+1csxoK2BQW+Ds6IWb11yM9p3HESrvhz33b4cZUXFaNCZhBa2/IplKMrOwQmjGUNaDW66+DuwVVjQsDsPf7z4x3Doq2Ex6OHUGOH9aC9WXncrmisr8fTP70f2GxtwzFADq8WG0tWb8acvX4X7L/4BfvA/l+Cn370C93z9f1BXWDbBq+nyZKr36NCnfc6o2dnwPf0bBAK2BVP+ln4v3+c7VQqw4HtSBpSp2WKB2WoB09RzvmeD1WKBzWJGh9kGr7kWJ6zV4vfKShssFjOsFjNslC8F8Z6kLJ8sz0xS8u7uu+8Wzm9OJMjyziQP9d1TA9Bn5QXXKHJ2me4h4ozUjNIxJ/0+iz6ldCIw9fT0CDWYO87JRjWbzSDJ+5mmFLgqs0UAU4+pAncuWwZNXqkYWatNOrzz19fwyuN/g7O8Bk9/43IUvL4Kx7Qa7HllDf54w+8wVlwNzaPP4A8/uwtlVSY055bg2a9cgf5iK4w6G0bKa/Dmt2/CsR0H0Gwowy/uuA35efmo05uENkNgyj9wBB0GI+zaCtx8yfdgKbegaWceVn7lcoxUWFBpMmG4XI/Ot9fhuRuXo8Vqw5M/vx+fvLwGJ8w8zseKgrc24s8X34CBEhOsRgPqTSbUabSoMZk+M28m4yUnH+666y4x5U1bfTa8V+avBAI+T7+X7yqfy2v529QpgcmKSosFNeYU1ZotqDRbTqsD85RANFnK36f+ztS/czH6gQMHhBY7W9mdTTnO5/++8847ImCbgEScIQCl481k91knT55EOo2OjopdBmif006XHWK2jUtBo3C2GPXoM2qx4oc/wp8fegJ9VfXoq6rE3VffhE/e3QZHkRXPfvFS2A8Wol9vxGv3PYYXbrwf8aJKlD66En/42d2osBpwLKcYf/zqVXBX1MBWYYWzrBKvffsGtO48gEZ9Ge694zYwwI4aWYfBipu+/wMUHjiCNp0BA5py3HDJd6EtMWCg2IqVX7scjVv341iFHj69Fa8uuxEHXn4DrWYrnrj3N/jo5dVoM9ei0VKJ+r35uP8Ll6L7aDm6rJVor6yCubwcVgWIz4UwcpTiBATbQfqZ5iLfhcqDYFNtToGH3mqBif4nBdhIsJsqVb4/3WvyjQMq1xryWsqtlOPp5qO+d3p7zZQfnERgPOTHH38sACkdZ6a6nxSY+AciGxfzckUwR25lA8+0gPL9lMZkxjGDAXajEfde/F2s/e2TePzya/DkZcvw9E/uhbnIgBO5Wqy7/Vd4+rtX4/mrb8ZjV9yIZ2+4F7ESG/IfeR6/v/4WmE16DJQa8edv/ggvXHMHXvzNI/CX2vDChVfi2J5DqNdV4M6bbxLAWm8w47jOghu/cwVydu5Hm86IQYMeP/jWRSiv0KNXVwnza2vxwJcuwV+WLcfvv7cMz954K3oqDGg3WPHwHSuw5k+vos6U0gQ66IN67v/wmwsuxavX3I4nfnwzfnvTchGSIOs6Vykdt//8z/8s4pnY0HOV70LkIwGH3xKm3gIBE/0da9asEb4NJSipwDQ7oJmpzHBw4CZ9OTk5QvmhwkOaCpDkb1k02yYjqlfLly8XNrpOpxOjDmc6SOmNPd17m9mESpMRjXo9OrQ61O47BLfGhtad2Rg6XARndROqDFa0lxkxUmpC39EyNO/MxrC2EvVHSjFYbIS/xIS6IwWoMplwosyAeEUVWvbnoqmwHCPlVvTvzkNvmRE1Oh1KcvNQXFKCaoMZ9eV6lB3Kg6FEi5ryCtQX5aFg/z7o9AY0aUwYKDVhpECPgT35aM8uQLfZhrriMhwzWFGy9yBqyvSor6yG3mxCs94Mu8aKwSOlGNmbj+MH89BjtIlFrRaauuMm73T5MtV73A72a1/7mjDpOFM21bvqb2Yhn3R8c13WJZdcIu6l3M5GdlXeptw40+UDB9TDhw8LbT8ajQofE/1MpMnwJv1ZlkSx9JTINTIyItRhfoSNSgQkKRt6JtcWkxFWkwE2gx5VOi1qtDo0aA1ipXsdY010epgNJlTpjKjTGFAvSI8arQE2nRE1WiMaNKnUynuNHo0T76Su2ypMaNSZYdHoYNIboTeYYDSYYNIZYNSbYTRaYdZpUW0oR5Vei0q9CRa9ARaDEbUGE5p1JtTrTagxGEV5qg28Ngsy63QwiLLr0awzok1rQIfGIGaeGgxGVNOUI3CPA/hMeJPpXQ4Kubm5Yk8hXmd6T32eGjSp2XM/K5pxPIRAyqxMVT6l+DTffKCVdeWVV4oND+PxOBKJhKB0nMl0nyVRbLKUKMZAS3rW2bDc04YkG3mmqclohNlogNGgFx2cqcmgh954iuQ3xHcMBpgMBuhJRqYsgwkmvQlWvQlGfao8zMOqJxlgE0DDd4wCkAhMeqMJWoMReqMZeqNFfM9kKIeVIKM3wmAyosxihNacuma9zAoiaNkMRphdKe+rAAAgAElEQVT1qfJa9HpUGgynkc1ggGX8P6znTHmT6X3uMiAXotJEyfSe+jzFc8rNkSNHxEi9ffv2CZmVcqXyae5kcypeUmvlvvUPPfSQMN+ILwSoyXBmsmdTAlM4HMZll12G119/fc6AiZ1WdlwJPkwJPlJ4lKlx/Pmp340wCZBgKoHJALM+BWL8TZAAJgIZtaYUGQhMBmpN1Pr0MBv1Akx4rzedAiXx+3g5U2BqnAAdlkf5jKBFQFKCkqzfVA03nd+k2kxAYsjAqlWrVGA6A+hzgz2uzeKAqpQjeT0dvqvvzB685LY9fX19ApgISjMCJqlipadEMapZjP6mA4uNtZgaN73zn+n+lLBJk3Rmml96/jI/Ppckn81VSnVbgtPKlSvFIDFXeZ+r+dBBy40Ob731VjFhI2VWpudqvRdbvRigzZ0dJK5wNQlJ3p8pzZJIlp7yj3zGiE0u6OW6I/o4ZAOfzZRaiySWQ14znez+VFlTGtSp+8m1tPTf0/OXvyufy2v521yl0hfw1ltviVkmCVZzlf+5lo9chkKtidoTR24lnWv1XWz1Ia+p4d95550iODgSiYDOb0npOJPpPksiWaaUe6jwwEDu10tgUjayen260M8XPzgacidGmidcnjJZh5uvby+VfKVs8vw4DqTkEfnG50paKvVZyuWkrDLEhZMQBCYlZcKZ9OdZEskypfzDAw88INRjjtbKRlavTxf6+eIHOxhNOh7ffvHFF4vr+frWUs2XM8fkE5ehXHHFFROuB9aHaw4lLdX6LZVyc7dKBlR+8YtfFBaXxBX6q0ny/kzptICJG24x+pjh/UuFQedSOdnh2PEYNMh24EEFVOHPpTrOti6SHwwT2Lp16wR/CEjknQpMCzeI3nzzzXjyySdPA6EZA5NSzcp0Ta2JQX7UnGYrQOr/Zy4gVOvZsWi7cyKCu1oSrPhc5WeKnzQfNm/ePDFRI3kmAUmmKr9mLn/T4Rn5S57Tx8c1ihs3bhTObokpoVAIJHl/pjRLIlmmlD4mql202XlwoGxgNT1lHsw3L2Qno1Zw++23i4h8mtXy+Xx/fynkz90EeHoxo72V5aW2pCTlb+r13Mow5fH9998XoS08eECJKcQRkvLZVNdZEsnOlHJ2jif0ct0LRyeSssHV69M7wFzygyMW82Mq908+dOiQGCzm8jtLOS+at3R6MxiYAL6U67IUy07ZpPLypS99Cffcc4/QjAg8ElcCgQBI8v5M6bSBiaoXz5uj/UgzgoUgLUUmLuUyUwC+/vWvizidpVyPuS77/fffL0wIjtpznbea35kHXSoqjHn83Oc+h87OzgnNSALQjIFJqlhnSol+W7ZsEaMStSbuTEeSAKWmKaBeCD48//zzwqzmujCaIwvxzcX8DYIRzTjOWsqRezGX91wsG7Hg4YcfxrJlywQoSUBiSmyhaUc6E87I37Mkkp0p5R/4Dp2vGzZsmAAmCVBqmgLq+eaDNKG5K+AHH3xw3rcDp6elecu9q+ab/2r+/yjn1CiprHDGmGEtBCNihQQZXvt8PkFnwhn5e5ZEsummXLFNU4KFURvpHxtpoXhy7bXXikGCQLVQ31ys3+Eun9yfntvCsIwqTxZOLuVA+dxzz4kAYLvdLkCJAKPEFK/XC5Ly2VTXMwYm2o9ERnW0XrjGnwwQ5F43bAcuF5rsnfPhGbeEoV+DC5zJBxWUFlYuyW/y/V/+5V/wl7/85TSzTQk8MwYmqWJNNyUScscBbmlArYn2Mgun0sLygOECjAK/6qqrJvwq51Mb0LfG+t52223i1GiadJyZYyoB6nzix9mqK/v/448/LoCJ5wQQjDwezwRJXJHP5P2Z0iyJZNNN+WFuAkWtiV54CoFKZ4cHPKmX7bBnz57zrg2oDebl5YnJmCeeeEIAkhKYVJmcf5nkIMCASsY38jQfYgM3l3S73YKUmDLZM+Xv6ddZEsmmm/IDRMbvfe97YiaEiMkCqrSwPJAdkyEcPOVUaq7nSztIbYkmBOssQel8qf9iqCd5zuPX2QaDg4PCuT1dHDnTe58JmAhOXDfH0ZopO8liYNT5VAZ2TJozL730ktAa9u7dK0yb84UH9C1xXdwzzzwj4upUYFrYgVHGdnEi7Le//e2cghJBK0uqWDNJXS6XUNm+8pWv4LrrrhNThOdLh1iM9aSv6XxpB8YsEZQ5UtPpzfag2aYC08IDE7eYoXLS0tICYgJpJjgy1btZMsOZpE6nUzi3KCBU4xg/QsFQaWF5QPuetG/fPiEgb7/9tuikfHYutoX0G8ldVZ9++ukJUDpX67wY25HtwAHiggsuEEGVxA5iAmkmODLVu1kyw5mkDodDFIKId8MNN+DCCy+cMOdkZ1HTFGjMNx94ECYFhTOl9DfxmocXzPd3z1b+HAQJwAz0pfNbarDkw9kq0/n2XcrYL37xC7F2lnFLxA46vSUuzARLMr37mYGJhSAw0elKdY574FBIzrdGOtv1lR2Sm3OxHbjDpXx2tss2H9+ntsR6PvbYYxP1ZH3P5TrPBx8/a54cDMhrLtZlGxBYiAWSMgHNTJ9nyQxnkhIdSVIV++EPfyhm6GjaSSFR01RnWSg+cAKC2is1CQ4QC/XdhfwO68hDWNkpZAdZyO+r3yoUJhy1JbYB+7/EApnOBEemejdLZjiTdHh4GCSJgm1tbWIUY+Sn2ngLC0hKfktfk9QmlL+dC9dr164Vcsa4LfpeWCearZLOhTou9jps27ZNtMH69etF/5dYINOZ4MhU72bJDGeS0q4kMWOiHtMf//jH+I//+A8hMJzKlcKipqc6znzzgp313XffFYJDPwDV9fn+5nznT58S5Yn14dQ0N4KTLgPlt/me8l69nnu5o9uG/L/mmmswNDQklBOJBTKdCY5M9e6cARMBil56bvtKoVAFZe4FYzqdjXz/1re+JUxrbgEynf8s5ndosrFOb775pjh5gz6mycqrytv8yhv5y6Un9O9xsTRBRYKRMp0KbGbyW5Yy0+leEy0lYlJb4gd5v2vXLiE83HuZFVFpYXkgOzHVbIZx8NDBo0ePLvl2kMG8jz76qNDIKVeyrlLG0u/lczWdnQxK+eGAwIBWhmhIE0zigDKdLoac6b0sZabTvWb4OYnv8wPyfwSoq6++WmhOFBSVFp4H0nzjTqMEJ3bqpdgONN9YbqbcAI7BvOwkmeoi38/0u/r8s8kitVP6vW666SZ8+ctfnlBC2O8lDihTiQWzTbOUmU73mvt/k9LfZ2F4kgfVPY5uUwmSKiifTVDOxDcKErUEAhTjy37+858LwTrT/xbT7wQZys6RI0fAE4gpTwxHmQp8pvptMdVtqZWFskSHNw+w5F7qyn4vcUCZpmPCZ72fFTApCySv+/v7JyKRuWE+G0IVmvkBoTMJOU06duqXX345o6ZxpjzO1u8EJYIrl5387ne/E+A6lRxN9dvZqsO58F3OgHJSiyEC0joi2Mj+np5+ViBK/19WesbTuSf4TEb8Lz9AzYmxTTyNk4v9OPpRcFRaeB7waHeCE/1/S4H/7MwSZLiP93/+53+Cm+LJ55nqoMrY3MsWebpixQoxGyr7u8QHeZ+eyt9nm2alZzyd+76+PkxG8r8sVGtrqwAmBv1RqFhJlRaeB/QP8LBSztRxX+bF3gZSVl599dUJE2465Z7OO4u97vNRvqkWyvI31zh5XG54XB643dzkzQWv24WG2hqUFRTCM2hHwh9EzONHzOND3BdAIhhCIhxBIhZFMplAcjSJZDKJ0dFRQWOjo5Akn02WSsxIT7MmA5i5eMY9m7gVB0frv/3tb6JTUD2XREFSaf55QG2D4MQZFYZy0GfAZ4uV93TWc1aXcsNAUcrLYi3rUijXmYCJgCQBysPdARibONCPzvoGHNz8MdrNNgw1t2C4tQ2u452CRlrbMdTYiuHWdrg7uhDoH0LcH0AiHkVylCCVQHJsFEkFSE0GSnyWCWvmDZikKsc9qdkp6JSVoKQK2/wDkuw0ktcrV64UnZ2dXppD8p3FlHJZ0xe+8AVxbh4DRqXMLKYyLqWynAmYhMbkcsI9bMfQiU501NSiRWtAwYEDMOs08LkcCHpcCPlcCAc8goJ+D0I+D4IeN2LBAALDI+htaIKjswsRpwvJaARjySQS1KLGUprTjIGpt7cX80lcrkIzgnsGSXBaSg17rpSVvKcTmZoIl3bQZFpsdaMmd+ONNwpnK2fhJChJcF1s5V0K5TkTMDm5cmNgAO2VVeiorIK9uxO5R7NRZTPh09EYPh0jJTCajOHkWByfnkzg05Ojgk6OjeLkWBJjyTj8bgfiQT+G247D2d6JhD+EZDw+oTVlAqZM2JNFk2s+iR+mv4mL/niAAQO1SEqhU69PmbjzyQuacffee6+Ib9q4ceOiagPOwPEYJh5Dv337duELI1BJmk++nMt5y4X2MvU43RjhntzcFWBoCINt7WjQamHv6kT38RaYdGWoNOlxMhHBaCKMk6NRnByNKyiBsdEExghIpNEkTo4mcHI0htF4BH7XCMI+N3rqGxC0DyMeDiFOgEokJiiRTCCRSFEm7Mnq7u7GfJL8MI99+vznP4/rr79eCBtDCaTQqempDjhfvJD85ijPQDmuO6OpNF/fm0m+dPryvHsGhL7//vsClFhOWeaZ5KW+e7osSUA6lbrh4v5J9iEcr67DiYYGDHS0wW3vR2ONFZqSfERDXpxMEpCiQmMiMH0qiABEYBoHpXFgIlDx95NJglMU8UgQ/hE7XCe6hHkXp6M8Hp8AIwlKTDNhz4IBEwsgT/VYt27dougQ56sQc+8mgoAcJM4mH+js5snONDFvueUWYe5LUFKB6XSQ+SztdAqQxre+5VYl9iF02KrR19SMwe4OeB2DGOhuh660AMP9XTiZjAhgGmM6rjFNF5jGElGMxSMYjYYQcDvg6+kT5p0Ep7hCW5oSmLq6ujCfJBGR3+A1I5H/6Z/+SUSTUvCys7PFyMhrleafB5LfcvuKu+++W4DBQvNeloNmPWOVvv/975+Vcix0vRf6e+nAJECppg59jc0Y6umEzzGIkYEu6EryMdDVjpOJEMYSYYwl6MCeOTCdTMQgwWksFkaI4NTbC0dnDxKhSEprUoBTJuzJOnHiBOaT0j9McOIZVPQlcOSmgKp0dnjALVK41IBO8YVqAznqy+/RvOdRYPQx0aTj7/I3NZ29XDgZAsA9uUnDIxhsO47uugYMdB2HZ6Qf9t4OaEvy0d3WjJPxkPArzQUwjSYiOBkLYywSRNA1AseJLoSGRhCPRsdNuqRIM2FPFn0/C0kSqOhT+Ld/+zfh6FSFcfYCONNOTE2F/2EgI8HpySefXBBQoMZAZzO//9WvflWs5+N2wJQB/jbTeqjvTy07DnlQgMOB4Z4+1Gt06G9rhdveB+dAF7TFeTjeXIuT0aCgsVgIowSoeDgFUklqTjHhPzqZjIsZuNFkAqOj48TrZMq/lNKUosIJPhYPg3mNRYNIRgLwDw+it7YBUZ8f8VgM8XhCOMUzYc+CA1NHR4cAQgLU5ZdfLqLDOQujCtjUAjaf/OFaOvp4nn/++XltB2nG7Ny5U8zQcsnS7t27BUipoDQ/7e90uuDgCSZDQzhmrRSzb87BHjgHu6EryUN7QzU+jQUEgIzFggJM5hqYRiMBxIM+hFwODLe0IRoOC1DibF1GYCJQLCSxIBKcmF566aVihogjJiPFOZKqtHA8ICCQ39wWmeD0zjvviAMN5roN+B15UAL9SQyi5Po9fkeWYa6/qeZ3EE6nGy6HAwMdnWg1W9Db0QzXUDeM5YWotxqR8LlwMuJHMupHMh5EUmhL/6gxUWtKURyTaUziN+H4PqUxnYyFUlpYNIjRiB8Bpx1DzccQdDiREFpTPCP2ZB0/fhxnixjfxADM//7v/xbgRMHlLI1KC88DggOXrBCceDzSXLcB25Za31VXXSVmBJX+xbn+lprfKflxOF1w2u1or6zBUFcHXANdMGuKUGOsQMLtQF9VFXqtNiR9HoxFA6drTOPm3GgyKgIsleA0Jky4BEYTpHHQksAUi6TMuHFTjn4mgl8i5EXE54HjWCdikYjQmjJhT1Z7ezvOFh07dkyc4tnc3CyWrVxxxRWnjaAUZpUWlgecNSU43XbbbcIZPZf8v+OOO4Q/i2Ej1JDnMm81r8nlhAeG2Ht70aTRodamh6YwB1ZNCTwd7Wjcfxh1G7ej/sNP0LjnEDzHO5AIBzAaC2M0GkbC70NsZARxtxfJcFjEKI3Fo0jEIkj4PIh7PGJRbyLoRyIaRjIWFmnC70fcMYz4sB3xEbu4Tga8GAv54bT3oremHmGPD7FYLCP2nFVgorbE44WpOTU0NIgAzH/9138F19epgja5oM03X2hO0xHOOKef/exns24H7ufD9XmcfeNkh9q2C9uuTscIuhqb0FplQ1nBERgKc9FeWobarbvQsGEbGtdvRf2Gj9Hw4XbUbt+DweZmjIVD8HZ2oq2wBCcqtDheWIoekwXxgB+JRAzxgA8n8grRU6pDt8aI9vxi2GsbkYyEEI+F4WhqRVdeMXrLdejVGtBrMiHmdWI07EM85IG/rw+e3v6pgYngcLaJwEStjbtfMsiOnYJrpXgckaT57pBq/qd3mNdee03Em913330CnNgOM+URQY7AxEhzbjb2+uuvCz+iNLVmmp/6/ultNBU/yGP62IbtQ2g1WVCck40TLXWIDPSiZeseNI6DUs2HW1G/aTta9h+G83gb4iEv4h432vJLETzRjUTYj6jfg16zBSO1DYhFwoj5/ejIL0XU7RZbn0Tsw2g/WoTwyDBGIyEMN7ZgwFyDmMeNZNCP0YAfybBfANNoyIOwx4GRtg7EI5GM2JNFc2oxEMGRAMWycI9n7kjAkVYCk5qeAumF4sWqVauEWcd1jhT0HTt2TLs92Ck++eQTAUrcD4r+JebBzkTAYh1kulD1OV++IwcE8rqxrhb71m9Epa4coyE3woM9aPx4F+o3bEXzhq1o+mQPBs1WJLxOJCJ+jEaC8BxvR3e5AbFwMLWVSSyC0EAfjheVCG0pFvDheEEJ4j4vRmNxJGJhDNpqYK+pRzIchL2pBd3lOjibmuFuaUGgtwujQS/Gwj6Mhr3wjgxgoKkFsWAoI/ZkEQwWAxGQZDkqKytx3XXXiU7BqWwKNJktU16rtDA84NQ+p/X/67/+S8zYsQ04xZ+J/wQkviNBjYcIUGviMxI7C+8z/V99Pvt2JX9JnMwoyc1Dq8EA71APkkE3Av3daNyyCw0fbkPntj0YLCxC4FgL4p5hJMM+4WNytbaiW2tEjNP89BvFowgO9KG9sARRn1dQe0ExYh4PRqNx8c5gZZ0Ap3gkAHtjM7qKKmCvqcVIXT28J44Lx/dY2AtqTD57P3pr6xHxeif6vOz7Ml00wCQLxJR+J2pQr7zyigAnntAgp35VwZ294M6EhwQTaq48epw+Im7exhm8THnQqf3UU0+JyP4777xTmOTsJCogLVy7rVmzRmwzxNUVfe3HMdjYBI+dwORCuL8HbTv2YejgUXhzC+EuLISnpAQOgw7hvi7Eg25EXcNoyylExG5HNOxHjNuZNDSiR2NENBJEzOdFZ14RYi4X4tEwol4XOo4WIdDXh0QkCHtDC/osNkTcdsSCbpEnZ+QITEkC01AfBhqbEfG4MwMTQWCxUDo4sVwy+I8n/bKDMPZFCrkcGdQ0NULONx94JBRn7Bi1z+httgW/SROJKdffcStlvnPrrbdO/CZ/n+/ync/5SzOVC+TJf+4eUVVVJWKGhlta4BvuFRpT1DOEEZsVrpJy+PIK4c8vgK+gAJ7CYjh0erga6pEIejFQV4/jReWw1zei11yJjhItYl6vmJGL+X3ozC0SpttQfTM6yrTo0prEfkyxWBgjDS3oKdFhuKYOww0NsDc1IeZ1CGCixuS3D8DewnimkYzYk8Wp+sVCSoCUZeJsHXc1vOiii8AZO578wdGa5sT5LIgLXXfJbzrFKfj0O3344YcTmtOWLVvEeYL//u//Lo5colYlTb6FLuv5+D0OEgzxYNv86le/EpoI+1PQ6cJwa+sEMFFjiXuHEenuwIhOC3dRMTxFxXBpdAh1tAsNJxENIhbyIjw4gOHmZng6OhD1upEUIQFRxCIheDo74Wg/Dld7p3gvGvBhNBYBgSlkt8N97BhoErqYth1DzPePwMRIcNnP09OspqYmLAUiky+77DLB+L/+9a8TozWFX6WF4QE7PAcFghBHZHYCRozT5OaOETT36JPie+woarvMX7tI8CWP33vvPeEHZHtQk5UDPDt72OXBYGMzPPY+JAMujAY9wpxKBtyIOYbgam6Es6EecYcdibAPsWgA8WhwgpLRABJR7qcUGaeo8DnxEIJENJpalMs9mBJRJLnnN+OcokHhSE+GA0iEfMK/NMpU+Ji88A71Y6CxBRG3OyP2LBlgamxsFAwnKDGcgLthcnW8KvzzJ/yT8ZbAIx3Z3AaXC4BJ9AMSjDhzx3dUYJqfdpF8JTAxpOZ///d/xQDBo65outHCqK2tnejwXDTLgEavvR9Jv1M4n0dDXjF1T5Mt6nEi6nYgFvQiEQ0gBURBRCJcbBtKBU3Go4hGQ4jQvxRlxDbvI4iIuKUUUEXpawoHhU+KwMa8YiE/okHGLnE2LgVMiSCd3wPoqWtAxOebKGe6cpTFDr/YicxmGTkC1NXVQavVilkiBu1xyw42EhcCk9hwKs0vDwg81JQuuOAC4eSmk5Ua0xNPPCH8fyr/54//5D21VvqSaDZTS+LiayUYsa+wo7PfhP1+9NU3wT3Yh0TAJfxMyaAH8aAHEZ8TdVUW2CwG1NfYBJgwZCAS8qOsrAiRMMEpLKilpRGdHe3w+7yIx2NwOUegqSgHAYlA1drSiK7OdtRUWcGZuVjYD5vZiJb6WoQYiiA0J37XDd9gP3oamhAJ+DNiTxYLv9SopqZGMP4nP/mJ8DvR/0THOGfu2HAqzS0PqDlJnnKN25VXXim0JO6jVF9fL0ZqBk+yk3zzm98Ua+3k+0yV/1c+V69n3k4EJfKf/lbG+5WWlorOLTUOgpLsz2ybcCgIe2sbgs5hxPyOCWCi5hLxjMBmNqC4qBB1NqvYniQe8aO/5wRycrLR3n4MsWhIUGNjHfLzjsLn9QhgIkDl5R0VGlQsFsH2bVsQ8HlSIQaRAKJhH/SaMmhKixH0jAhgEv6toBthJ/eFahdxUrKs6emSBCZWQmp5dIxz5GanWLZsmegEHLGlSaEK/8yFX8kz8pHAwpnQX//614LP5DXPqlN2ArYJt8SVbcFDDxhgybZQgemzt4GUZc66rV69WiztoYa6adOmCf7LvpDeuWldhCMRuLp64e7tRszvVACTF2HPCMx6LUx6HQ7u3iWCI2MhH8xGHerrqnE05xBCQfqdQuju6sSx1mZ0n+hEPBaF2+VEzpHDKdMuFkFhQS76ek5gZKhf7PkdCwfQ392J8uIC2BmGEPYiEfIg5nPB09MLZ1e3+G96meV9FlF1KRMrQg3qoYceEqott2l98803xf7i7FQqzY4H1JDoXKUPg4DEMACTySRkhnyXgkQZ4n11dbUwqTlrx2UozzzzjNipVLYDQY+AJe/V9PT2SecN3RN///vfxQ4c5P/9998/0V/J+zP13XAkiqDDhRNV1XD2nkA84EJCxBZ5EPW5xNa6bscgwj6XWH5CYAp4XYgEfXC77MKci3KjN68L9sE+REIMuowgGPDD43alTLlYRDwfGuiD3+MCQYn5eByDcA31IuJ3IR4kueHs7UaHrQZBlxuRSCRj+Zc8MCkbxmq1CoCiM/Yb3/iGmC3iaE3hZ4dQO8HpnWAyfrBjsDMwZWjG1VdfLQDpl7/8pQjbkPymT0NeT5Zy3SO1JnYmalGPPvrohO8vvfNNVo7z9Rl5z3gw1p8aEid5yEPuW0ZXhXIgmIzv6c/Y+cOBAAYZN+SyC60pEXQhEXCD5lw86BUgwjVxXM/GNB4OCjNLRH6LGboQErEQ4pGQ2D2AwESiCUftSdxHw+I/fIf/T0QCIi8GVtKfRTMu5nch6HaKPZlCQTrYpwAmqntLnThSy9GaDcNTN+h3YoNec801YvZOmifsFCpl5gEnEghI1IwkwL/xxhsChCSfpyMvfJdtwYM2OWPHvLhmjsfFs+Olt4EEw/Tn59s9TTc6thlQTPmlz47bxJCXkv9Mp9MGfCcajiAcCcM/OCQOIPAM9QqNKRHwIMmZOFKI25r4xpek+ASw8AgmMbsWIyiFFTQORgwRII0DU5JboXCrFAJTJCiWthDokuPhAtSW3AM96K1rhM8+LHaxJDBlqkcWR75zhWhGyLqwwnIpBWeMGAPFBpY2OzuCStvFyMxpZzpVeaab7BBcRM3nnIImLyVflTyWz6aT0kfCpSrsbCRqYPwmgZBAxbaglnA+tgkHTfKaJjN39iR/uMsng1SVvCefyX+2CdPptAWBiQAQ8vsx0HxM7L0d9g6DwESNabrAxL2WBPhILekfgGl8LyYFMFH7IuiROAPocwxhqKkVgaAfsfFyZZKdcxaYWGEuBmaam5uLSy65RDQ4fSXcPpaCcD52gvQ6E6h5ZPh3vvMdwR8eEEAQSQckKUDT6QzyXWUq86N/SkYo0wfFWCi2hdRoleU7F4FKWSdZ5+eee06EvxCQ6ILgRINSk5BARH5KQMqUKnnO6yhNuUhEaE4hhxvHK6vhHOgVZpXwNYXcwiktNKaITwRGcrpfEIMrY0GhLU0PmEITGhP/nwImD6JBN1yDveioqha+pZAoT1QAZnp55X2WUj08F69ZUTYsQYr+JqrGFAB2QG6IRucuiaM2I5ppOig7x1K/lvWRHYL1ZIdgvdghJD8YE8bFn1Iw5loWyH9lnnq9Ho8//rjY3oZT3zTzVq5cKdpAxqXJci7lNpD8l3VgO3AwePHFF7F8+XIRLEx55PpDHl9FPynbgLySPEL+OOIAAAwMSURBVKP8St7xeiqS78k0Eg4jFA4jGAoh5A/A09MHe1s73EN9iAVcwhlOM0toNmEv4oz+FuRHjEGWIhKcvqVx/xJ9SdGUf4k+JnFNEy6aMuFS/qlUuAAd4LGAB+7BXhEe4O7rRyjgRywURpgmZjg8US9ZXplmZULec+U5KyrrIivNM8y4hSwD1Oj74JavXCxM3xQ7gwQqduJzgaiRSGCiuXb77beLetNsYCxMfn6+2KSPDmuLxSL4JXkleTcfKb/Bjrhx40axvovtwalwxqc9++yz024H2emZLrb2YpnIe9aRu3eS95wM4OoFTiwQoKhFkr/kv5LP6ff8raqyckpS/p/XBCYCAMFJkMeDgdZ2ODo6RTR4VMyYucUGcVwyMhfAFBcOdB/CIS/cI4PiW4Otx+H3+xARoJQqE8uVXl55nzUV+p7Lv5EBrB8FhmYefSocubkPFJ/JxcJSi5Idm518sZLU/lhmLrCl5sFnBFwCELVE+ts4McD9khhBT+EnLYa2Zgcl76nFsT2oSdA3yBk9+gep8RJ4WD/6D3mdCYwWqo34fcl3ygjLSb7THGZduOiZx5QRiEisG6f/jUbjRKfMxHtlu/C6kmS1nkZVbDslVVahSkHhUDgFBqEQwtSaQgGEPB7hCHd0dMAz2CfMuniA4OQRAMUFvELb4Va41JrozBaUmpkTu1gKzSksDhXgvZyNS2lMfkSCHniHBmDv6ERvUyuCHl9KcxsHSoISKVPds6guno/EkZragWQMtQb6WmhSsEOwA3Oqlg5JPqf6zY4ghfBsp5nKwnVsEljZqbmwlvXhhm2MKaK5IOtMHiy2tpdtQlOP9aDPhVot60BgZZ34nESgkmBFfihpodpHOXDx+5xRo8YnTWSWm3UguNLXKXkv+T7dNuB7NpKFS0hSVEn5tVgniKAlf5NpSIARAWmcgiGEAgEE3W70NbdisK0Njr4eBL1ORIJuxAJuRINeoe1EJgAqgHiYFBQ7C0QjYbFWjil3GhBARXAK8zqIkM8l/Fg89ZeaUsjjF6AoNTcJSkwlH9LT8xaY0hkh7yk4FCBOcbMTSJBi4OYf/vAHcXIthZ5CKEdLjpTyGZ/PV6dgJ5B5y+/LlCv86TNiOan5sdxcMnLttdeKKG3Z4Vk/CrkkWe/FmrK81KQIQNQ8lNoH60pzlAtZ//SnP00MHNJ8kryRbSI1LWo1ZyIlryXPOTjJ8AXmydAHLsWhxk1HPv10EogoO5SXioqKCTBiXdL5PFNgsloskGQzW0BwspnMgnhttZgFWcxGkBgvpKSIvA8EEHK74erpQ5u1Ep7BQTgHexH2OBHzexAPeAVARYS/iWvfUuDE7XZjBCABQhKYeB8Etz7x2Afgd9jRYauCu38APn9KU1KCkfI6nR/yPkuq8mqaMmkkHySDNBoNHnnkETzwwAOi09MHQgEkXX/99Xj44YeFJiJHcZoY9FORCFiyU0jhnmnK/5OYr+xM9Idxzx2eYsLy0OwhsUwsJxc2s0MQjFgPWSez2Sye8bl8tphTWU6aPSw768Jn5eXlQoNdsWIF7rrrLlF3yQdqiAQsaizcWpbtQ2LENLUZLuWYDpHX/B9XFJDIUy7JIejLb1Grlo57/v7ggw9Cp9MJ3kr5mQl/rTYb0slms4JEMKIWZDWZBJkMBphJegOMWi1MOh3MBj1MBh2Meq0gg06DgN93GgX9fgT8fvgD46mHq/2HRXxRd00tvPZBDPR0wu8dQcjnRMTrQnQcpLhTQDToR5gUIgVS1wEPHAM98I0Moae2Af31TQg4nAgEfEJTE453qbGlpZn4kyVHTjU9pUVMxQt2+JdeekmMluwEdNhy1GZnIDjwnrs4crdHSYyAlsDFzkHTcDLib/Rt0fHLAEcSzQJOrxN02CGYPzsETTN+/4UXXhCOe3ZW2ciy/OzMSpLPl1pKjWk6ZabWyF0PSHIgoaOZRI2GPh4CyXSJ7cm2JZHX9M3xGyQ6rRk8SpOTPJa8T08nK3emNrFYrTAriPdWqzlFFjMsJgKRDkZtBQyacpi0FTBqyidIX1EGk64cBk0Z9BWlggQw+XwISAp4x6/98Pn88PO51w2vywFXby966xpw3GTCcEe70H6G+7rgGOjDSH8vXEMDgkbsg3CQBvrgG7LDeaILxy2VGGxshWdwSOQfDIYQptk44dtSmJMKcJqMP3yWxRFIpenzgJ3EYDAIxzEZSN7xXjpj6WjmaH3hhReK9U30L3Azf6r40yUCEE8nJjEfEk/HlY5e7qutbDNqFMp7XrOck1H6e0vhnvWYTjmlkGd6l1oQNdbpOsbJVyURhFgWPksvk3yufD/9nUzlks/NbDeLdYJ4byEgWUwpDYiAVFEqSF9eAkFlJdCXFgvSlBSgojhfkKYklfq9HrEjAHcF4PWpey98Hi98Xi98Pg98HjcCHjd8TocAl+Fj7eira0BnVRU6LFZ0V1ahv7YefTX16KmswQlrFbqr69DX1IqRji74h50I+vwpX5YAJYYohE/5thRgNOHvCoUytqsKTPMEzLKTSPCi03k6RNBhB1D+X3kthVim6cKffq98L9Nv8p1zLWV9lTSb+qXzLv1+NnnL/yqByWzhoJca+FLApIFeU5oCo/ISaMuKUgBUnI/ywjyU5R9Faf5RlOQfTlFBjki9HhdOkVsAEEFoUnLL5wQsDwIuFwLDw/DZB8UMm3ugHySPfRB+hwMBtwtBny+lGVE7GteQlMBzpmtZ9/Q0S6lWqtenmz5zwQ+OoHORz2zzkCP5bPNR/z/3MiJ5ajKbYTRbBJnMFphJJpIRem0ZdBXFqKBWNK4ZlRUeRUleDopzD6Mw5xAKc7KRd+QA8g7vF5RzcA9Op704enDfpJR3+AAKjxxEcc4hFOccRmnuEZTl5aCi4CgqCvMEaYsLoS0pga6sDIYKDYw6HYw6PSwmM8yS0twHsm4zTbOUI4p6ffoIq/JD5cdCyoCRZqLJLMhkMkOQ0QyTQS+0JQJSeVEeSgtyUVKQg6Lcw8g7chBHs/ch5+BeHNq3Z5x2I3vvLhzcsxP7d38yQft2bce+nSk6sPsTHNyzA9l7duLwvl2CcvbtRu7BfSg4dEBQ0ZFsAVQEqPL8HJQV5KG8qBAVxcWoKC2BrqICeq0OdMTPNZ+y5Eiqpqf7E1R+qPw4KzJgMMFIMppgMo5f67QwaEoEKJXkHxWAVJBzCLmHD+DIgb3I3psCoD2fbMWu7Vuxc9sW7Ny6BTs+/miCdm7djJ1beb9JEK9Ju7duxv6d23Bw9w4c2rsTR/btAgHq6P49yD+0H4WHD6LoyCGhQZXk5aK0IB9lRYUoLymGprwMeo0WBr3+NF/cXPBNBaY0B+dcMFXNQwW1zywDUwBTRUk+CEyFR1OgdPjAHgFKe3cQkFJAtHXTRmzZuB6bN67DRxvWYtP6DwTx+qMNH0zQ5o1rsXXTemzftAE7tmwSALVvx1Yc2r0Th/ekACr3wN4JcKKJR2AqyU8BU1lxESpKS+cPmAwGPVRSeaDKwGKQAQMMemOKDEYYDePXWg10ZUUoK8xFYe5hoSkRlA7s3iEAafvmD7F10wYBRh+ufR8b3n8P69a8i3Xvrcbad1cJ4nWKVmHde6uwbs1qfPjBe/ho3fvYunEdthGgNn+InZs34cCOrcje9QkO790pNKe87JR5V5hDx3o+SgsLUCq0JppzGuh1OjEzzdnpuaIsvV4LlVQeqDKwGGRAD73OkCI9QWr8WlMBhgIU5+WgICcbOdkp82339o+xffMmbN6wDpvWfSCA5/1Vb+Pdt9/C6rfewKo3X58g3ivp3bffxAer/o51q9/Bxvffw6a17+PjDeuwfdN67Nq8Cfs/2YqDO7fjyF6adXuRn70f+YezUZSXi+L8PJQUFqCsuBja8grotOSdfk4pS6fTQCWVB6oMLAYZ0EGn1adIR5Aav64oF8BUlHsEuYcOIHvfLuzduR3UlD5avxYbPngPH6x+RwDP22+8hrf+7xW88crLeP2VlwS99vLfJq757I1XXsKbr76Md954DavffB1r3n4L61avwkcEp/UfYPuH67Bryybs2/4xsnfvwJG9u5B7cK8ApoKcnBQ4FeSjtKgImrJyaDXknW5O6f8DylB2qyKfQ4gAAAAASUVORK5CYII=)"
      ]
    },
    {
      "cell_type": "code",
      "metadata": {
        "id": "h3ZDG3TeCdQp",
        "colab_type": "code",
        "outputId": "34c39944-95ae-4615-d938-0cdd5f9ecadc",
        "colab": {
          "base_uri": "https://localhost:8080/",
          "height": 204
        }
      },
      "source": [
        "df3 = pd.merge(df1,df2,on = 'City', how = 'outer')\n",
        "df3"
      ],
      "execution_count": 0,
      "outputs": [
        {
          "output_type": "execute_result",
          "data": {
            "text/html": [
              "<div>\n",
              "<style scoped>\n",
              "    .dataframe tbody tr th:only-of-type {\n",
              "        vertical-align: middle;\n",
              "    }\n",
              "\n",
              "    .dataframe tbody tr th {\n",
              "        vertical-align: top;\n",
              "    }\n",
              "\n",
              "    .dataframe thead th {\n",
              "        text-align: right;\n",
              "    }\n",
              "</style>\n",
              "<table border=\"1\" class=\"dataframe\">\n",
              "  <thead>\n",
              "    <tr style=\"text-align: right;\">\n",
              "      <th></th>\n",
              "      <th>City</th>\n",
              "      <th>Temperature</th>\n",
              "      <th>Humidity</th>\n",
              "    </tr>\n",
              "  </thead>\n",
              "  <tbody>\n",
              "    <tr>\n",
              "      <th>0</th>\n",
              "      <td>New York</td>\n",
              "      <td>21.0</td>\n",
              "      <td>65.0</td>\n",
              "    </tr>\n",
              "    <tr>\n",
              "      <th>1</th>\n",
              "      <td>Chicago</td>\n",
              "      <td>14.0</td>\n",
              "      <td>68.0</td>\n",
              "    </tr>\n",
              "    <tr>\n",
              "      <th>2</th>\n",
              "      <td>Orlando</td>\n",
              "      <td>35.0</td>\n",
              "      <td>NaN</td>\n",
              "    </tr>\n",
              "    <tr>\n",
              "      <th>3</th>\n",
              "      <td>Baltimore</td>\n",
              "      <td>50.0</td>\n",
              "      <td>NaN</td>\n",
              "    </tr>\n",
              "    <tr>\n",
              "      <th>4</th>\n",
              "      <td>San Francisco</td>\n",
              "      <td>NaN</td>\n",
              "      <td>75.0</td>\n",
              "    </tr>\n",
              "  </tbody>\n",
              "</table>\n",
              "</div>"
            ],
            "text/plain": [
              "            City  Temperature  Humidity\n",
              "0       New York         21.0      65.0\n",
              "1        Chicago         14.0      68.0\n",
              "2        Orlando         35.0       NaN\n",
              "3      Baltimore         50.0       NaN\n",
              "4  San Francisco          NaN      75.0"
            ]
          },
          "metadata": {
            "tags": []
          },
          "execution_count": 37
        }
      ]
    },
    {
      "cell_type": "markdown",
      "metadata": {
        "id": "Q0t1pSWoIGoT",
        "colab_type": "text"
      },
      "source": [
        "*Merge Left*\n",
        "\n",
        "![image.png](data:image/png;base64,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)"
      ]
    },
    {
      "cell_type": "code",
      "metadata": {
        "id": "rBxtt1UcHoq2",
        "colab_type": "code",
        "outputId": "92083dd2-7cbd-4bde-b6cf-f6f2be2ae8b9",
        "colab": {
          "base_uri": "https://localhost:8080/",
          "height": 173
        }
      },
      "source": [
        "df3 = pd.merge(df1,df2,on = 'City', how = 'left')\n",
        "df3"
      ],
      "execution_count": 0,
      "outputs": [
        {
          "output_type": "execute_result",
          "data": {
            "text/html": [
              "<div>\n",
              "<style scoped>\n",
              "    .dataframe tbody tr th:only-of-type {\n",
              "        vertical-align: middle;\n",
              "    }\n",
              "\n",
              "    .dataframe tbody tr th {\n",
              "        vertical-align: top;\n",
              "    }\n",
              "\n",
              "    .dataframe thead th {\n",
              "        text-align: right;\n",
              "    }\n",
              "</style>\n",
              "<table border=\"1\" class=\"dataframe\">\n",
              "  <thead>\n",
              "    <tr style=\"text-align: right;\">\n",
              "      <th></th>\n",
              "      <th>City</th>\n",
              "      <th>Temperature</th>\n",
              "      <th>Humidity</th>\n",
              "    </tr>\n",
              "  </thead>\n",
              "  <tbody>\n",
              "    <tr>\n",
              "      <th>0</th>\n",
              "      <td>New York</td>\n",
              "      <td>21</td>\n",
              "      <td>65.0</td>\n",
              "    </tr>\n",
              "    <tr>\n",
              "      <th>1</th>\n",
              "      <td>Chicago</td>\n",
              "      <td>14</td>\n",
              "      <td>68.0</td>\n",
              "    </tr>\n",
              "    <tr>\n",
              "      <th>2</th>\n",
              "      <td>Orlando</td>\n",
              "      <td>35</td>\n",
              "      <td>NaN</td>\n",
              "    </tr>\n",
              "    <tr>\n",
              "      <th>3</th>\n",
              "      <td>Baltimore</td>\n",
              "      <td>50</td>\n",
              "      <td>NaN</td>\n",
              "    </tr>\n",
              "  </tbody>\n",
              "</table>\n",
              "</div>"
            ],
            "text/plain": [
              "        City  Temperature  Humidity\n",
              "0   New York           21      65.0\n",
              "1    Chicago           14      68.0\n",
              "2    Orlando           35       NaN\n",
              "3  Baltimore           50       NaN"
            ]
          },
          "metadata": {
            "tags": []
          },
          "execution_count": 40
        }
      ]
    },
    {
      "cell_type": "markdown",
      "metadata": {
        "id": "fve_i3BMIc1l",
        "colab_type": "text"
      },
      "source": [
        "*Merge Right*\n",
        "\n",
        "![image.png](data:image/png;base64,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)"
      ]
    },
    {
      "cell_type": "code",
      "metadata": {
        "id": "-4tjXgnvIdPB",
        "colab_type": "code",
        "outputId": "b658e3eb-4bb3-4e02-db3d-820a362dc719",
        "colab": {
          "base_uri": "https://localhost:8080/",
          "height": 142
        }
      },
      "source": [
        "df3 = pd.merge(df1,df2,on = 'City', how = 'right')\n",
        "df3"
      ],
      "execution_count": 0,
      "outputs": [
        {
          "output_type": "execute_result",
          "data": {
            "text/html": [
              "<div>\n",
              "<style scoped>\n",
              "    .dataframe tbody tr th:only-of-type {\n",
              "        vertical-align: middle;\n",
              "    }\n",
              "\n",
              "    .dataframe tbody tr th {\n",
              "        vertical-align: top;\n",
              "    }\n",
              "\n",
              "    .dataframe thead th {\n",
              "        text-align: right;\n",
              "    }\n",
              "</style>\n",
              "<table border=\"1\" class=\"dataframe\">\n",
              "  <thead>\n",
              "    <tr style=\"text-align: right;\">\n",
              "      <th></th>\n",
              "      <th>City</th>\n",
              "      <th>Temperature</th>\n",
              "      <th>Humidity</th>\n",
              "    </tr>\n",
              "  </thead>\n",
              "  <tbody>\n",
              "    <tr>\n",
              "      <th>0</th>\n",
              "      <td>New York</td>\n",
              "      <td>21.0</td>\n",
              "      <td>65</td>\n",
              "    </tr>\n",
              "    <tr>\n",
              "      <th>1</th>\n",
              "      <td>Chicago</td>\n",
              "      <td>14.0</td>\n",
              "      <td>68</td>\n",
              "    </tr>\n",
              "    <tr>\n",
              "      <th>2</th>\n",
              "      <td>San Francisco</td>\n",
              "      <td>NaN</td>\n",
              "      <td>75</td>\n",
              "    </tr>\n",
              "  </tbody>\n",
              "</table>\n",
              "</div>"
            ],
            "text/plain": [
              "            City  Temperature  Humidity\n",
              "0       New York         21.0        65\n",
              "1        Chicago         14.0        68\n",
              "2  San Francisco          NaN        75"
            ]
          },
          "metadata": {
            "tags": []
          },
          "execution_count": 42
        }
      ]
    },
    {
      "cell_type": "markdown",
      "metadata": {
        "id": "Iojsbha4LSlE",
        "colab_type": "text"
      },
      "source": [
        "*in this case we can wiew in that features are in the data frame*"
      ]
    },
    {
      "cell_type": "code",
      "metadata": {
        "id": "-Oefy-T9JG-D",
        "colab_type": "code",
        "outputId": "d9b9bdd6-66a7-433d-8b39-dcd5347d5e6c",
        "colab": {
          "base_uri": "https://localhost:8080/",
          "height": 204
        }
      },
      "source": [
        "df3 = pd.merge(df1,df2,on = 'City', how = 'outer', indicator=True)\n",
        "df3"
      ],
      "execution_count": 0,
      "outputs": [
        {
          "output_type": "execute_result",
          "data": {
            "text/html": [
              "<div>\n",
              "<style scoped>\n",
              "    .dataframe tbody tr th:only-of-type {\n",
              "        vertical-align: middle;\n",
              "    }\n",
              "\n",
              "    .dataframe tbody tr th {\n",
              "        vertical-align: top;\n",
              "    }\n",
              "\n",
              "    .dataframe thead th {\n",
              "        text-align: right;\n",
              "    }\n",
              "</style>\n",
              "<table border=\"1\" class=\"dataframe\">\n",
              "  <thead>\n",
              "    <tr style=\"text-align: right;\">\n",
              "      <th></th>\n",
              "      <th>City</th>\n",
              "      <th>Temperature</th>\n",
              "      <th>Humidity</th>\n",
              "      <th>_merge</th>\n",
              "    </tr>\n",
              "  </thead>\n",
              "  <tbody>\n",
              "    <tr>\n",
              "      <th>0</th>\n",
              "      <td>New York</td>\n",
              "      <td>21.0</td>\n",
              "      <td>65.0</td>\n",
              "      <td>both</td>\n",
              "    </tr>\n",
              "    <tr>\n",
              "      <th>1</th>\n",
              "      <td>Chicago</td>\n",
              "      <td>14.0</td>\n",
              "      <td>68.0</td>\n",
              "      <td>both</td>\n",
              "    </tr>\n",
              "    <tr>\n",
              "      <th>2</th>\n",
              "      <td>Orlando</td>\n",
              "      <td>35.0</td>\n",
              "      <td>NaN</td>\n",
              "      <td>left_only</td>\n",
              "    </tr>\n",
              "    <tr>\n",
              "      <th>3</th>\n",
              "      <td>Baltimore</td>\n",
              "      <td>50.0</td>\n",
              "      <td>NaN</td>\n",
              "      <td>left_only</td>\n",
              "    </tr>\n",
              "    <tr>\n",
              "      <th>4</th>\n",
              "      <td>San Francisco</td>\n",
              "      <td>NaN</td>\n",
              "      <td>75.0</td>\n",
              "      <td>right_only</td>\n",
              "    </tr>\n",
              "  </tbody>\n",
              "</table>\n",
              "</div>"
            ],
            "text/plain": [
              "            City  Temperature  Humidity      _merge\n",
              "0       New York         21.0      65.0        both\n",
              "1        Chicago         14.0      68.0        both\n",
              "2        Orlando         35.0       NaN   left_only\n",
              "3      Baltimore         50.0       NaN   left_only\n",
              "4  San Francisco          NaN      75.0  right_only"
            ]
          },
          "metadata": {
            "tags": []
          },
          "execution_count": 43
        }
      ]
    },
    {
      "cell_type": "code",
      "metadata": {
        "id": "QmLtL533J0xn",
        "colab_type": "code",
        "outputId": "0a754929-a495-4b67-809d-c03c808a165c",
        "colab": {
          "base_uri": "https://localhost:8080/",
          "height": 173
        }
      },
      "source": [
        "df1 = pd.DataFrame({\n",
        "    \"city\": [\"new york\",\"chicago\",\"orlando\", \"baltimore\"],\n",
        "    \"temperature\": [21,14,35,38],\n",
        "    \"humidity\": [65,68,71, 75]\n",
        "})\n",
        "df1"
      ],
      "execution_count": 0,
      "outputs": [
        {
          "output_type": "execute_result",
          "data": {
            "text/html": [
              "<div>\n",
              "<style scoped>\n",
              "    .dataframe tbody tr th:only-of-type {\n",
              "        vertical-align: middle;\n",
              "    }\n",
              "\n",
              "    .dataframe tbody tr th {\n",
              "        vertical-align: top;\n",
              "    }\n",
              "\n",
              "    .dataframe thead th {\n",
              "        text-align: right;\n",
              "    }\n",
              "</style>\n",
              "<table border=\"1\" class=\"dataframe\">\n",
              "  <thead>\n",
              "    <tr style=\"text-align: right;\">\n",
              "      <th></th>\n",
              "      <th>city</th>\n",
              "      <th>temperature</th>\n",
              "      <th>humidity</th>\n",
              "    </tr>\n",
              "  </thead>\n",
              "  <tbody>\n",
              "    <tr>\n",
              "      <th>0</th>\n",
              "      <td>new york</td>\n",
              "      <td>21</td>\n",
              "      <td>65</td>\n",
              "    </tr>\n",
              "    <tr>\n",
              "      <th>1</th>\n",
              "      <td>chicago</td>\n",
              "      <td>14</td>\n",
              "      <td>68</td>\n",
              "    </tr>\n",
              "    <tr>\n",
              "      <th>2</th>\n",
              "      <td>orlando</td>\n",
              "      <td>35</td>\n",
              "      <td>71</td>\n",
              "    </tr>\n",
              "    <tr>\n",
              "      <th>3</th>\n",
              "      <td>baltimore</td>\n",
              "      <td>38</td>\n",
              "      <td>75</td>\n",
              "    </tr>\n",
              "  </tbody>\n",
              "</table>\n",
              "</div>"
            ],
            "text/plain": [
              "        city  temperature  humidity\n",
              "0   new york           21        65\n",
              "1    chicago           14        68\n",
              "2    orlando           35        71\n",
              "3  baltimore           38        75"
            ]
          },
          "metadata": {
            "tags": []
          },
          "execution_count": 44
        }
      ]
    },
    {
      "cell_type": "code",
      "metadata": {
        "id": "FwE5thjEJ0-U",
        "colab_type": "code",
        "outputId": "ddc666a8-b203-4afd-d09a-10c432adf2a9",
        "colab": {
          "base_uri": "https://localhost:8080/",
          "height": 142
        }
      },
      "source": [
        "df2 = pd.DataFrame({\n",
        "    \"city\": [\"chicago\",\"new york\",\"san diego\"],\n",
        "    \"temperature\": [21,14,35],\n",
        "    \"humidity\": [65,68,71]\n",
        "})\n",
        "df2"
      ],
      "execution_count": 0,
      "outputs": [
        {
          "output_type": "execute_result",
          "data": {
            "text/html": [
              "<div>\n",
              "<style scoped>\n",
              "    .dataframe tbody tr th:only-of-type {\n",
              "        vertical-align: middle;\n",
              "    }\n",
              "\n",
              "    .dataframe tbody tr th {\n",
              "        vertical-align: top;\n",
              "    }\n",
              "\n",
              "    .dataframe thead th {\n",
              "        text-align: right;\n",
              "    }\n",
              "</style>\n",
              "<table border=\"1\" class=\"dataframe\">\n",
              "  <thead>\n",
              "    <tr style=\"text-align: right;\">\n",
              "      <th></th>\n",
              "      <th>city</th>\n",
              "      <th>temperature</th>\n",
              "      <th>humidity</th>\n",
              "    </tr>\n",
              "  </thead>\n",
              "  <tbody>\n",
              "    <tr>\n",
              "      <th>0</th>\n",
              "      <td>chicago</td>\n",
              "      <td>21</td>\n",
              "      <td>65</td>\n",
              "    </tr>\n",
              "    <tr>\n",
              "      <th>1</th>\n",
              "      <td>new york</td>\n",
              "      <td>14</td>\n",
              "      <td>68</td>\n",
              "    </tr>\n",
              "    <tr>\n",
              "      <th>2</th>\n",
              "      <td>san diego</td>\n",
              "      <td>35</td>\n",
              "      <td>71</td>\n",
              "    </tr>\n",
              "  </tbody>\n",
              "</table>\n",
              "</div>"
            ],
            "text/plain": [
              "        city  temperature  humidity\n",
              "0    chicago           21        65\n",
              "1   new york           14        68\n",
              "2  san diego           35        71"
            ]
          },
          "metadata": {
            "tags": []
          },
          "execution_count": 45
        }
      ]
    },
    {
      "cell_type": "code",
      "metadata": {
        "id": "rndN7MjhJ1Ii",
        "colab_type": "code",
        "outputId": "fdacb42c-a0a2-4e96-e258-54573dd18f30",
        "colab": {
          "base_uri": "https://localhost:8080/",
          "height": 204
        }
      },
      "source": [
        "df3 = pd.merge(df1,df2,on = 'city', how = 'outer')\n",
        "df3"
      ],
      "execution_count": 0,
      "outputs": [
        {
          "output_type": "execute_result",
          "data": {
            "text/html": [
              "<div>\n",
              "<style scoped>\n",
              "    .dataframe tbody tr th:only-of-type {\n",
              "        vertical-align: middle;\n",
              "    }\n",
              "\n",
              "    .dataframe tbody tr th {\n",
              "        vertical-align: top;\n",
              "    }\n",
              "\n",
              "    .dataframe thead th {\n",
              "        text-align: right;\n",
              "    }\n",
              "</style>\n",
              "<table border=\"1\" class=\"dataframe\">\n",
              "  <thead>\n",
              "    <tr style=\"text-align: right;\">\n",
              "      <th></th>\n",
              "      <th>city</th>\n",
              "      <th>temperature_x</th>\n",
              "      <th>humidity_x</th>\n",
              "      <th>temperature_y</th>\n",
              "      <th>humidity_y</th>\n",
              "    </tr>\n",
              "  </thead>\n",
              "  <tbody>\n",
              "    <tr>\n",
              "      <th>0</th>\n",
              "      <td>new york</td>\n",
              "      <td>21.0</td>\n",
              "      <td>65.0</td>\n",
              "      <td>14.0</td>\n",
              "      <td>68.0</td>\n",
              "    </tr>\n",
              "    <tr>\n",
              "      <th>1</th>\n",
              "      <td>chicago</td>\n",
              "      <td>14.0</td>\n",
              "      <td>68.0</td>\n",
              "      <td>21.0</td>\n",
              "      <td>65.0</td>\n",
              "    </tr>\n",
              "    <tr>\n",
              "      <th>2</th>\n",
              "      <td>orlando</td>\n",
              "      <td>35.0</td>\n",
              "      <td>71.0</td>\n",
              "      <td>NaN</td>\n",
              "      <td>NaN</td>\n",
              "    </tr>\n",
              "    <tr>\n",
              "      <th>3</th>\n",
              "      <td>baltimore</td>\n",
              "      <td>38.0</td>\n",
              "      <td>75.0</td>\n",
              "      <td>NaN</td>\n",
              "      <td>NaN</td>\n",
              "    </tr>\n",
              "    <tr>\n",
              "      <th>4</th>\n",
              "      <td>san diego</td>\n",
              "      <td>NaN</td>\n",
              "      <td>NaN</td>\n",
              "      <td>35.0</td>\n",
              "      <td>71.0</td>\n",
              "    </tr>\n",
              "  </tbody>\n",
              "</table>\n",
              "</div>"
            ],
            "text/plain": [
              "        city  temperature_x  humidity_x  temperature_y  humidity_y\n",
              "0   new york           21.0        65.0           14.0        68.0\n",
              "1    chicago           14.0        68.0           21.0        65.0\n",
              "2    orlando           35.0        71.0            NaN         NaN\n",
              "3  baltimore           38.0        75.0            NaN         NaN\n",
              "4  san diego            NaN         NaN           35.0        71.0"
            ]
          },
          "metadata": {
            "tags": []
          },
          "execution_count": 47
        }
      ]
    },
    {
      "cell_type": "code",
      "metadata": {
        "id": "ThvGuHXnKEQP",
        "colab_type": "code",
        "outputId": "432de7d7-3086-4fb7-cc0e-f3e197dd7d89",
        "colab": {
          "base_uri": "https://localhost:8080/",
          "height": 204
        }
      },
      "source": [
        "df3 = pd.merge(df1,df2,on = 'city', how = 'outer', suffixes =('_left', '_right'))\n",
        "df3"
      ],
      "execution_count": 0,
      "outputs": [
        {
          "output_type": "execute_result",
          "data": {
            "text/html": [
              "<div>\n",
              "<style scoped>\n",
              "    .dataframe tbody tr th:only-of-type {\n",
              "        vertical-align: middle;\n",
              "    }\n",
              "\n",
              "    .dataframe tbody tr th {\n",
              "        vertical-align: top;\n",
              "    }\n",
              "\n",
              "    .dataframe thead th {\n",
              "        text-align: right;\n",
              "    }\n",
              "</style>\n",
              "<table border=\"1\" class=\"dataframe\">\n",
              "  <thead>\n",
              "    <tr style=\"text-align: right;\">\n",
              "      <th></th>\n",
              "      <th>city</th>\n",
              "      <th>temperature_left</th>\n",
              "      <th>humidity_left</th>\n",
              "      <th>temperature_right</th>\n",
              "      <th>humidity_right</th>\n",
              "    </tr>\n",
              "  </thead>\n",
              "  <tbody>\n",
              "    <tr>\n",
              "      <th>0</th>\n",
              "      <td>new york</td>\n",
              "      <td>21.0</td>\n",
              "      <td>65.0</td>\n",
              "      <td>14.0</td>\n",
              "      <td>68.0</td>\n",
              "    </tr>\n",
              "    <tr>\n",
              "      <th>1</th>\n",
              "      <td>chicago</td>\n",
              "      <td>14.0</td>\n",
              "      <td>68.0</td>\n",
              "      <td>21.0</td>\n",
              "      <td>65.0</td>\n",
              "    </tr>\n",
              "    <tr>\n",
              "      <th>2</th>\n",
              "      <td>orlando</td>\n",
              "      <td>35.0</td>\n",
              "      <td>71.0</td>\n",
              "      <td>NaN</td>\n",
              "      <td>NaN</td>\n",
              "    </tr>\n",
              "    <tr>\n",
              "      <th>3</th>\n",
              "      <td>baltimore</td>\n",
              "      <td>38.0</td>\n",
              "      <td>75.0</td>\n",
              "      <td>NaN</td>\n",
              "      <td>NaN</td>\n",
              "    </tr>\n",
              "    <tr>\n",
              "      <th>4</th>\n",
              "      <td>san diego</td>\n",
              "      <td>NaN</td>\n",
              "      <td>NaN</td>\n",
              "      <td>35.0</td>\n",
              "      <td>71.0</td>\n",
              "    </tr>\n",
              "  </tbody>\n",
              "</table>\n",
              "</div>"
            ],
            "text/plain": [
              "        city  temperature_left  ...  temperature_right  humidity_right\n",
              "0   new york              21.0  ...               14.0            68.0\n",
              "1    chicago              14.0  ...               21.0            65.0\n",
              "2    orlando              35.0  ...                NaN             NaN\n",
              "3  baltimore              38.0  ...                NaN             NaN\n",
              "4  san diego               NaN  ...               35.0            71.0\n",
              "\n",
              "[5 rows x 5 columns]"
            ]
          },
          "metadata": {
            "tags": []
          },
          "execution_count": 49
        }
      ]
    },
    {
      "cell_type": "markdown",
      "metadata": {
        "id": "TIPlsvKqCdo3",
        "colab_type": "text"
      },
      "source": [
        "##**GroupBy**\n"
      ]
    },
    {
      "cell_type": "code",
      "metadata": {
        "id": "gYuuYlH14frA",
        "colab_type": "code",
        "colab": {}
      },
      "source": [
        "drinks = pd.read_csv('http://bit.ly/drinksbycountry')"
      ],
      "execution_count": 0,
      "outputs": []
    },
    {
      "cell_type": "code",
      "metadata": {
        "id": "KHCPwxXi5oH8",
        "colab_type": "code",
        "outputId": "d54ec485-9de3-4621-c5ce-4d86301ada96",
        "colab": {
          "base_uri": "https://localhost:8080/",
          "height": 204
        }
      },
      "source": [
        "drinks.head()"
      ],
      "execution_count": 0,
      "outputs": [
        {
          "output_type": "execute_result",
          "data": {
            "text/html": [
              "<div>\n",
              "<style scoped>\n",
              "    .dataframe tbody tr th:only-of-type {\n",
              "        vertical-align: middle;\n",
              "    }\n",
              "\n",
              "    .dataframe tbody tr th {\n",
              "        vertical-align: top;\n",
              "    }\n",
              "\n",
              "    .dataframe thead th {\n",
              "        text-align: right;\n",
              "    }\n",
              "</style>\n",
              "<table border=\"1\" class=\"dataframe\">\n",
              "  <thead>\n",
              "    <tr style=\"text-align: right;\">\n",
              "      <th></th>\n",
              "      <th>country</th>\n",
              "      <th>beer_servings</th>\n",
              "      <th>spirit_servings</th>\n",
              "      <th>wine_servings</th>\n",
              "      <th>total_litres_of_pure_alcohol</th>\n",
              "      <th>continent</th>\n",
              "    </tr>\n",
              "  </thead>\n",
              "  <tbody>\n",
              "    <tr>\n",
              "      <th>0</th>\n",
              "      <td>Afghanistan</td>\n",
              "      <td>0</td>\n",
              "      <td>0</td>\n",
              "      <td>0</td>\n",
              "      <td>0.0</td>\n",
              "      <td>Asia</td>\n",
              "    </tr>\n",
              "    <tr>\n",
              "      <th>1</th>\n",
              "      <td>Albania</td>\n",
              "      <td>89</td>\n",
              "      <td>132</td>\n",
              "      <td>54</td>\n",
              "      <td>4.9</td>\n",
              "      <td>Europe</td>\n",
              "    </tr>\n",
              "    <tr>\n",
              "      <th>2</th>\n",
              "      <td>Algeria</td>\n",
              "      <td>25</td>\n",
              "      <td>0</td>\n",
              "      <td>14</td>\n",
              "      <td>0.7</td>\n",
              "      <td>Africa</td>\n",
              "    </tr>\n",
              "    <tr>\n",
              "      <th>3</th>\n",
              "      <td>Andorra</td>\n",
              "      <td>245</td>\n",
              "      <td>138</td>\n",
              "      <td>312</td>\n",
              "      <td>12.4</td>\n",
              "      <td>Europe</td>\n",
              "    </tr>\n",
              "    <tr>\n",
              "      <th>4</th>\n",
              "      <td>Angola</td>\n",
              "      <td>217</td>\n",
              "      <td>57</td>\n",
              "      <td>45</td>\n",
              "      <td>5.9</td>\n",
              "      <td>Africa</td>\n",
              "    </tr>\n",
              "  </tbody>\n",
              "</table>\n",
              "</div>"
            ],
            "text/plain": [
              "       country  beer_servings  ...  total_litres_of_pure_alcohol  continent\n",
              "0  Afghanistan              0  ...                           0.0       Asia\n",
              "1      Albania             89  ...                           4.9     Europe\n",
              "2      Algeria             25  ...                           0.7     Africa\n",
              "3      Andorra            245  ...                          12.4     Europe\n",
              "4       Angola            217  ...                           5.9     Africa\n",
              "\n",
              "[5 rows x 6 columns]"
            ]
          },
          "metadata": {
            "tags": []
          },
          "execution_count": 7
        }
      ]
    },
    {
      "cell_type": "code",
      "metadata": {
        "id": "FF1tP3Te5qGM",
        "colab_type": "code",
        "outputId": "31304649-73c9-4348-c9d9-a8bff99d7e6b",
        "colab": {
          "base_uri": "https://localhost:8080/",
          "height": 34
        }
      },
      "source": [
        "drinks.beer_servings.mean()"
      ],
      "execution_count": 0,
      "outputs": [
        {
          "output_type": "execute_result",
          "data": {
            "text/plain": [
              "106.16062176165804"
            ]
          },
          "metadata": {
            "tags": []
          },
          "execution_count": 8
        }
      ]
    },
    {
      "cell_type": "code",
      "metadata": {
        "id": "u1H0Mrpm530w",
        "colab_type": "code",
        "outputId": "3b2512d1-7812-4d84-8887-761b890a9018",
        "colab": {
          "base_uri": "https://localhost:8080/",
          "height": 153
        }
      },
      "source": [
        "drinks.groupby('continent').beer_servings.mean()"
      ],
      "execution_count": 0,
      "outputs": [
        {
          "output_type": "execute_result",
          "data": {
            "text/plain": [
              "continent\n",
              "Africa            61.471698\n",
              "Asia              37.045455\n",
              "Europe           193.777778\n",
              "North America    145.434783\n",
              "Oceania           89.687500\n",
              "South America    175.083333\n",
              "Name: beer_servings, dtype: float64"
            ]
          },
          "metadata": {
            "tags": []
          },
          "execution_count": 9
        }
      ]
    },
    {
      "cell_type": "code",
      "metadata": {
        "id": "01tsSkKo537S",
        "colab_type": "code",
        "outputId": "76ba0ab6-c4f3-455a-8d35-8b92b17ba67d",
        "colab": {
          "base_uri": "https://localhost:8080/",
          "height": 34
        }
      },
      "source": [
        "drinks[drinks.continent == 'Africa'].beer_servings.mean()"
      ],
      "execution_count": 0,
      "outputs": [
        {
          "output_type": "execute_result",
          "data": {
            "text/plain": [
              "61.471698113207545"
            ]
          },
          "metadata": {
            "tags": []
          },
          "execution_count": 12
        }
      ]
    },
    {
      "cell_type": "code",
      "metadata": {
        "id": "eBbpyRyU54AB",
        "colab_type": "code",
        "outputId": "ea17fc8b-f706-4fd4-ce59-637d802d18c9",
        "colab": {
          "base_uri": "https://localhost:8080/",
          "height": 153
        }
      },
      "source": [
        "drinks.groupby('continent').beer_servings.max()"
      ],
      "execution_count": 0,
      "outputs": [
        {
          "output_type": "execute_result",
          "data": {
            "text/plain": [
              "continent\n",
              "Africa           376\n",
              "Asia             247\n",
              "Europe           361\n",
              "North America    285\n",
              "Oceania          306\n",
              "South America    333\n",
              "Name: beer_servings, dtype: int64"
            ]
          },
          "metadata": {
            "tags": []
          },
          "execution_count": 13
        }
      ]
    },
    {
      "cell_type": "code",
      "metadata": {
        "id": "XHYItkKo99VN",
        "colab_type": "code",
        "outputId": "0b1a2249-0225-4601-d14f-68db44c90d88",
        "colab": {
          "base_uri": "https://localhost:8080/",
          "height": 266
        }
      },
      "source": [
        "drinks.groupby('continent').beer_servings.agg(['max', 'min', 'count', 'mean'])\n"
      ],
      "execution_count": 0,
      "outputs": [
        {
          "output_type": "execute_result",
          "data": {
            "text/html": [
              "<div>\n",
              "<style scoped>\n",
              "    .dataframe tbody tr th:only-of-type {\n",
              "        vertical-align: middle;\n",
              "    }\n",
              "\n",
              "    .dataframe tbody tr th {\n",
              "        vertical-align: top;\n",
              "    }\n",
              "\n",
              "    .dataframe thead th {\n",
              "        text-align: right;\n",
              "    }\n",
              "</style>\n",
              "<table border=\"1\" class=\"dataframe\">\n",
              "  <thead>\n",
              "    <tr style=\"text-align: right;\">\n",
              "      <th></th>\n",
              "      <th>max</th>\n",
              "      <th>min</th>\n",
              "      <th>count</th>\n",
              "      <th>mean</th>\n",
              "    </tr>\n",
              "    <tr>\n",
              "      <th>continent</th>\n",
              "      <th></th>\n",
              "      <th></th>\n",
              "      <th></th>\n",
              "      <th></th>\n",
              "    </tr>\n",
              "  </thead>\n",
              "  <tbody>\n",
              "    <tr>\n",
              "      <th>Africa</th>\n",
              "      <td>376</td>\n",
              "      <td>0</td>\n",
              "      <td>53</td>\n",
              "      <td>61.471698</td>\n",
              "    </tr>\n",
              "    <tr>\n",
              "      <th>Asia</th>\n",
              "      <td>247</td>\n",
              "      <td>0</td>\n",
              "      <td>44</td>\n",
              "      <td>37.045455</td>\n",
              "    </tr>\n",
              "    <tr>\n",
              "      <th>Europe</th>\n",
              "      <td>361</td>\n",
              "      <td>0</td>\n",
              "      <td>45</td>\n",
              "      <td>193.777778</td>\n",
              "    </tr>\n",
              "    <tr>\n",
              "      <th>North America</th>\n",
              "      <td>285</td>\n",
              "      <td>1</td>\n",
              "      <td>23</td>\n",
              "      <td>145.434783</td>\n",
              "    </tr>\n",
              "    <tr>\n",
              "      <th>Oceania</th>\n",
              "      <td>306</td>\n",
              "      <td>0</td>\n",
              "      <td>16</td>\n",
              "      <td>89.687500</td>\n",
              "    </tr>\n",
              "    <tr>\n",
              "      <th>South America</th>\n",
              "      <td>333</td>\n",
              "      <td>93</td>\n",
              "      <td>12</td>\n",
              "      <td>175.083333</td>\n",
              "    </tr>\n",
              "  </tbody>\n",
              "</table>\n",
              "</div>"
            ],
            "text/plain": [
              "               max  min  count        mean\n",
              "continent                                 \n",
              "Africa         376    0     53   61.471698\n",
              "Asia           247    0     44   37.045455\n",
              "Europe         361    0     45  193.777778\n",
              "North America  285    1     23  145.434783\n",
              "Oceania        306    0     16   89.687500\n",
              "South America  333   93     12  175.083333"
            ]
          },
          "metadata": {
            "tags": []
          },
          "execution_count": 21
        }
      ]
    },
    {
      "cell_type": "code",
      "metadata": {
        "id": "265pLRJ599ew",
        "colab_type": "code",
        "outputId": "5d19c478-bb29-4c3e-aaa4-f460e93fd21f",
        "colab": {
          "base_uri": "https://localhost:8080/",
          "height": 266
        }
      },
      "source": [
        "drinks.groupby('continent').mean()"
      ],
      "execution_count": 0,
      "outputs": [
        {
          "output_type": "execute_result",
          "data": {
            "text/html": [
              "<div>\n",
              "<style scoped>\n",
              "    .dataframe tbody tr th:only-of-type {\n",
              "        vertical-align: middle;\n",
              "    }\n",
              "\n",
              "    .dataframe tbody tr th {\n",
              "        vertical-align: top;\n",
              "    }\n",
              "\n",
              "    .dataframe thead th {\n",
              "        text-align: right;\n",
              "    }\n",
              "</style>\n",
              "<table border=\"1\" class=\"dataframe\">\n",
              "  <thead>\n",
              "    <tr style=\"text-align: right;\">\n",
              "      <th></th>\n",
              "      <th>beer_servings</th>\n",
              "      <th>spirit_servings</th>\n",
              "      <th>wine_servings</th>\n",
              "      <th>total_litres_of_pure_alcohol</th>\n",
              "    </tr>\n",
              "    <tr>\n",
              "      <th>continent</th>\n",
              "      <th></th>\n",
              "      <th></th>\n",
              "      <th></th>\n",
              "      <th></th>\n",
              "    </tr>\n",
              "  </thead>\n",
              "  <tbody>\n",
              "    <tr>\n",
              "      <th>Africa</th>\n",
              "      <td>61.471698</td>\n",
              "      <td>16.339623</td>\n",
              "      <td>16.264151</td>\n",
              "      <td>3.007547</td>\n",
              "    </tr>\n",
              "    <tr>\n",
              "      <th>Asia</th>\n",
              "      <td>37.045455</td>\n",
              "      <td>60.840909</td>\n",
              "      <td>9.068182</td>\n",
              "      <td>2.170455</td>\n",
              "    </tr>\n",
              "    <tr>\n",
              "      <th>Europe</th>\n",
              "      <td>193.777778</td>\n",
              "      <td>132.555556</td>\n",
              "      <td>142.222222</td>\n",
              "      <td>8.617778</td>\n",
              "    </tr>\n",
              "    <tr>\n",
              "      <th>North America</th>\n",
              "      <td>145.434783</td>\n",
              "      <td>165.739130</td>\n",
              "      <td>24.521739</td>\n",
              "      <td>5.995652</td>\n",
              "    </tr>\n",
              "    <tr>\n",
              "      <th>Oceania</th>\n",
              "      <td>89.687500</td>\n",
              "      <td>58.437500</td>\n",
              "      <td>35.625000</td>\n",
              "      <td>3.381250</td>\n",
              "    </tr>\n",
              "    <tr>\n",
              "      <th>South America</th>\n",
              "      <td>175.083333</td>\n",
              "      <td>114.750000</td>\n",
              "      <td>62.416667</td>\n",
              "      <td>6.308333</td>\n",
              "    </tr>\n",
              "  </tbody>\n",
              "</table>\n",
              "</div>"
            ],
            "text/plain": [
              "               beer_servings  ...  total_litres_of_pure_alcohol\n",
              "continent                     ...                              \n",
              "Africa             61.471698  ...                      3.007547\n",
              "Asia               37.045455  ...                      2.170455\n",
              "Europe            193.777778  ...                      8.617778\n",
              "North America     145.434783  ...                      5.995652\n",
              "Oceania            89.687500  ...                      3.381250\n",
              "South America     175.083333  ...                      6.308333\n",
              "\n",
              "[6 rows x 4 columns]"
            ]
          },
          "metadata": {
            "tags": []
          },
          "execution_count": 22
        }
      ]
    },
    {
      "cell_type": "code",
      "metadata": {
        "id": "fu60vXQu99je",
        "colab_type": "code",
        "colab": {}
      },
      "source": [
        "%matplotlib inline"
      ],
      "execution_count": 0,
      "outputs": []
    },
    {
      "cell_type": "code",
      "metadata": {
        "id": "XLltw7hI99qQ",
        "colab_type": "code",
        "outputId": "ec0d5ab1-f8a4-462d-cfed-8b83bf46b89b",
        "colab": {
          "base_uri": "https://localhost:8080/",
          "height": 360
        }
      },
      "source": [
        "drinks.groupby('continent').mean().plot(kind= 'bar')"
      ],
      "execution_count": 0,
      "outputs": [
        {
          "output_type": "execute_result",
          "data": {
            "text/plain": [
              "<matplotlib.axes._subplots.AxesSubplot at 0x7f81ca8bf358>"
            ]
          },
          "metadata": {
            "tags": []
          },
          "execution_count": 25
        },
        {
          "output_type": "display_data",
          "data": {
            "image/png": "[encoded data removed]",
            "text/plain": [
              "<Figure size 432x288 with 1 Axes>"
            ]
          },
          "metadata": {
            "tags": [],
            "needs_background": "light"
          }
        }
      ]
    },
    {
      "cell_type": "markdown",
      "metadata": {
        "id": "NVZ03NTAMlLG",
        "colab_type": "text"
      },
      "source": [
        "##**Pivot Table**"
      ]
    },
    {
      "cell_type": "code",
      "metadata": {
        "id": "GX2kd_MlMj9f",
        "colab_type": "code",
        "outputId": "d0aa8cef-97bc-4a2a-fb9c-2c4d1fc41015",
        "colab": {
          "base_uri": "https://localhost:8080/",
          "height": 204
        }
      },
      "source": [
        "df = pd.DataFrame({\"Date\":[\"5/1/2017\",\"5/2/2017\",\"5/1/2017\",\"5/1/2017\",\"5/2/2017\"],\n",
        "                   \"City\":[\"new york\",\"new york\", \"mumbai\", \"beijing\", \"beijing\"],\n",
        "                   \"Temperature\":[65,66,68,75,78],\n",
        "                   \"Humidity\":[56,58,69,89,42]})\n",
        "df"
      ],
      "execution_count": 0,
      "outputs": [
        {
          "output_type": "execute_result",
          "data": {
            "text/html": [
              "<div>\n",
              "<style scoped>\n",
              "    .dataframe tbody tr th:only-of-type {\n",
              "        vertical-align: middle;\n",
              "    }\n",
              "\n",
              "    .dataframe tbody tr th {\n",
              "        vertical-align: top;\n",
              "    }\n",
              "\n",
              "    .dataframe thead th {\n",
              "        text-align: right;\n",
              "    }\n",
              "</style>\n",
              "<table border=\"1\" class=\"dataframe\">\n",
              "  <thead>\n",
              "    <tr style=\"text-align: right;\">\n",
              "      <th></th>\n",
              "      <th>Date</th>\n",
              "      <th>City</th>\n",
              "      <th>Temperature</th>\n",
              "      <th>Humidity</th>\n",
              "    </tr>\n",
              "  </thead>\n",
              "  <tbody>\n",
              "    <tr>\n",
              "      <th>0</th>\n",
              "      <td>5/1/2017</td>\n",
              "      <td>new york</td>\n",
              "      <td>65</td>\n",
              "      <td>56</td>\n",
              "    </tr>\n",
              "    <tr>\n",
              "      <th>1</th>\n",
              "      <td>5/2/2017</td>\n",
              "      <td>new york</td>\n",
              "      <td>66</td>\n",
              "      <td>58</td>\n",
              "    </tr>\n",
              "    <tr>\n",
              "      <th>2</th>\n",
              "      <td>5/1/2017</td>\n",
              "      <td>mumbai</td>\n",
              "      <td>68</td>\n",
              "      <td>69</td>\n",
              "    </tr>\n",
              "    <tr>\n",
              "      <th>3</th>\n",
              "      <td>5/1/2017</td>\n",
              "      <td>beijing</td>\n",
              "      <td>75</td>\n",
              "      <td>89</td>\n",
              "    </tr>\n",
              "    <tr>\n",
              "      <th>4</th>\n",
              "      <td>5/2/2017</td>\n",
              "      <td>beijing</td>\n",
              "      <td>78</td>\n",
              "      <td>42</td>\n",
              "    </tr>\n",
              "  </tbody>\n",
              "</table>\n",
              "</div>"
            ],
            "text/plain": [
              "       Date      City  Temperature  Humidity\n",
              "0  5/1/2017  new york           65        56\n",
              "1  5/2/2017  new york           66        58\n",
              "2  5/1/2017    mumbai           68        69\n",
              "3  5/1/2017   beijing           75        89\n",
              "4  5/2/2017   beijing           78        42"
            ]
          },
          "metadata": {
            "tags": []
          },
          "execution_count": 53
        }
      ]
    },
    {
      "cell_type": "code",
      "metadata": {
        "id": "KGs8efJUMkLK",
        "colab_type": "code",
        "outputId": "e7b48667-2de9-4f28-ff29-f673dc557bcb",
        "colab": {
          "base_uri": "https://localhost:8080/",
          "height": 173
        }
      },
      "source": [
        "df.pivot(index = \"Date\", columns = \"City\")"
      ],
      "execution_count": 0,
      "outputs": [
        {
          "output_type": "execute_result",
          "data": {
            "text/html": [
              "<div>\n",
              "<style scoped>\n",
              "    .dataframe tbody tr th:only-of-type {\n",
              "        vertical-align: middle;\n",
              "    }\n",
              "\n",
              "    .dataframe tbody tr th {\n",
              "        vertical-align: top;\n",
              "    }\n",
              "\n",
              "    .dataframe thead tr th {\n",
              "        text-align: left;\n",
              "    }\n",
              "\n",
              "    .dataframe thead tr:last-of-type th {\n",
              "        text-align: right;\n",
              "    }\n",
              "</style>\n",
              "<table border=\"1\" class=\"dataframe\">\n",
              "  <thead>\n",
              "    <tr>\n",
              "      <th></th>\n",
              "      <th colspan=\"3\" halign=\"left\">Temperature</th>\n",
              "      <th colspan=\"3\" halign=\"left\">Humidity</th>\n",
              "    </tr>\n",
              "    <tr>\n",
              "      <th>City</th>\n",
              "      <th>beijing</th>\n",
              "      <th>mumbai</th>\n",
              "      <th>new york</th>\n",
              "      <th>beijing</th>\n",
              "      <th>mumbai</th>\n",
              "      <th>new york</th>\n",
              "    </tr>\n",
              "    <tr>\n",
              "      <th>Date</th>\n",
              "      <th></th>\n",
              "      <th></th>\n",
              "      <th></th>\n",
              "      <th></th>\n",
              "      <th></th>\n",
              "      <th></th>\n",
              "    </tr>\n",
              "  </thead>\n",
              "  <tbody>\n",
              "    <tr>\n",
              "      <th>5/1/2017</th>\n",
              "      <td>75.0</td>\n",
              "      <td>68.0</td>\n",
              "      <td>65.0</td>\n",
              "      <td>89.0</td>\n",
              "      <td>69.0</td>\n",
              "      <td>56.0</td>\n",
              "    </tr>\n",
              "    <tr>\n",
              "      <th>5/2/2017</th>\n",
              "      <td>78.0</td>\n",
              "      <td>NaN</td>\n",
              "      <td>66.0</td>\n",
              "      <td>42.0</td>\n",
              "      <td>NaN</td>\n",
              "      <td>58.0</td>\n",
              "    </tr>\n",
              "  </tbody>\n",
              "</table>\n",
              "</div>"
            ],
            "text/plain": [
              "         Temperature                 Humidity                \n",
              "City         beijing mumbai new york  beijing mumbai new york\n",
              "Date                                                         \n",
              "5/1/2017        75.0   68.0     65.0     89.0   69.0     56.0\n",
              "5/2/2017        78.0    NaN     66.0     42.0    NaN     58.0"
            ]
          },
          "metadata": {
            "tags": []
          },
          "execution_count": 54
        }
      ]
    },
    {
      "cell_type": "code",
      "metadata": {
        "id": "pQjPE78FMkPE",
        "colab_type": "code",
        "outputId": "0bbe2c03-def9-404f-bf0f-2e461011e29c",
        "colab": {
          "base_uri": "https://localhost:8080/",
          "height": 142
        }
      },
      "source": [
        "df.pivot(index = \"Date\", columns = \"City\", values=\"Humidity\")"
      ],
      "execution_count": 0,
      "outputs": [
        {
          "output_type": "execute_result",
          "data": {
            "text/html": [
              "<div>\n",
              "<style scoped>\n",
              "    .dataframe tbody tr th:only-of-type {\n",
              "        vertical-align: middle;\n",
              "    }\n",
              "\n",
              "    .dataframe tbody tr th {\n",
              "        vertical-align: top;\n",
              "    }\n",
              "\n",
              "    .dataframe thead th {\n",
              "        text-align: right;\n",
              "    }\n",
              "</style>\n",
              "<table border=\"1\" class=\"dataframe\">\n",
              "  <thead>\n",
              "    <tr style=\"text-align: right;\">\n",
              "      <th>City</th>\n",
              "      <th>beijing</th>\n",
              "      <th>mumbai</th>\n",
              "      <th>new york</th>\n",
              "    </tr>\n",
              "    <tr>\n",
              "      <th>Date</th>\n",
              "      <th></th>\n",
              "      <th></th>\n",
              "      <th></th>\n",
              "    </tr>\n",
              "  </thead>\n",
              "  <tbody>\n",
              "    <tr>\n",
              "      <th>5/1/2017</th>\n",
              "      <td>89.0</td>\n",
              "      <td>69.0</td>\n",
              "      <td>56.0</td>\n",
              "    </tr>\n",
              "    <tr>\n",
              "      <th>5/2/2017</th>\n",
              "      <td>42.0</td>\n",
              "      <td>NaN</td>\n",
              "      <td>58.0</td>\n",
              "    </tr>\n",
              "  </tbody>\n",
              "</table>\n",
              "</div>"
            ],
            "text/plain": [
              "City      beijing  mumbai  new york\n",
              "Date                               \n",
              "5/1/2017     89.0    69.0      56.0\n",
              "5/2/2017     42.0     NaN      58.0"
            ]
          },
          "metadata": {
            "tags": []
          },
          "execution_count": 55
        }
      ]
    },
    {
      "cell_type": "code",
      "metadata": {
        "id": "19qiQnOaQO12",
        "colab_type": "code",
        "outputId": "9dc42d77-9004-43fc-8c03-2d41f8dda3f8",
        "colab": {
          "base_uri": "https://localhost:8080/",
          "height": 297
        }
      },
      "source": [
        "df = pd.DataFrame({\"Date\":[\"5/1/2017\",\"5/1/2017\",\"5/2/2017\",\"5/2/2017\",\"5/1/2017\",\"5/1/2017\",\"5/2/2017\",\"5/2/2017\"],\n",
        "                   \"City\":[\"new york\",\"new york\",\"new york\",\"new york\",\"beijing\", \"beijing\",\"beijing\", \"beijing\"],\n",
        "                   \"Temperature\":[65,66,75,78,65,66,75,78],\n",
        "                   \"Humidity\":[56,58,89,42,56,58,89,42]})\n",
        "df"
      ],
      "execution_count": 0,
      "outputs": [
        {
          "output_type": "execute_result",
          "data": {
            "text/html": [
              "<div>\n",
              "<style scoped>\n",
              "    .dataframe tbody tr th:only-of-type {\n",
              "        vertical-align: middle;\n",
              "    }\n",
              "\n",
              "    .dataframe tbody tr th {\n",
              "        vertical-align: top;\n",
              "    }\n",
              "\n",
              "    .dataframe thead th {\n",
              "        text-align: right;\n",
              "    }\n",
              "</style>\n",
              "<table border=\"1\" class=\"dataframe\">\n",
              "  <thead>\n",
              "    <tr style=\"text-align: right;\">\n",
              "      <th></th>\n",
              "      <th>Date</th>\n",
              "      <th>City</th>\n",
              "      <th>Temperature</th>\n",
              "      <th>Humidity</th>\n",
              "    </tr>\n",
              "  </thead>\n",
              "  <tbody>\n",
              "    <tr>\n",
              "      <th>0</th>\n",
              "      <td>5/1/2017</td>\n",
              "      <td>new york</td>\n",
              "      <td>65</td>\n",
              "      <td>56</td>\n",
              "    </tr>\n",
              "    <tr>\n",
              "      <th>1</th>\n",
              "      <td>5/1/2017</td>\n",
              "      <td>new york</td>\n",
              "      <td>66</td>\n",
              "      <td>58</td>\n",
              "    </tr>\n",
              "    <tr>\n",
              "      <th>2</th>\n",
              "      <td>5/2/2017</td>\n",
              "      <td>new york</td>\n",
              "      <td>75</td>\n",
              "      <td>89</td>\n",
              "    </tr>\n",
              "    <tr>\n",
              "      <th>3</th>\n",
              "      <td>5/2/2017</td>\n",
              "      <td>new york</td>\n",
              "      <td>78</td>\n",
              "      <td>42</td>\n",
              "    </tr>\n",
              "    <tr>\n",
              "      <th>4</th>\n",
              "      <td>5/1/2017</td>\n",
              "      <td>beijing</td>\n",
              "      <td>65</td>\n",
              "      <td>56</td>\n",
              "    </tr>\n",
              "    <tr>\n",
              "      <th>5</th>\n",
              "      <td>5/1/2017</td>\n",
              "      <td>beijing</td>\n",
              "      <td>66</td>\n",
              "      <td>58</td>\n",
              "    </tr>\n",
              "    <tr>\n",
              "      <th>6</th>\n",
              "      <td>5/2/2017</td>\n",
              "      <td>beijing</td>\n",
              "      <td>75</td>\n",
              "      <td>89</td>\n",
              "    </tr>\n",
              "    <tr>\n",
              "      <th>7</th>\n",
              "      <td>5/2/2017</td>\n",
              "      <td>beijing</td>\n",
              "      <td>78</td>\n",
              "      <td>42</td>\n",
              "    </tr>\n",
              "  </tbody>\n",
              "</table>\n",
              "</div>"
            ],
            "text/plain": [
              "       Date      City  Temperature  Humidity\n",
              "0  5/1/2017  new york           65        56\n",
              "1  5/1/2017  new york           66        58\n",
              "2  5/2/2017  new york           75        89\n",
              "3  5/2/2017  new york           78        42\n",
              "4  5/1/2017   beijing           65        56\n",
              "5  5/1/2017   beijing           66        58\n",
              "6  5/2/2017   beijing           75        89\n",
              "7  5/2/2017   beijing           78        42"
            ]
          },
          "metadata": {
            "tags": []
          },
          "execution_count": 63
        }
      ]
    },
    {
      "cell_type": "code",
      "metadata": {
        "id": "B5XCCScLQO6J",
        "colab_type": "code",
        "outputId": "e6d32de8-3860-4969-8eea-bbad2a96dd08",
        "colab": {
          "base_uri": "https://localhost:8080/",
          "height": 173
        }
      },
      "source": [
        "df.pivot_table(index=\"City\",columns=\"Date\", aggfunc=\"mean\")"
      ],
      "execution_count": 0,
      "outputs": [
        {
          "output_type": "execute_result",
          "data": {
            "text/html": [
              "<div>\n",
              "<style scoped>\n",
              "    .dataframe tbody tr th:only-of-type {\n",
              "        vertical-align: middle;\n",
              "    }\n",
              "\n",
              "    .dataframe tbody tr th {\n",
              "        vertical-align: top;\n",
              "    }\n",
              "\n",
              "    .dataframe thead tr th {\n",
              "        text-align: left;\n",
              "    }\n",
              "\n",
              "    .dataframe thead tr:last-of-type th {\n",
              "        text-align: right;\n",
              "    }\n",
              "</style>\n",
              "<table border=\"1\" class=\"dataframe\">\n",
              "  <thead>\n",
              "    <tr>\n",
              "      <th></th>\n",
              "      <th colspan=\"2\" halign=\"left\">Humidity</th>\n",
              "      <th colspan=\"2\" halign=\"left\">Temperature</th>\n",
              "    </tr>\n",
              "    <tr>\n",
              "      <th>Date</th>\n",
              "      <th>5/1/2017</th>\n",
              "      <th>5/2/2017</th>\n",
              "      <th>5/1/2017</th>\n",
              "      <th>5/2/2017</th>\n",
              "    </tr>\n",
              "    <tr>\n",
              "      <th>City</th>\n",
              "      <th></th>\n",
              "      <th></th>\n",
              "      <th></th>\n",
              "      <th></th>\n",
              "    </tr>\n",
              "  </thead>\n",
              "  <tbody>\n",
              "    <tr>\n",
              "      <th>beijing</th>\n",
              "      <td>57.0</td>\n",
              "      <td>65.5</td>\n",
              "      <td>65.5</td>\n",
              "      <td>76.5</td>\n",
              "    </tr>\n",
              "    <tr>\n",
              "      <th>new york</th>\n",
              "      <td>57.0</td>\n",
              "      <td>65.5</td>\n",
              "      <td>65.5</td>\n",
              "      <td>76.5</td>\n",
              "    </tr>\n",
              "  </tbody>\n",
              "</table>\n",
              "</div>"
            ],
            "text/plain": [
              "         Humidity          Temperature         \n",
              "Date     5/1/2017 5/2/2017    5/1/2017 5/2/2017\n",
              "City                                           \n",
              "beijing      57.0     65.5        65.5     76.5\n",
              "new york     57.0     65.5        65.5     76.5"
            ]
          },
          "metadata": {
            "tags": []
          },
          "execution_count": 64
        }
      ]
    },
    {
      "cell_type": "code",
      "metadata": {
        "id": "AETdNTWIQOyv",
        "colab_type": "code",
        "outputId": "74bf85f7-20d9-4a53-8a9b-1cec10697725",
        "colab": {
          "base_uri": "https://localhost:8080/",
          "height": 204
        }
      },
      "source": [
        "df.pivot_table(index=\"City\",columns=\"Date\", aggfunc=\"mean\", margins=True)"
      ],
      "execution_count": 0,
      "outputs": [
        {
          "output_type": "execute_result",
          "data": {
            "text/html": [
              "<div>\n",
              "<style scoped>\n",
              "    .dataframe tbody tr th:only-of-type {\n",
              "        vertical-align: middle;\n",
              "    }\n",
              "\n",
              "    .dataframe tbody tr th {\n",
              "        vertical-align: top;\n",
              "    }\n",
              "\n",
              "    .dataframe thead tr th {\n",
              "        text-align: left;\n",
              "    }\n",
              "\n",
              "    .dataframe thead tr:last-of-type th {\n",
              "        text-align: right;\n",
              "    }\n",
              "</style>\n",
              "<table border=\"1\" class=\"dataframe\">\n",
              "  <thead>\n",
              "    <tr>\n",
              "      <th></th>\n",
              "      <th colspan=\"3\" halign=\"left\">Humidity</th>\n",
              "      <th colspan=\"3\" halign=\"left\">Temperature</th>\n",
              "    </tr>\n",
              "    <tr>\n",
              "      <th>Date</th>\n",
              "      <th>5/1/2017</th>\n",
              "      <th>5/2/2017</th>\n",
              "      <th>All</th>\n",
              "      <th>5/1/2017</th>\n",
              "      <th>5/2/2017</th>\n",
              "      <th>All</th>\n",
              "    </tr>\n",
              "    <tr>\n",
              "      <th>City</th>\n",
              "      <th></th>\n",
              "      <th></th>\n",
              "      <th></th>\n",
              "      <th></th>\n",
              "      <th></th>\n",
              "      <th></th>\n",
              "    </tr>\n",
              "  </thead>\n",
              "  <tbody>\n",
              "    <tr>\n",
              "      <th>beijing</th>\n",
              "      <td>57.0</td>\n",
              "      <td>65.5</td>\n",
              "      <td>61.25</td>\n",
              "      <td>65.5</td>\n",
              "      <td>76.5</td>\n",
              "      <td>71.0</td>\n",
              "    </tr>\n",
              "    <tr>\n",
              "      <th>new york</th>\n",
              "      <td>57.0</td>\n",
              "      <td>65.5</td>\n",
              "      <td>61.25</td>\n",
              "      <td>65.5</td>\n",
              "      <td>76.5</td>\n",
              "      <td>71.0</td>\n",
              "    </tr>\n",
              "    <tr>\n",
              "      <th>All</th>\n",
              "      <td>57.0</td>\n",
              "      <td>65.5</td>\n",
              "      <td>61.25</td>\n",
              "      <td>65.5</td>\n",
              "      <td>76.5</td>\n",
              "      <td>71.0</td>\n",
              "    </tr>\n",
              "  </tbody>\n",
              "</table>\n",
              "</div>"
            ],
            "text/plain": [
              "         Humidity                 Temperature               \n",
              "Date     5/1/2017 5/2/2017    All    5/1/2017 5/2/2017   All\n",
              "City                                                        \n",
              "beijing      57.0     65.5  61.25        65.5     76.5  71.0\n",
              "new york     57.0     65.5  61.25        65.5     76.5  71.0\n",
              "All          57.0     65.5  61.25        65.5     76.5  71.0"
            ]
          },
          "metadata": {
            "tags": []
          },
          "execution_count": 66
        }
      ]
    },
    {
      "cell_type": "code",
      "metadata": {
        "id": "024hrfRnTt7Y",
        "colab_type": "code",
        "outputId": "add2e271-2485-45f6-a0eb-e914dd51d4a0",
        "colab": {
          "base_uri": "https://localhost:8080/",
          "height": 297
        }
      },
      "source": [
        "df = pd.DataFrame({\"Date\":[\"1/1/2017\",\"1/2/2017\",\"1/5/2017\",\"1/10/2017\",\"1/1/2017\",\"1/2/2017\",\"1/5/2017\",\"1/10/2017\"],\n",
        "                   \"City\":[\"new york\",\"new york\",\"new york\",\"new york\",\"beijing\", \"beijing\",\"beijing\", \"beijing\"],\n",
        "                   \"Temperature\":[65,66,75,78,65,66,75,78],\n",
        "                   \"Humidity\":[56,58,89,42,56,58,89,42]})\n",
        "df"
      ],
      "execution_count": 0,
      "outputs": [
        {
          "output_type": "execute_result",
          "data": {
            "text/html": [
              "<div>\n",
              "<style scoped>\n",
              "    .dataframe tbody tr th:only-of-type {\n",
              "        vertical-align: middle;\n",
              "    }\n",
              "\n",
              "    .dataframe tbody tr th {\n",
              "        vertical-align: top;\n",
              "    }\n",
              "\n",
              "    .dataframe thead th {\n",
              "        text-align: right;\n",
              "    }\n",
              "</style>\n",
              "<table border=\"1\" class=\"dataframe\">\n",
              "  <thead>\n",
              "    <tr style=\"text-align: right;\">\n",
              "      <th></th>\n",
              "      <th>Date</th>\n",
              "      <th>City</th>\n",
              "      <th>Temperature</th>\n",
              "      <th>Humidity</th>\n",
              "    </tr>\n",
              "  </thead>\n",
              "  <tbody>\n",
              "    <tr>\n",
              "      <th>0</th>\n",
              "      <td>1/1/2017</td>\n",
              "      <td>new york</td>\n",
              "      <td>65</td>\n",
              "      <td>56</td>\n",
              "    </tr>\n",
              "    <tr>\n",
              "      <th>1</th>\n",
              "      <td>1/2/2017</td>\n",
              "      <td>new york</td>\n",
              "      <td>66</td>\n",
              "      <td>58</td>\n",
              "    </tr>\n",
              "    <tr>\n",
              "      <th>2</th>\n",
              "      <td>1/5/2017</td>\n",
              "      <td>new york</td>\n",
              "      <td>75</td>\n",
              "      <td>89</td>\n",
              "    </tr>\n",
              "    <tr>\n",
              "      <th>3</th>\n",
              "      <td>1/10/2017</td>\n",
              "      <td>new york</td>\n",
              "      <td>78</td>\n",
              "      <td>42</td>\n",
              "    </tr>\n",
              "    <tr>\n",
              "      <th>4</th>\n",
              "      <td>1/1/2017</td>\n",
              "      <td>beijing</td>\n",
              "      <td>65</td>\n",
              "      <td>56</td>\n",
              "    </tr>\n",
              "    <tr>\n",
              "      <th>5</th>\n",
              "      <td>1/2/2017</td>\n",
              "      <td>beijing</td>\n",
              "      <td>66</td>\n",
              "      <td>58</td>\n",
              "    </tr>\n",
              "    <tr>\n",
              "      <th>6</th>\n",
              "      <td>1/5/2017</td>\n",
              "      <td>beijing</td>\n",
              "      <td>75</td>\n",
              "      <td>89</td>\n",
              "    </tr>\n",
              "    <tr>\n",
              "      <th>7</th>\n",
              "      <td>1/10/2017</td>\n",
              "      <td>beijing</td>\n",
              "      <td>78</td>\n",
              "      <td>42</td>\n",
              "    </tr>\n",
              "  </tbody>\n",
              "</table>\n",
              "</div>"
            ],
            "text/plain": [
              "        Date      City  Temperature  Humidity\n",
              "0   1/1/2017  new york           65        56\n",
              "1   1/2/2017  new york           66        58\n",
              "2   1/5/2017  new york           75        89\n",
              "3  1/10/2017  new york           78        42\n",
              "4   1/1/2017   beijing           65        56\n",
              "5   1/2/2017   beijing           66        58\n",
              "6   1/5/2017   beijing           75        89\n",
              "7  1/10/2017   beijing           78        42"
            ]
          },
          "metadata": {
            "tags": []
          },
          "execution_count": 71
        }
      ]
    },
    {
      "cell_type": "code",
      "metadata": {
        "id": "7FiJN2nTTuJ9",
        "colab_type": "code",
        "outputId": "2cb2cbc0-511d-4491-a40b-c9bf1446c5f8",
        "colab": {
          "base_uri": "https://localhost:8080/",
          "height": 297
        }
      },
      "source": [
        "df['Date'] = pd.to_datetime(df['Date'])\n",
        "df"
      ],
      "execution_count": 0,
      "outputs": [
        {
          "output_type": "execute_result",
          "data": {
            "text/html": [
              "<div>\n",
              "<style scoped>\n",
              "    .dataframe tbody tr th:only-of-type {\n",
              "        vertical-align: middle;\n",
              "    }\n",
              "\n",
              "    .dataframe tbody tr th {\n",
              "        vertical-align: top;\n",
              "    }\n",
              "\n",
              "    .dataframe thead th {\n",
              "        text-align: right;\n",
              "    }\n",
              "</style>\n",
              "<table border=\"1\" class=\"dataframe\">\n",
              "  <thead>\n",
              "    <tr style=\"text-align: right;\">\n",
              "      <th></th>\n",
              "      <th>Date</th>\n",
              "      <th>City</th>\n",
              "      <th>Temperature</th>\n",
              "      <th>Humidity</th>\n",
              "    </tr>\n",
              "  </thead>\n",
              "  <tbody>\n",
              "    <tr>\n",
              "      <th>0</th>\n",
              "      <td>2017-01-01</td>\n",
              "      <td>new york</td>\n",
              "      <td>65</td>\n",
              "      <td>56</td>\n",
              "    </tr>\n",
              "    <tr>\n",
              "      <th>1</th>\n",
              "      <td>2017-01-02</td>\n",
              "      <td>new york</td>\n",
              "      <td>66</td>\n",
              "      <td>58</td>\n",
              "    </tr>\n",
              "    <tr>\n",
              "      <th>2</th>\n",
              "      <td>2017-01-05</td>\n",
              "      <td>new york</td>\n",
              "      <td>75</td>\n",
              "      <td>89</td>\n",
              "    </tr>\n",
              "    <tr>\n",
              "      <th>3</th>\n",
              "      <td>2017-01-10</td>\n",
              "      <td>new york</td>\n",
              "      <td>78</td>\n",
              "      <td>42</td>\n",
              "    </tr>\n",
              "    <tr>\n",
              "      <th>4</th>\n",
              "      <td>2017-01-01</td>\n",
              "      <td>beijing</td>\n",
              "      <td>65</td>\n",
              "      <td>56</td>\n",
              "    </tr>\n",
              "    <tr>\n",
              "      <th>5</th>\n",
              "      <td>2017-01-02</td>\n",
              "      <td>beijing</td>\n",
              "      <td>66</td>\n",
              "      <td>58</td>\n",
              "    </tr>\n",
              "    <tr>\n",
              "      <th>6</th>\n",
              "      <td>2017-01-05</td>\n",
              "      <td>beijing</td>\n",
              "      <td>75</td>\n",
              "      <td>89</td>\n",
              "    </tr>\n",
              "    <tr>\n",
              "      <th>7</th>\n",
              "      <td>2017-01-10</td>\n",
              "      <td>beijing</td>\n",
              "      <td>78</td>\n",
              "      <td>42</td>\n",
              "    </tr>\n",
              "  </tbody>\n",
              "</table>\n",
              "</div>"
            ],
            "text/plain": [
              "        Date      City  Temperature  Humidity\n",
              "0 2017-01-01  new york           65        56\n",
              "1 2017-01-02  new york           66        58\n",
              "2 2017-01-05  new york           75        89\n",
              "3 2017-01-10  new york           78        42\n",
              "4 2017-01-01   beijing           65        56\n",
              "5 2017-01-02   beijing           66        58\n",
              "6 2017-01-05   beijing           75        89\n",
              "7 2017-01-10   beijing           78        42"
            ]
          },
          "metadata": {
            "tags": []
          },
          "execution_count": 72
        }
      ]
    },
    {
      "cell_type": "code",
      "metadata": {
        "id": "M673mXuNVxgL",
        "colab_type": "code",
        "outputId": "fe94ebf0-22ee-4fe1-92c2-7eb62193f3c4",
        "colab": {
          "base_uri": "https://localhost:8080/",
          "height": 142
        }
      },
      "source": [
        "df.pivot_table(index=pd.Grouper(freq='M',key='Date'),columns='City')"
      ],
      "execution_count": 0,
      "outputs": [
        {
          "output_type": "execute_result",
          "data": {
            "text/html": [
              "<div>\n",
              "<style scoped>\n",
              "    .dataframe tbody tr th:only-of-type {\n",
              "        vertical-align: middle;\n",
              "    }\n",
              "\n",
              "    .dataframe tbody tr th {\n",
              "        vertical-align: top;\n",
              "    }\n",
              "\n",
              "    .dataframe thead tr th {\n",
              "        text-align: left;\n",
              "    }\n",
              "\n",
              "    .dataframe thead tr:last-of-type th {\n",
              "        text-align: right;\n",
              "    }\n",
              "</style>\n",
              "<table border=\"1\" class=\"dataframe\">\n",
              "  <thead>\n",
              "    <tr>\n",
              "      <th></th>\n",
              "      <th colspan=\"2\" halign=\"left\">Humidity</th>\n",
              "      <th colspan=\"2\" halign=\"left\">Temperature</th>\n",
              "    </tr>\n",
              "    <tr>\n",
              "      <th>City</th>\n",
              "      <th>beijing</th>\n",
              "      <th>new york</th>\n",
              "      <th>beijing</th>\n",
              "      <th>new york</th>\n",
              "    </tr>\n",
              "    <tr>\n",
              "      <th>Date</th>\n",
              "      <th></th>\n",
              "      <th></th>\n",
              "      <th></th>\n",
              "      <th></th>\n",
              "    </tr>\n",
              "  </thead>\n",
              "  <tbody>\n",
              "    <tr>\n",
              "      <th>2017-01-31</th>\n",
              "      <td>61.25</td>\n",
              "      <td>61.25</td>\n",
              "      <td>71</td>\n",
              "      <td>71</td>\n",
              "    </tr>\n",
              "  </tbody>\n",
              "</table>\n",
              "</div>"
            ],
            "text/plain": [
              "           Humidity          Temperature         \n",
              "City        beijing new york     beijing new york\n",
              "Date                                             \n",
              "2017-01-31    61.25    61.25          71       71"
            ]
          },
          "metadata": {
            "tags": []
          },
          "execution_count": 73
        }
      ]
    },
    {
      "cell_type": "markdown",
      "metadata": {
        "id": "MGFGrjAbWqGd",
        "colab_type": "text"
      },
      "source": [
        "##AsType"
      ]
    },
    {
      "cell_type": "code",
      "metadata": {
        "id": "2dG_Q4U8WwPt",
        "colab_type": "code",
        "outputId": "b4bb89f9-8262-4469-db90-c4c64898b026",
        "colab": {
          "base_uri": "https://localhost:8080/",
          "height": 111
        }
      },
      "source": [
        "datos = {'X':[2,3], 'Y':[5,7]}\n",
        "df = pd.DataFrame(datos)\n",
        "df"
      ],
      "execution_count": 0,
      "outputs": [
        {
          "output_type": "execute_result",
          "data": {
            "text/html": [
              "<div>\n",
              "<style scoped>\n",
              "    .dataframe tbody tr th:only-of-type {\n",
              "        vertical-align: middle;\n",
              "    }\n",
              "\n",
              "    .dataframe tbody tr th {\n",
              "        vertical-align: top;\n",
              "    }\n",
              "\n",
              "    .dataframe thead th {\n",
              "        text-align: right;\n",
              "    }\n",
              "</style>\n",
              "<table border=\"1\" class=\"dataframe\">\n",
              "  <thead>\n",
              "    <tr style=\"text-align: right;\">\n",
              "      <th></th>\n",
              "      <th>X</th>\n",
              "      <th>Y</th>\n",
              "    </tr>\n",
              "  </thead>\n",
              "  <tbody>\n",
              "    <tr>\n",
              "      <th>0</th>\n",
              "      <td>2</td>\n",
              "      <td>5</td>\n",
              "    </tr>\n",
              "    <tr>\n",
              "      <th>1</th>\n",
              "      <td>3</td>\n",
              "      <td>7</td>\n",
              "    </tr>\n",
              "  </tbody>\n",
              "</table>\n",
              "</div>"
            ],
            "text/plain": [
              "   X  Y\n",
              "0  2  5\n",
              "1  3  7"
            ]
          },
          "metadata": {
            "tags": []
          },
          "execution_count": 76
        }
      ]
    },
    {
      "cell_type": "code",
      "metadata": {
        "id": "DR7lWElLaG3t",
        "colab_type": "code",
        "outputId": "3cb8e0b5-5906-49ac-d3d7-1aea8bb73a25",
        "colab": {
          "base_uri": "https://localhost:8080/",
          "height": 170
        }
      },
      "source": [
        "df.info()"
      ],
      "execution_count": 0,
      "outputs": [
        {
          "output_type": "stream",
          "text": [
            "<class 'pandas.core.frame.DataFrame'>\n",
            "RangeIndex: 2 entries, 0 to 1\n",
            "Data columns (total 2 columns):\n",
            " #   Column  Non-Null Count  Dtype\n",
            "---  ------  --------------  -----\n",
            " 0   X       2 non-null      int64\n",
            " 1   Y       2 non-null      int64\n",
            "dtypes: int64(2)\n",
            "memory usage: 160.0 bytes\n"
          ],
          "name": "stdout"
        }
      ]
    },
    {
      "cell_type": "code",
      "metadata": {
        "id": "bIS1oLTOaUU5",
        "colab_type": "code",
        "outputId": "bff7f88b-1a2f-41c9-8010-1dae46eda896",
        "colab": {
          "base_uri": "https://localhost:8080/",
          "height": 68
        }
      },
      "source": [
        "df.dtypes"
      ],
      "execution_count": 0,
      "outputs": [
        {
          "output_type": "execute_result",
          "data": {
            "text/plain": [
              "X    int64\n",
              "Y    int64\n",
              "dtype: object"
            ]
          },
          "metadata": {
            "tags": []
          },
          "execution_count": 79
        }
      ]
    },
    {
      "cell_type": "code",
      "metadata": {
        "id": "iSp02UdVaZA7",
        "colab_type": "code",
        "outputId": "bcf0a658-dc70-4d0a-cb92-9c7d2dbb82b9",
        "colab": {
          "base_uri": "https://localhost:8080/",
          "height": 68
        }
      },
      "source": [
        "df.astype({'X':'int32'}).dtypes"
      ],
      "execution_count": 0,
      "outputs": [
        {
          "output_type": "execute_result",
          "data": {
            "text/plain": [
              "X    int32\n",
              "Y    int64\n",
              "dtype: object"
            ]
          },
          "metadata": {
            "tags": []
          },
          "execution_count": 82
        }
      ]
    },
    {
      "cell_type": "code",
      "metadata": {
        "id": "sUpH8-wjb8sP",
        "colab_type": "code",
        "outputId": "d410dd74-320a-4c50-f62e-32e7553557d7",
        "colab": {
          "base_uri": "https://localhost:8080/",
          "height": 68
        }
      },
      "source": [
        "df.astype({'X':'int32', 'Y':'float64'}).dtypes"
      ],
      "execution_count": 0,
      "outputs": [
        {
          "output_type": "execute_result",
          "data": {
            "text/plain": [
              "X      int32\n",
              "Y    float64\n",
              "dtype: object"
            ]
          },
          "metadata": {
            "tags": []
          },
          "execution_count": 83
        }
      ]
    }
  ]
}